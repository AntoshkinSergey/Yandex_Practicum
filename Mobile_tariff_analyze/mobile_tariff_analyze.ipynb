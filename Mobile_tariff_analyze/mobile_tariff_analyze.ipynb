{
 "cells": [
  {
   "cell_type": "markdown",
   "metadata": {},
   "source": [
    "## Проект\n",
    "<a id='intro'></a>"
   ]
  },
  {
   "cell_type": "markdown",
   "metadata": {},
   "source": [
    "### Описание проекта <a id='begin'></a>\n",
    "Для корректировки рекламного бюджета двух тарифов оператора сотовой связи необходимо оценить, какой тариф приносит больше денег.\n",
    "Анализируемые дынные по тарифам представлены сведениями по потребляемым ресурсам (время разговора, SMS, Интернет-трафик) пользователей различных регионов РФ за 2018 год (500 клиентов выбраны случайно).\n",
    "\n",
    "**Описание тарифов**\n",
    "\n",
    "Тариф «Смарт»\n",
    "* Ежемесячная плата: 550 рублей\n",
    "* Включено 500 минут разговора, 50 сообщений и 15 Гб интернет-трафика\n",
    "* Стоимость услуг сверх тарифного пакета: 1. минута разговора: 3 рубля («Мегалайн» всегда округляет вверх значения минут и мегабайтов. Если пользователь проговорил всего 1 секунду, в тарифе засчитывается целая минута); 2. сообщение: 3 рубля; 3. 1 Гб интернет-трафика: 200 рублей.\n",
    "\n",
    "Тариф «Ультра»\n",
    "* Ежемесячная плата: 1950 рублей\n",
    "* Включено 3000 минут разговора, 1000 сообщений и 30 Гб интернет-трафика\n",
    "* Стоимость услуг сверх тарифного пакета: 1. минута разговора: 1 рубль; 2. сообщение: 1 рубль; 3. 1 Гб интернет-трафика: 150 рублей.\n",
    "\n",
    "**Примечание:**\n",
    "* «Мегалайн» всегда округляет секунды до минут, а мегабайты — до гигабайт. Каждый звонок округляется отдельно: даже если он длился всего 1 секунду, будет засчитан как 1 минута.\n",
    "* Для веб-трафика отдельные сессии не считаются. Вместо этого общая сумма за месяц округляется в бо́льшую сторону. Если абонент использует 1025 мегабайт в этом месяце, с него возьмут плату за 2 гигабайта.\n",
    "* В данных вы найдёте звонки с нулевой продолжительностью. Это не ошибка: нулями обозначены пропущенные звонки, поэтому их не нужно удалять."
   ]
  },
  {
   "cell_type": "markdown",
   "metadata": {},
   "source": [
    "### Импортируемые библиотеки"
   ]
  },
  {
   "cell_type": "code",
   "execution_count": 1,
   "metadata": {},
   "outputs": [],
   "source": [
    "# блок импорта библиотек\n",
    "import pandas as pd # для работы с данными\n",
    "import seaborn as sb # библиотека доп графики\n",
    "import matplotlib.pyplot as plt # для доп операций по графике\n",
    "from scipy import stats as st # блок статистики для проверки статгипотез"
   ]
  },
  {
   "cell_type": "markdown",
   "metadata": {},
   "source": [
    "### Константы"
   ]
  },
  {
   "cell_type": "code",
   "execution_count": 2,
   "metadata": {},
   "outputs": [],
   "source": [
    "# параметр (константа), задающий формат даты\n",
    "DATE_FORMAT = \"%Y-%m-%d\""
   ]
  },
  {
   "cell_type": "markdown",
   "metadata": {},
   "source": [
    "### Пользовательские функции"
   ]
  },
  {
   "cell_type": "code",
   "execution_count": 3,
   "metadata": {},
   "outputs": [],
   "source": [
    "# блок пользовательских функций\n",
    "\n",
    "def mf_df_info(m_df):\n",
    "    \"\"\" Получение детальных сведений о полях DataFrame \n",
    "        =======================================================\n",
    "        m_df: передается анализируемый DataFrame\n",
    "        возвращаемое значение: DataFrame с описанием всех полей\n",
    "    \"\"\"\n",
    "    field_names = ['Наименование поля', 'Тип данных', 'Первое непустое значение','Кол-во пустых значений'\\\n",
    "                   , '% пустых значений', 'Кол-во уникальных значений' ]\n",
    "    row=[]\n",
    "    table = []\n",
    "    print('Размерность источника данных: ', m_df.shape)\n",
    "    print('Кол-во строк-дублей: ', m_df.duplicated().sum())\n",
    "    print('\\nПервые пять строк:')\n",
    "    display(m_df.head(5))\n",
    "    for i in m_df.columns:\n",
    "        if 1:\n",
    "            row = []\n",
    "            row.append(i) # 1\n",
    "            row.append(str(type(m_df[~m_df[i].isna()].reset_index()[i][0]))) # 2\n",
    "            row.append(m_df[m_df[i].notna()].reset_index()[i][0]) # 3\n",
    "            row.append(int(m_df[i].isna().sum())) # 4\n",
    "            row.append(round(m_df[i].isna().mean() * 100,1)) # 5\n",
    "            row.append(len(m_df[i].unique())) # 6            \n",
    "        table.append(row)\n",
    "    return (pd.DataFrame(data=table, columns=field_names)).sort_values(by='Тип данных', ascending=True)\n",
    "\n",
    "# -----------------------------------------------------\n",
    "def mf_box_range(series, scale):\n",
    "    \"\"\" Функция по расчету диапазона диаграммы размаха (нижнее и верхнее значение доверительного интервала) для столбца\n",
    "        series - столбец (Series) данных\n",
    "        scale - коэффициент уса\n",
    "        Выходные данные:\n",
    "            квартиль 1\n",
    "            квартиль 3\n",
    "            нижняя граница доверительного интервала\n",
    "            верхняя граница доверительного интервала\n",
    "            доля строк за границами доверительного интервала в %\n",
    "            среднеарфметическое по всем данным\n",
    "            среднеарфметическое в пределах доверительного интервала\n",
    "    \"\"\"\n",
    "    ser = series.describe() # получение стат характеристик по полученной выборке\n",
    "    q1 = ser['25%'] # первый квартиль\n",
    "    q3 = ser['75%'] # третий квартиль\n",
    "    min_range = q1-scale*(q3-q1) # минимальное значение уса\n",
    "    max_range = q3+scale*(q3-q1) # максимальное значение уса\n",
    "    if min_range < ser['min']: min_range = ser['min']; # корректировка по данным\n",
    "    if max_range > ser['max']: max_range = ser['max']; # корректировка по данным\n",
    "    \n",
    "    # доля строк за границами доверительного интервала\n",
    "    out_share = round(100-len(series[(series>=min_range)&(series<=max_range)])*100/len(series),1) \n",
    "    \n",
    "    mean_all = series.mean() # среднеарфметическое по всем данным\n",
    "    \n",
    "    # среднеарфметическое в пределах доверительного интервала\n",
    "    mean_range = series[(series>=min_range)&(series<=max_range)].mean() \n",
    "    \n",
    "    index_list = ['q1', 'q3', 'min_range', 'max_range', 'out_share', 'mean_all', 'mean_range']\n",
    "    data_list = [q1, q3, min_range, max_range, out_share, mean_all, mean_range]\n",
    "    return pd.DataFrame(index=index_list, data={'Значения показателей':data_list})\n",
    "\n",
    "\n",
    "def mf_df_type_optimization(df):\n",
    "    \"\"\"\n",
    "    Data preprocessing\n",
    "    Pandas DataFrame (df) digital column types optimization\n",
    "    -----------------\n",
    "    return(\n",
    "        memory before optimization in bytes\n",
    "        memory after optimization in bytes\n",
    "        compression ratio %\n",
    "    )\n",
    "    \"\"\"\n",
    "    mem=[df.memory_usage('deep').sum()] # mem before optimization in bytes\n",
    "    types=['int8', 'int16', 'int32', 'int64', 'uint8', 'uint16', 'uint32', 'uint64', 'float']\n",
    "    for col in df.select_dtypes(types).columns:\n",
    "        if (df[col]%1).abs().sum() == 0: # int/uint \n",
    "            if df[col].min() < 0: # int\n",
    "                df[col] = pd.to_numeric(df[col], downcast='integer')\n",
    "            else: # uint\n",
    "                df[col] = pd.to_numeric(df[col], downcast='unsigned')\n",
    "        else: # float\n",
    "            df[col] = pd.to_numeric(df[col], downcast='float')\n",
    "    mem.append(df.memory_usage('deep').sum()) # mem after optimization in bytes\n",
    "    mem.append(round(mem[1]*100/mem[0],1)) # compression ratio %\n",
    "    return mem\n",
    "\n",
    "\n",
    "# ========================================= целевые функции\n",
    "def mf_revenue(*arg):\n",
    "    \"\"\" Расчет помесячной выручки с каждого клиента \"\"\"\n",
    "    x = arg[0]\n",
    "    return (\n",
    "        x['rub_monthly_fee']      # абонентская плата\n",
    "      + (x['calls_sum'] - x['minutes_included'] if x['calls_sum'] > x['minutes_included'] else 0)\n",
    "            *x['rub_per_minute']  # сверх тарифа за минуты разговора\n",
    "      + (x['sms_count'] - x['messages_included'] if x['sms_count'] > x['messages_included'] else 0)\n",
    "            *x['rub_per_message'] # сверх тарифа за сообщения\n",
    "      + (x['gb_sum'] - x['mb_per_month_included']/1024 if x['gb_sum'] > x['mb_per_month_included']/1024 else 0)\n",
    "            *x['rub_per_gb']      # сверх тарифа за гигабайты\n",
    "    )   "
   ]
  },
  {
   "cell_type": "markdown",
   "metadata": {},
   "source": [
    "## Изучение данных из источников"
   ]
  },
  {
   "cell_type": "code",
   "execution_count": 4,
   "metadata": {
    "scrolled": false
   },
   "outputs": [],
   "source": [
    "# чтение и загрузка источников данных\n",
    "df_users = pd.read_csv('datasets/users.csv') \n",
    "df_calls = pd.read_csv('datasets/calls.csv')\n",
    "df_messages = pd.read_csv('datasets/messages.csv')\n",
    "df_internet = pd.read_csv('datasets/internet.csv')\n",
    "df_tariffs = pd.read_csv('datasets/tariffs.csv')"
   ]
  },
  {
   "cell_type": "code",
   "execution_count": 5,
   "metadata": {},
   "outputs": [
    {
     "data": {
      "text/html": [
       "<div>\n",
       "<style scoped>\n",
       "    .dataframe tbody tr th:only-of-type {\n",
       "        vertical-align: middle;\n",
       "    }\n",
       "\n",
       "    .dataframe tbody tr th {\n",
       "        vertical-align: top;\n",
       "    }\n",
       "\n",
       "    .dataframe thead th {\n",
       "        text-align: right;\n",
       "    }\n",
       "</style>\n",
       "<table border=\"1\" class=\"dataframe\">\n",
       "  <thead>\n",
       "    <tr style=\"text-align: right;\">\n",
       "      <th></th>\n",
       "      <th>tariff</th>\n",
       "    </tr>\n",
       "    <tr>\n",
       "      <th>tariff</th>\n",
       "      <th></th>\n",
       "    </tr>\n",
       "  </thead>\n",
       "  <tbody>\n",
       "    <tr>\n",
       "      <th>smart</th>\n",
       "      <td>351</td>\n",
       "    </tr>\n",
       "    <tr>\n",
       "      <th>ultra</th>\n",
       "      <td>149</td>\n",
       "    </tr>\n",
       "  </tbody>\n",
       "</table>\n",
       "</div>"
      ],
      "text/plain": [
       "        tariff\n",
       "tariff        \n",
       "smart      351\n",
       "ultra      149"
      ]
     },
     "execution_count": 5,
     "metadata": {},
     "output_type": "execute_result"
    }
   ],
   "source": [
    "df_users.pivot_table(index='tariff', aggfunc={'tariff':'count'})"
   ]
  },
  {
   "cell_type": "code",
   "execution_count": 6,
   "metadata": {
    "scrolled": false
   },
   "outputs": [
    {
     "name": "stdout",
     "output_type": "stream",
     "text": [
      " ======================= Анализ таблицы \"users\"\n",
      "Размерность источника данных:  (500, 8)\n",
      "Кол-во строк-дублей:  0\n",
      "\n",
      "Первые пять строк:\n"
     ]
    },
    {
     "data": {
      "text/html": [
       "<div>\n",
       "<style scoped>\n",
       "    .dataframe tbody tr th:only-of-type {\n",
       "        vertical-align: middle;\n",
       "    }\n",
       "\n",
       "    .dataframe tbody tr th {\n",
       "        vertical-align: top;\n",
       "    }\n",
       "\n",
       "    .dataframe thead th {\n",
       "        text-align: right;\n",
       "    }\n",
       "</style>\n",
       "<table border=\"1\" class=\"dataframe\">\n",
       "  <thead>\n",
       "    <tr style=\"text-align: right;\">\n",
       "      <th></th>\n",
       "      <th>user_id</th>\n",
       "      <th>age</th>\n",
       "      <th>churn_date</th>\n",
       "      <th>city</th>\n",
       "      <th>first_name</th>\n",
       "      <th>last_name</th>\n",
       "      <th>reg_date</th>\n",
       "      <th>tariff</th>\n",
       "    </tr>\n",
       "  </thead>\n",
       "  <tbody>\n",
       "    <tr>\n",
       "      <th>0</th>\n",
       "      <td>1000</td>\n",
       "      <td>52</td>\n",
       "      <td>NaN</td>\n",
       "      <td>Краснодар</td>\n",
       "      <td>Рафаил</td>\n",
       "      <td>Верещагин</td>\n",
       "      <td>2018-05-25</td>\n",
       "      <td>ultra</td>\n",
       "    </tr>\n",
       "    <tr>\n",
       "      <th>1</th>\n",
       "      <td>1001</td>\n",
       "      <td>41</td>\n",
       "      <td>NaN</td>\n",
       "      <td>Москва</td>\n",
       "      <td>Иван</td>\n",
       "      <td>Ежов</td>\n",
       "      <td>2018-11-01</td>\n",
       "      <td>smart</td>\n",
       "    </tr>\n",
       "    <tr>\n",
       "      <th>2</th>\n",
       "      <td>1002</td>\n",
       "      <td>59</td>\n",
       "      <td>NaN</td>\n",
       "      <td>Стерлитамак</td>\n",
       "      <td>Евгений</td>\n",
       "      <td>Абрамович</td>\n",
       "      <td>2018-06-17</td>\n",
       "      <td>smart</td>\n",
       "    </tr>\n",
       "    <tr>\n",
       "      <th>3</th>\n",
       "      <td>1003</td>\n",
       "      <td>23</td>\n",
       "      <td>NaN</td>\n",
       "      <td>Москва</td>\n",
       "      <td>Белла</td>\n",
       "      <td>Белякова</td>\n",
       "      <td>2018-08-17</td>\n",
       "      <td>ultra</td>\n",
       "    </tr>\n",
       "    <tr>\n",
       "      <th>4</th>\n",
       "      <td>1004</td>\n",
       "      <td>68</td>\n",
       "      <td>NaN</td>\n",
       "      <td>Новокузнецк</td>\n",
       "      <td>Татьяна</td>\n",
       "      <td>Авдеенко</td>\n",
       "      <td>2018-05-14</td>\n",
       "      <td>ultra</td>\n",
       "    </tr>\n",
       "  </tbody>\n",
       "</table>\n",
       "</div>"
      ],
      "text/plain": [
       "   user_id  age churn_date         city first_name  last_name    reg_date  \\\n",
       "0     1000   52        NaN    Краснодар     Рафаил  Верещагин  2018-05-25   \n",
       "1     1001   41        NaN       Москва       Иван       Ежов  2018-11-01   \n",
       "2     1002   59        NaN  Стерлитамак    Евгений  Абрамович  2018-06-17   \n",
       "3     1003   23        NaN       Москва      Белла   Белякова  2018-08-17   \n",
       "4     1004   68        NaN  Новокузнецк    Татьяна   Авдеенко  2018-05-14   \n",
       "\n",
       "  tariff  \n",
       "0  ultra  \n",
       "1  smart  \n",
       "2  smart  \n",
       "3  ultra  \n",
       "4  ultra  "
      ]
     },
     "metadata": {},
     "output_type": "display_data"
    },
    {
     "data": {
      "text/html": [
       "<div>\n",
       "<style scoped>\n",
       "    .dataframe tbody tr th:only-of-type {\n",
       "        vertical-align: middle;\n",
       "    }\n",
       "\n",
       "    .dataframe tbody tr th {\n",
       "        vertical-align: top;\n",
       "    }\n",
       "\n",
       "    .dataframe thead th {\n",
       "        text-align: right;\n",
       "    }\n",
       "</style>\n",
       "<table border=\"1\" class=\"dataframe\">\n",
       "  <thead>\n",
       "    <tr style=\"text-align: right;\">\n",
       "      <th></th>\n",
       "      <th>Наименование поля</th>\n",
       "      <th>Тип данных</th>\n",
       "      <th>Первое непустое значение</th>\n",
       "      <th>Кол-во пустых значений</th>\n",
       "      <th>% пустых значений</th>\n",
       "      <th>Кол-во уникальных значений</th>\n",
       "    </tr>\n",
       "  </thead>\n",
       "  <tbody>\n",
       "    <tr>\n",
       "      <th>0</th>\n",
       "      <td>user_id</td>\n",
       "      <td>&lt;class 'numpy.int64'&gt;</td>\n",
       "      <td>1000</td>\n",
       "      <td>0</td>\n",
       "      <td>0.0</td>\n",
       "      <td>500</td>\n",
       "    </tr>\n",
       "    <tr>\n",
       "      <th>1</th>\n",
       "      <td>age</td>\n",
       "      <td>&lt;class 'numpy.int64'&gt;</td>\n",
       "      <td>52</td>\n",
       "      <td>0</td>\n",
       "      <td>0.0</td>\n",
       "      <td>58</td>\n",
       "    </tr>\n",
       "    <tr>\n",
       "      <th>2</th>\n",
       "      <td>churn_date</td>\n",
       "      <td>&lt;class 'str'&gt;</td>\n",
       "      <td>2018-10-05</td>\n",
       "      <td>462</td>\n",
       "      <td>92.4</td>\n",
       "      <td>34</td>\n",
       "    </tr>\n",
       "    <tr>\n",
       "      <th>3</th>\n",
       "      <td>city</td>\n",
       "      <td>&lt;class 'str'&gt;</td>\n",
       "      <td>Краснодар</td>\n",
       "      <td>0</td>\n",
       "      <td>0.0</td>\n",
       "      <td>76</td>\n",
       "    </tr>\n",
       "    <tr>\n",
       "      <th>4</th>\n",
       "      <td>first_name</td>\n",
       "      <td>&lt;class 'str'&gt;</td>\n",
       "      <td>Рафаил</td>\n",
       "      <td>0</td>\n",
       "      <td>0.0</td>\n",
       "      <td>246</td>\n",
       "    </tr>\n",
       "    <tr>\n",
       "      <th>5</th>\n",
       "      <td>last_name</td>\n",
       "      <td>&lt;class 'str'&gt;</td>\n",
       "      <td>Верещагин</td>\n",
       "      <td>0</td>\n",
       "      <td>0.0</td>\n",
       "      <td>419</td>\n",
       "    </tr>\n",
       "    <tr>\n",
       "      <th>6</th>\n",
       "      <td>reg_date</td>\n",
       "      <td>&lt;class 'str'&gt;</td>\n",
       "      <td>2018-05-25</td>\n",
       "      <td>0</td>\n",
       "      <td>0.0</td>\n",
       "      <td>270</td>\n",
       "    </tr>\n",
       "    <tr>\n",
       "      <th>7</th>\n",
       "      <td>tariff</td>\n",
       "      <td>&lt;class 'str'&gt;</td>\n",
       "      <td>ultra</td>\n",
       "      <td>0</td>\n",
       "      <td>0.0</td>\n",
       "      <td>2</td>\n",
       "    </tr>\n",
       "  </tbody>\n",
       "</table>\n",
       "</div>"
      ],
      "text/plain": [
       "  Наименование поля             Тип данных Первое непустое значение  \\\n",
       "0           user_id  <class 'numpy.int64'>                     1000   \n",
       "1               age  <class 'numpy.int64'>                       52   \n",
       "2        churn_date          <class 'str'>               2018-10-05   \n",
       "3              city          <class 'str'>                Краснодар   \n",
       "4        first_name          <class 'str'>                   Рафаил   \n",
       "5         last_name          <class 'str'>                Верещагин   \n",
       "6          reg_date          <class 'str'>               2018-05-25   \n",
       "7            tariff          <class 'str'>                    ultra   \n",
       "\n",
       "   Кол-во пустых значений  % пустых значений  Кол-во уникальных значений  \n",
       "0                       0                0.0                         500  \n",
       "1                       0                0.0                          58  \n",
       "2                     462               92.4                          34  \n",
       "3                       0                0.0                          76  \n",
       "4                       0                0.0                         246  \n",
       "5                       0                0.0                         419  \n",
       "6                       0                0.0                         270  \n",
       "7                       0                0.0                           2  "
      ]
     },
     "metadata": {},
     "output_type": "display_data"
    },
    {
     "name": "stdout",
     "output_type": "stream",
     "text": [
      " ======================= Анализ таблицы \"calls\"\n",
      "Размерность источника данных:  (202607, 4)\n",
      "Кол-во строк-дублей:  0\n",
      "\n",
      "Первые пять строк:\n"
     ]
    },
    {
     "data": {
      "text/html": [
       "<div>\n",
       "<style scoped>\n",
       "    .dataframe tbody tr th:only-of-type {\n",
       "        vertical-align: middle;\n",
       "    }\n",
       "\n",
       "    .dataframe tbody tr th {\n",
       "        vertical-align: top;\n",
       "    }\n",
       "\n",
       "    .dataframe thead th {\n",
       "        text-align: right;\n",
       "    }\n",
       "</style>\n",
       "<table border=\"1\" class=\"dataframe\">\n",
       "  <thead>\n",
       "    <tr style=\"text-align: right;\">\n",
       "      <th></th>\n",
       "      <th>id</th>\n",
       "      <th>call_date</th>\n",
       "      <th>duration</th>\n",
       "      <th>user_id</th>\n",
       "    </tr>\n",
       "  </thead>\n",
       "  <tbody>\n",
       "    <tr>\n",
       "      <th>0</th>\n",
       "      <td>1000_0</td>\n",
       "      <td>2018-07-25</td>\n",
       "      <td>0.00</td>\n",
       "      <td>1000</td>\n",
       "    </tr>\n",
       "    <tr>\n",
       "      <th>1</th>\n",
       "      <td>1000_1</td>\n",
       "      <td>2018-08-17</td>\n",
       "      <td>0.00</td>\n",
       "      <td>1000</td>\n",
       "    </tr>\n",
       "    <tr>\n",
       "      <th>2</th>\n",
       "      <td>1000_2</td>\n",
       "      <td>2018-06-11</td>\n",
       "      <td>2.85</td>\n",
       "      <td>1000</td>\n",
       "    </tr>\n",
       "    <tr>\n",
       "      <th>3</th>\n",
       "      <td>1000_3</td>\n",
       "      <td>2018-09-21</td>\n",
       "      <td>13.80</td>\n",
       "      <td>1000</td>\n",
       "    </tr>\n",
       "    <tr>\n",
       "      <th>4</th>\n",
       "      <td>1000_4</td>\n",
       "      <td>2018-12-15</td>\n",
       "      <td>5.18</td>\n",
       "      <td>1000</td>\n",
       "    </tr>\n",
       "  </tbody>\n",
       "</table>\n",
       "</div>"
      ],
      "text/plain": [
       "       id   call_date  duration  user_id\n",
       "0  1000_0  2018-07-25      0.00     1000\n",
       "1  1000_1  2018-08-17      0.00     1000\n",
       "2  1000_2  2018-06-11      2.85     1000\n",
       "3  1000_3  2018-09-21     13.80     1000\n",
       "4  1000_4  2018-12-15      5.18     1000"
      ]
     },
     "metadata": {},
     "output_type": "display_data"
    },
    {
     "data": {
      "text/html": [
       "<div>\n",
       "<style scoped>\n",
       "    .dataframe tbody tr th:only-of-type {\n",
       "        vertical-align: middle;\n",
       "    }\n",
       "\n",
       "    .dataframe tbody tr th {\n",
       "        vertical-align: top;\n",
       "    }\n",
       "\n",
       "    .dataframe thead th {\n",
       "        text-align: right;\n",
       "    }\n",
       "</style>\n",
       "<table border=\"1\" class=\"dataframe\">\n",
       "  <thead>\n",
       "    <tr style=\"text-align: right;\">\n",
       "      <th></th>\n",
       "      <th>Наименование поля</th>\n",
       "      <th>Тип данных</th>\n",
       "      <th>Первое непустое значение</th>\n",
       "      <th>Кол-во пустых значений</th>\n",
       "      <th>% пустых значений</th>\n",
       "      <th>Кол-во уникальных значений</th>\n",
       "    </tr>\n",
       "  </thead>\n",
       "  <tbody>\n",
       "    <tr>\n",
       "      <th>2</th>\n",
       "      <td>duration</td>\n",
       "      <td>&lt;class 'numpy.float64'&gt;</td>\n",
       "      <td>0.0</td>\n",
       "      <td>0</td>\n",
       "      <td>0.0</td>\n",
       "      <td>2871</td>\n",
       "    </tr>\n",
       "    <tr>\n",
       "      <th>3</th>\n",
       "      <td>user_id</td>\n",
       "      <td>&lt;class 'numpy.int64'&gt;</td>\n",
       "      <td>1000</td>\n",
       "      <td>0</td>\n",
       "      <td>0.0</td>\n",
       "      <td>492</td>\n",
       "    </tr>\n",
       "    <tr>\n",
       "      <th>0</th>\n",
       "      <td>id</td>\n",
       "      <td>&lt;class 'str'&gt;</td>\n",
       "      <td>1000_0</td>\n",
       "      <td>0</td>\n",
       "      <td>0.0</td>\n",
       "      <td>202607</td>\n",
       "    </tr>\n",
       "    <tr>\n",
       "      <th>1</th>\n",
       "      <td>call_date</td>\n",
       "      <td>&lt;class 'str'&gt;</td>\n",
       "      <td>2018-07-25</td>\n",
       "      <td>0</td>\n",
       "      <td>0.0</td>\n",
       "      <td>365</td>\n",
       "    </tr>\n",
       "  </tbody>\n",
       "</table>\n",
       "</div>"
      ],
      "text/plain": [
       "  Наименование поля               Тип данных Первое непустое значение  \\\n",
       "2          duration  <class 'numpy.float64'>                      0.0   \n",
       "3           user_id    <class 'numpy.int64'>                     1000   \n",
       "0                id            <class 'str'>                   1000_0   \n",
       "1         call_date            <class 'str'>               2018-07-25   \n",
       "\n",
       "   Кол-во пустых значений  % пустых значений  Кол-во уникальных значений  \n",
       "2                       0                0.0                        2871  \n",
       "3                       0                0.0                         492  \n",
       "0                       0                0.0                      202607  \n",
       "1                       0                0.0                         365  "
      ]
     },
     "metadata": {},
     "output_type": "display_data"
    },
    {
     "name": "stdout",
     "output_type": "stream",
     "text": [
      " ======================= Анализ таблицы \"messages\"\n",
      "Размерность источника данных:  (123036, 3)\n",
      "Кол-во строк-дублей:  0\n",
      "\n",
      "Первые пять строк:\n"
     ]
    },
    {
     "data": {
      "text/html": [
       "<div>\n",
       "<style scoped>\n",
       "    .dataframe tbody tr th:only-of-type {\n",
       "        vertical-align: middle;\n",
       "    }\n",
       "\n",
       "    .dataframe tbody tr th {\n",
       "        vertical-align: top;\n",
       "    }\n",
       "\n",
       "    .dataframe thead th {\n",
       "        text-align: right;\n",
       "    }\n",
       "</style>\n",
       "<table border=\"1\" class=\"dataframe\">\n",
       "  <thead>\n",
       "    <tr style=\"text-align: right;\">\n",
       "      <th></th>\n",
       "      <th>id</th>\n",
       "      <th>message_date</th>\n",
       "      <th>user_id</th>\n",
       "    </tr>\n",
       "  </thead>\n",
       "  <tbody>\n",
       "    <tr>\n",
       "      <th>0</th>\n",
       "      <td>1000_0</td>\n",
       "      <td>2018-06-27</td>\n",
       "      <td>1000</td>\n",
       "    </tr>\n",
       "    <tr>\n",
       "      <th>1</th>\n",
       "      <td>1000_1</td>\n",
       "      <td>2018-10-08</td>\n",
       "      <td>1000</td>\n",
       "    </tr>\n",
       "    <tr>\n",
       "      <th>2</th>\n",
       "      <td>1000_2</td>\n",
       "      <td>2018-08-04</td>\n",
       "      <td>1000</td>\n",
       "    </tr>\n",
       "    <tr>\n",
       "      <th>3</th>\n",
       "      <td>1000_3</td>\n",
       "      <td>2018-06-16</td>\n",
       "      <td>1000</td>\n",
       "    </tr>\n",
       "    <tr>\n",
       "      <th>4</th>\n",
       "      <td>1000_4</td>\n",
       "      <td>2018-12-05</td>\n",
       "      <td>1000</td>\n",
       "    </tr>\n",
       "  </tbody>\n",
       "</table>\n",
       "</div>"
      ],
      "text/plain": [
       "       id message_date  user_id\n",
       "0  1000_0   2018-06-27     1000\n",
       "1  1000_1   2018-10-08     1000\n",
       "2  1000_2   2018-08-04     1000\n",
       "3  1000_3   2018-06-16     1000\n",
       "4  1000_4   2018-12-05     1000"
      ]
     },
     "metadata": {},
     "output_type": "display_data"
    },
    {
     "data": {
      "text/html": [
       "<div>\n",
       "<style scoped>\n",
       "    .dataframe tbody tr th:only-of-type {\n",
       "        vertical-align: middle;\n",
       "    }\n",
       "\n",
       "    .dataframe tbody tr th {\n",
       "        vertical-align: top;\n",
       "    }\n",
       "\n",
       "    .dataframe thead th {\n",
       "        text-align: right;\n",
       "    }\n",
       "</style>\n",
       "<table border=\"1\" class=\"dataframe\">\n",
       "  <thead>\n",
       "    <tr style=\"text-align: right;\">\n",
       "      <th></th>\n",
       "      <th>Наименование поля</th>\n",
       "      <th>Тип данных</th>\n",
       "      <th>Первое непустое значение</th>\n",
       "      <th>Кол-во пустых значений</th>\n",
       "      <th>% пустых значений</th>\n",
       "      <th>Кол-во уникальных значений</th>\n",
       "    </tr>\n",
       "  </thead>\n",
       "  <tbody>\n",
       "    <tr>\n",
       "      <th>2</th>\n",
       "      <td>user_id</td>\n",
       "      <td>&lt;class 'numpy.int64'&gt;</td>\n",
       "      <td>1000</td>\n",
       "      <td>0</td>\n",
       "      <td>0.0</td>\n",
       "      <td>426</td>\n",
       "    </tr>\n",
       "    <tr>\n",
       "      <th>0</th>\n",
       "      <td>id</td>\n",
       "      <td>&lt;class 'str'&gt;</td>\n",
       "      <td>1000_0</td>\n",
       "      <td>0</td>\n",
       "      <td>0.0</td>\n",
       "      <td>123036</td>\n",
       "    </tr>\n",
       "    <tr>\n",
       "      <th>1</th>\n",
       "      <td>message_date</td>\n",
       "      <td>&lt;class 'str'&gt;</td>\n",
       "      <td>2018-06-27</td>\n",
       "      <td>0</td>\n",
       "      <td>0.0</td>\n",
       "      <td>364</td>\n",
       "    </tr>\n",
       "  </tbody>\n",
       "</table>\n",
       "</div>"
      ],
      "text/plain": [
       "  Наименование поля             Тип данных Первое непустое значение  \\\n",
       "2           user_id  <class 'numpy.int64'>                     1000   \n",
       "0                id          <class 'str'>                   1000_0   \n",
       "1      message_date          <class 'str'>               2018-06-27   \n",
       "\n",
       "   Кол-во пустых значений  % пустых значений  Кол-во уникальных значений  \n",
       "2                       0                0.0                         426  \n",
       "0                       0                0.0                      123036  \n",
       "1                       0                0.0                         364  "
      ]
     },
     "metadata": {},
     "output_type": "display_data"
    },
    {
     "name": "stdout",
     "output_type": "stream",
     "text": [
      " ======================= Анализ таблицы \"internet\"\n",
      "Размерность источника данных:  (149396, 5)\n",
      "Кол-во строк-дублей:  0\n",
      "\n",
      "Первые пять строк:\n"
     ]
    },
    {
     "data": {
      "text/html": [
       "<div>\n",
       "<style scoped>\n",
       "    .dataframe tbody tr th:only-of-type {\n",
       "        vertical-align: middle;\n",
       "    }\n",
       "\n",
       "    .dataframe tbody tr th {\n",
       "        vertical-align: top;\n",
       "    }\n",
       "\n",
       "    .dataframe thead th {\n",
       "        text-align: right;\n",
       "    }\n",
       "</style>\n",
       "<table border=\"1\" class=\"dataframe\">\n",
       "  <thead>\n",
       "    <tr style=\"text-align: right;\">\n",
       "      <th></th>\n",
       "      <th>Unnamed: 0</th>\n",
       "      <th>id</th>\n",
       "      <th>mb_used</th>\n",
       "      <th>session_date</th>\n",
       "      <th>user_id</th>\n",
       "    </tr>\n",
       "  </thead>\n",
       "  <tbody>\n",
       "    <tr>\n",
       "      <th>0</th>\n",
       "      <td>0</td>\n",
       "      <td>1000_0</td>\n",
       "      <td>112.95</td>\n",
       "      <td>2018-11-25</td>\n",
       "      <td>1000</td>\n",
       "    </tr>\n",
       "    <tr>\n",
       "      <th>1</th>\n",
       "      <td>1</td>\n",
       "      <td>1000_1</td>\n",
       "      <td>1052.81</td>\n",
       "      <td>2018-09-07</td>\n",
       "      <td>1000</td>\n",
       "    </tr>\n",
       "    <tr>\n",
       "      <th>2</th>\n",
       "      <td>2</td>\n",
       "      <td>1000_2</td>\n",
       "      <td>1197.26</td>\n",
       "      <td>2018-06-25</td>\n",
       "      <td>1000</td>\n",
       "    </tr>\n",
       "    <tr>\n",
       "      <th>3</th>\n",
       "      <td>3</td>\n",
       "      <td>1000_3</td>\n",
       "      <td>550.27</td>\n",
       "      <td>2018-08-22</td>\n",
       "      <td>1000</td>\n",
       "    </tr>\n",
       "    <tr>\n",
       "      <th>4</th>\n",
       "      <td>4</td>\n",
       "      <td>1000_4</td>\n",
       "      <td>302.56</td>\n",
       "      <td>2018-09-24</td>\n",
       "      <td>1000</td>\n",
       "    </tr>\n",
       "  </tbody>\n",
       "</table>\n",
       "</div>"
      ],
      "text/plain": [
       "   Unnamed: 0      id  mb_used session_date  user_id\n",
       "0           0  1000_0   112.95   2018-11-25     1000\n",
       "1           1  1000_1  1052.81   2018-09-07     1000\n",
       "2           2  1000_2  1197.26   2018-06-25     1000\n",
       "3           3  1000_3   550.27   2018-08-22     1000\n",
       "4           4  1000_4   302.56   2018-09-24     1000"
      ]
     },
     "metadata": {},
     "output_type": "display_data"
    },
    {
     "data": {
      "text/html": [
       "<div>\n",
       "<style scoped>\n",
       "    .dataframe tbody tr th:only-of-type {\n",
       "        vertical-align: middle;\n",
       "    }\n",
       "\n",
       "    .dataframe tbody tr th {\n",
       "        vertical-align: top;\n",
       "    }\n",
       "\n",
       "    .dataframe thead th {\n",
       "        text-align: right;\n",
       "    }\n",
       "</style>\n",
       "<table border=\"1\" class=\"dataframe\">\n",
       "  <thead>\n",
       "    <tr style=\"text-align: right;\">\n",
       "      <th></th>\n",
       "      <th>Наименование поля</th>\n",
       "      <th>Тип данных</th>\n",
       "      <th>Первое непустое значение</th>\n",
       "      <th>Кол-во пустых значений</th>\n",
       "      <th>% пустых значений</th>\n",
       "      <th>Кол-во уникальных значений</th>\n",
       "    </tr>\n",
       "  </thead>\n",
       "  <tbody>\n",
       "    <tr>\n",
       "      <th>2</th>\n",
       "      <td>mb_used</td>\n",
       "      <td>&lt;class 'numpy.float64'&gt;</td>\n",
       "      <td>112.95</td>\n",
       "      <td>0</td>\n",
       "      <td>0.0</td>\n",
       "      <td>70003</td>\n",
       "    </tr>\n",
       "    <tr>\n",
       "      <th>0</th>\n",
       "      <td>Unnamed: 0</td>\n",
       "      <td>&lt;class 'numpy.int64'&gt;</td>\n",
       "      <td>0</td>\n",
       "      <td>0</td>\n",
       "      <td>0.0</td>\n",
       "      <td>149396</td>\n",
       "    </tr>\n",
       "    <tr>\n",
       "      <th>4</th>\n",
       "      <td>user_id</td>\n",
       "      <td>&lt;class 'numpy.int64'&gt;</td>\n",
       "      <td>1000</td>\n",
       "      <td>0</td>\n",
       "      <td>0.0</td>\n",
       "      <td>497</td>\n",
       "    </tr>\n",
       "    <tr>\n",
       "      <th>1</th>\n",
       "      <td>id</td>\n",
       "      <td>&lt;class 'str'&gt;</td>\n",
       "      <td>1000_0</td>\n",
       "      <td>0</td>\n",
       "      <td>0.0</td>\n",
       "      <td>149396</td>\n",
       "    </tr>\n",
       "    <tr>\n",
       "      <th>3</th>\n",
       "      <td>session_date</td>\n",
       "      <td>&lt;class 'str'&gt;</td>\n",
       "      <td>2018-11-25</td>\n",
       "      <td>0</td>\n",
       "      <td>0.0</td>\n",
       "      <td>365</td>\n",
       "    </tr>\n",
       "  </tbody>\n",
       "</table>\n",
       "</div>"
      ],
      "text/plain": [
       "  Наименование поля               Тип данных Первое непустое значение  \\\n",
       "2           mb_used  <class 'numpy.float64'>                   112.95   \n",
       "0        Unnamed: 0    <class 'numpy.int64'>                        0   \n",
       "4           user_id    <class 'numpy.int64'>                     1000   \n",
       "1                id            <class 'str'>                   1000_0   \n",
       "3      session_date            <class 'str'>               2018-11-25   \n",
       "\n",
       "   Кол-во пустых значений  % пустых значений  Кол-во уникальных значений  \n",
       "2                       0                0.0                       70003  \n",
       "0                       0                0.0                      149396  \n",
       "4                       0                0.0                         497  \n",
       "1                       0                0.0                      149396  \n",
       "3                       0                0.0                         365  "
      ]
     },
     "metadata": {},
     "output_type": "display_data"
    },
    {
     "name": "stdout",
     "output_type": "stream",
     "text": [
      " ======================= Анализ таблицы \"tariffs\"\n",
      "Размерность источника данных:  (2, 8)\n",
      "Кол-во строк-дублей:  0\n",
      "\n",
      "Первые пять строк:\n"
     ]
    },
    {
     "data": {
      "text/html": [
       "<div>\n",
       "<style scoped>\n",
       "    .dataframe tbody tr th:only-of-type {\n",
       "        vertical-align: middle;\n",
       "    }\n",
       "\n",
       "    .dataframe tbody tr th {\n",
       "        vertical-align: top;\n",
       "    }\n",
       "\n",
       "    .dataframe thead th {\n",
       "        text-align: right;\n",
       "    }\n",
       "</style>\n",
       "<table border=\"1\" class=\"dataframe\">\n",
       "  <thead>\n",
       "    <tr style=\"text-align: right;\">\n",
       "      <th></th>\n",
       "      <th>messages_included</th>\n",
       "      <th>mb_per_month_included</th>\n",
       "      <th>minutes_included</th>\n",
       "      <th>rub_monthly_fee</th>\n",
       "      <th>rub_per_gb</th>\n",
       "      <th>rub_per_message</th>\n",
       "      <th>rub_per_minute</th>\n",
       "      <th>tariff_name</th>\n",
       "    </tr>\n",
       "  </thead>\n",
       "  <tbody>\n",
       "    <tr>\n",
       "      <th>0</th>\n",
       "      <td>50</td>\n",
       "      <td>15360</td>\n",
       "      <td>500</td>\n",
       "      <td>550</td>\n",
       "      <td>200</td>\n",
       "      <td>3</td>\n",
       "      <td>3</td>\n",
       "      <td>smart</td>\n",
       "    </tr>\n",
       "    <tr>\n",
       "      <th>1</th>\n",
       "      <td>1000</td>\n",
       "      <td>30720</td>\n",
       "      <td>3000</td>\n",
       "      <td>1950</td>\n",
       "      <td>150</td>\n",
       "      <td>1</td>\n",
       "      <td>1</td>\n",
       "      <td>ultra</td>\n",
       "    </tr>\n",
       "  </tbody>\n",
       "</table>\n",
       "</div>"
      ],
      "text/plain": [
       "   messages_included  mb_per_month_included  minutes_included  \\\n",
       "0                 50                  15360               500   \n",
       "1               1000                  30720              3000   \n",
       "\n",
       "   rub_monthly_fee  rub_per_gb  rub_per_message  rub_per_minute tariff_name  \n",
       "0              550         200                3               3       smart  \n",
       "1             1950         150                1               1       ultra  "
      ]
     },
     "metadata": {},
     "output_type": "display_data"
    },
    {
     "data": {
      "text/html": [
       "<div>\n",
       "<style scoped>\n",
       "    .dataframe tbody tr th:only-of-type {\n",
       "        vertical-align: middle;\n",
       "    }\n",
       "\n",
       "    .dataframe tbody tr th {\n",
       "        vertical-align: top;\n",
       "    }\n",
       "\n",
       "    .dataframe thead th {\n",
       "        text-align: right;\n",
       "    }\n",
       "</style>\n",
       "<table border=\"1\" class=\"dataframe\">\n",
       "  <thead>\n",
       "    <tr style=\"text-align: right;\">\n",
       "      <th></th>\n",
       "      <th>Наименование поля</th>\n",
       "      <th>Тип данных</th>\n",
       "      <th>Первое непустое значение</th>\n",
       "      <th>Кол-во пустых значений</th>\n",
       "      <th>% пустых значений</th>\n",
       "      <th>Кол-во уникальных значений</th>\n",
       "    </tr>\n",
       "  </thead>\n",
       "  <tbody>\n",
       "    <tr>\n",
       "      <th>0</th>\n",
       "      <td>messages_included</td>\n",
       "      <td>&lt;class 'numpy.int64'&gt;</td>\n",
       "      <td>50</td>\n",
       "      <td>0</td>\n",
       "      <td>0.0</td>\n",
       "      <td>2</td>\n",
       "    </tr>\n",
       "    <tr>\n",
       "      <th>1</th>\n",
       "      <td>mb_per_month_included</td>\n",
       "      <td>&lt;class 'numpy.int64'&gt;</td>\n",
       "      <td>15360</td>\n",
       "      <td>0</td>\n",
       "      <td>0.0</td>\n",
       "      <td>2</td>\n",
       "    </tr>\n",
       "    <tr>\n",
       "      <th>2</th>\n",
       "      <td>minutes_included</td>\n",
       "      <td>&lt;class 'numpy.int64'&gt;</td>\n",
       "      <td>500</td>\n",
       "      <td>0</td>\n",
       "      <td>0.0</td>\n",
       "      <td>2</td>\n",
       "    </tr>\n",
       "    <tr>\n",
       "      <th>3</th>\n",
       "      <td>rub_monthly_fee</td>\n",
       "      <td>&lt;class 'numpy.int64'&gt;</td>\n",
       "      <td>550</td>\n",
       "      <td>0</td>\n",
       "      <td>0.0</td>\n",
       "      <td>2</td>\n",
       "    </tr>\n",
       "    <tr>\n",
       "      <th>4</th>\n",
       "      <td>rub_per_gb</td>\n",
       "      <td>&lt;class 'numpy.int64'&gt;</td>\n",
       "      <td>200</td>\n",
       "      <td>0</td>\n",
       "      <td>0.0</td>\n",
       "      <td>2</td>\n",
       "    </tr>\n",
       "    <tr>\n",
       "      <th>5</th>\n",
       "      <td>rub_per_message</td>\n",
       "      <td>&lt;class 'numpy.int64'&gt;</td>\n",
       "      <td>3</td>\n",
       "      <td>0</td>\n",
       "      <td>0.0</td>\n",
       "      <td>2</td>\n",
       "    </tr>\n",
       "    <tr>\n",
       "      <th>6</th>\n",
       "      <td>rub_per_minute</td>\n",
       "      <td>&lt;class 'numpy.int64'&gt;</td>\n",
       "      <td>3</td>\n",
       "      <td>0</td>\n",
       "      <td>0.0</td>\n",
       "      <td>2</td>\n",
       "    </tr>\n",
       "    <tr>\n",
       "      <th>7</th>\n",
       "      <td>tariff_name</td>\n",
       "      <td>&lt;class 'str'&gt;</td>\n",
       "      <td>smart</td>\n",
       "      <td>0</td>\n",
       "      <td>0.0</td>\n",
       "      <td>2</td>\n",
       "    </tr>\n",
       "  </tbody>\n",
       "</table>\n",
       "</div>"
      ],
      "text/plain": [
       "       Наименование поля             Тип данных Первое непустое значение  \\\n",
       "0      messages_included  <class 'numpy.int64'>                       50   \n",
       "1  mb_per_month_included  <class 'numpy.int64'>                    15360   \n",
       "2       minutes_included  <class 'numpy.int64'>                      500   \n",
       "3        rub_monthly_fee  <class 'numpy.int64'>                      550   \n",
       "4             rub_per_gb  <class 'numpy.int64'>                      200   \n",
       "5        rub_per_message  <class 'numpy.int64'>                        3   \n",
       "6         rub_per_minute  <class 'numpy.int64'>                        3   \n",
       "7            tariff_name          <class 'str'>                    smart   \n",
       "\n",
       "   Кол-во пустых значений  % пустых значений  Кол-во уникальных значений  \n",
       "0                       0                0.0                           2  \n",
       "1                       0                0.0                           2  \n",
       "2                       0                0.0                           2  \n",
       "3                       0                0.0                           2  \n",
       "4                       0                0.0                           2  \n",
       "5                       0                0.0                           2  \n",
       "6                       0                0.0                           2  \n",
       "7                       0                0.0                           2  "
      ]
     },
     "metadata": {},
     "output_type": "display_data"
    }
   ],
   "source": [
    "# =============================== Вывод общей информации по датафреймам\n",
    "\n",
    "# готовлю словарь с датафреймами\n",
    "set1 = {'users':df_users, 'calls':df_calls, 'messages':df_messages, 'internet':df_internet, 'tariffs':df_tariffs}\n",
    "\n",
    "# цикл, выводящий информацию по списку указанных датафреймов\n",
    "for df_name in set1:\n",
    "    print(f' ======================= Анализ таблицы \"{df_name}\"')\n",
    "    display(mf_df_info(set1[df_name])) # анализ источника"
   ]
  },
  {
   "cell_type": "markdown",
   "metadata": {},
   "source": [
    "### Выводы:\n",
    "\n",
    "в таблице user:\n",
    "* поля \"churn_date\" и \"reg_date\" необходимо преобразовать к типу datetime (без временной части),\n",
    "\n",
    "в таблице \"calls\":\n",
    "* поле \"call_date\" необходимо преобразовать к типу datetime (без временной части),\n",
    "* значения в поле \"duration\" округлить в большую сторону до целых минут и преобразовать поле к целочисленному типу, т.к. «Мегалайн» всегда округляет вверх значения минут (для одного звонка),\n",
    "\n",
    "в таблице \"messages\":\n",
    "* поле \"message_date\" необходимо преобразовать к типу datetime (без временной части),\n",
    "\n",
    "в таблице \"internet\":\n",
    "* поле \"Unnamed: 0\", судя по всему является индексом строк с целочисленными значениями от 0 до 149395, его описания не прилагается в материалах, в связи с чем оно будет удалено,\n",
    "* поле \"session_date\" необходимо преобразовать к типу datetime (без временной части),\n",
    "* значения в поле \"mb_used\" округлить в большую сторону до целых мегабайтов и преобразовать поле к целочисленному типу, т.к. «Мегалайн» всегда округляет вверх значения мегабайтов (для одной сесии),\n",
    "\n",
    "выводы по всем таблицам:\n",
    "* все рабочие поля таблиц соответствуют змеиному формату,\n",
    "* дубли строк во всех рассмотренных источниках данных отсутствуют,\n",
    "* пропуски данных в таблицах не обнаружены (за исключением таблицы users в поле shurn_date, что по постановке задачи означает, что тариф ещё действовал на момент выгрузки данных).\n",
    "\n",
    "[В начало](#intro)"
   ]
  },
  {
   "cell_type": "markdown",
   "metadata": {},
   "source": [
    "## Предобработка данных"
   ]
  },
  {
   "cell_type": "code",
   "execution_count": 7,
   "metadata": {
    "scrolled": false
   },
   "outputs": [
    {
     "name": "stdout",
     "output_type": "stream",
     "text": [
      "\n",
      "============ таблица: users\n",
      "До оптимизации: 32128, после оптимизации: 25628 в байтах\n",
      "Степень сжатия (%):  79.8\n",
      "<class 'pandas.core.frame.DataFrame'>\n",
      "RangeIndex: 500 entries, 0 to 499\n",
      "Data columns (total 8 columns):\n",
      " #   Column      Non-Null Count  Dtype         \n",
      "---  ------      --------------  -----         \n",
      " 0   user_id     500 non-null    uint16        \n",
      " 1   age         500 non-null    uint8         \n",
      " 2   churn_date  38 non-null     datetime64[ns]\n",
      " 3   city        500 non-null    object        \n",
      " 4   first_name  500 non-null    object        \n",
      " 5   last_name   500 non-null    object        \n",
      " 6   reg_date    500 non-null    datetime64[ns]\n",
      " 7   tariff      500 non-null    object        \n",
      "dtypes: datetime64[ns](2), object(4), uint16(1), uint8(1)\n",
      "memory usage: 25.0+ KB\n",
      "\n",
      "============ таблица: calls\n",
      "До оптимизации: 6483552, после оптимизации: 3849661 в байтах\n",
      "Степень сжатия (%):  59.4\n",
      "<class 'pandas.core.frame.DataFrame'>\n",
      "RangeIndex: 202607 entries, 0 to 202606\n",
      "Data columns (total 4 columns):\n",
      " #   Column     Non-Null Count   Dtype         \n",
      "---  ------     --------------   -----         \n",
      " 0   id         202607 non-null  object        \n",
      " 1   call_date  202607 non-null  datetime64[ns]\n",
      " 2   duration   202607 non-null  uint8         \n",
      " 3   user_id    202607 non-null  uint16        \n",
      "dtypes: datetime64[ns](1), object(1), uint16(1), uint8(1)\n",
      "memory usage: 3.7+ MB\n",
      "\n",
      "============ таблица: messages\n",
      "До оптимизации: 2952992, после оптимизации: 2214776 в байтах\n",
      "Степень сжатия (%):  75.0\n",
      "<class 'pandas.core.frame.DataFrame'>\n",
      "RangeIndex: 123036 entries, 0 to 123035\n",
      "Data columns (total 3 columns):\n",
      " #   Column        Non-Null Count   Dtype         \n",
      "---  ------        --------------   -----         \n",
      " 0   id            123036 non-null  object        \n",
      " 1   message_date  123036 non-null  datetime64[ns]\n",
      " 2   user_id       123036 non-null  uint16        \n",
      "dtypes: datetime64[ns](1), object(1), uint16(1)\n",
      "memory usage: 2.1+ MB\n",
      "\n",
      "============ таблица: internet\n",
      "До оптимизации: 4780800, после оптимизации: 2988048 в байтах\n",
      "Степень сжатия (%):  62.5\n",
      "<class 'pandas.core.frame.DataFrame'>\n",
      "RangeIndex: 149396 entries, 0 to 149395\n",
      "Data columns (total 4 columns):\n",
      " #   Column        Non-Null Count   Dtype         \n",
      "---  ------        --------------   -----         \n",
      " 0   id            149396 non-null  object        \n",
      " 1   mb_used       149396 non-null  uint16        \n",
      " 2   session_date  149396 non-null  datetime64[ns]\n",
      " 3   user_id       149396 non-null  uint16        \n",
      "dtypes: datetime64[ns](1), object(1), uint16(2)\n",
      "memory usage: 2.8+ MB\n"
     ]
    }
   ],
   "source": [
    "# в таблице \"user\"\n",
    "df_users['churn_date'] = pd.to_datetime(df_users['churn_date'], format=DATE_FORMAT) # преобразование к типу datetime\n",
    "df_users['reg_date'] = pd.to_datetime(df_users['reg_date'], format=DATE_FORMAT)\n",
    "\n",
    "# в таблице \"calls\"\n",
    "df_calls['call_date'] = pd.to_datetime(df_calls['call_date'], format=DATE_FORMAT)\n",
    "df_calls['duration'] = df_calls['duration'].apply('ceil') # округление в большую сторону\n",
    "df_calls['duration'] = df_calls['duration'].astype('int64') # преобразуем к типу int64\n",
    "\n",
    "# в таблице \"messages\"\n",
    "df_messages['message_date'] = pd.to_datetime(df_messages['message_date'], format=DATE_FORMAT)\n",
    "\n",
    "# в таблице \"internet\"\n",
    "if 'Unnamed: 0' in df_internet.columns:\n",
    "    df_internet.drop('Unnamed: 0', axis=1, inplace=True) # удаляю поле 'Unnamed: 0'\n",
    "df_internet['session_date'] = pd.to_datetime(df_internet['session_date'], format=DATE_FORMAT)\n",
    "df_internet['mb_used'] = df_internet['mb_used'].apply('ceil') # округление в большую сторону\n",
    "df_internet['mb_used'] = df_internet['mb_used'].astype('int64') # преобразуем к типу int64\n",
    "\n",
    "\n",
    "# сведения о таблицах после предобработки данных \n",
    "set1 = {'users':df_users, 'calls':df_calls, 'messages':df_messages, 'internet':df_internet}\n",
    "for i in set1:\n",
    "    opt_res = mf_df_type_optimization(set1[i]) # оптимизация типов столбцов датафреймов\n",
    "    print(f'\\n============ таблица: {i}')\n",
    "    print(f'До оптимизации: {opt_res[0]}, после оптимизации: {opt_res[1]} в байтах')\n",
    "    print('Степень сжатия (%): ', opt_res[2]) \n",
    "    set1[i].info()"
   ]
  },
  {
   "cell_type": "markdown",
   "metadata": {},
   "source": [
    "### Выводы:\n",
    "* в таблицах \"user\", \"calls\", \"messages\", \"internet\" поля с датами преобразованы к типу datetime,\n",
    "* в таблице \"calls\" значения в поле \"duration\" округлены в большую сторону до целых минут и преобразованы к целочисленному типу,\n",
    "* в таблице \"internet\" поле \"Unnamed: 0\" удалено,\n",
    "* значения в поле \"mb_used\" таблицы \"internet\" округлить в большую сторону до целых мегабайтов и преобразовано к целочисленному типу,\n",
    "* выполнена оптимизация типов числовых столбцов, в результате чего по всем датафреймам оъем занимаемой памяти снизился как минимум на 20%.\n",
    "\n",
    "[В начало](#intro)"
   ]
  },
  {
   "cell_type": "markdown",
   "metadata": {},
   "source": [
    "## Расчёты и добавление результатов"
   ]
  },
  {
   "cell_type": "code",
   "execution_count": 8,
   "metadata": {},
   "outputs": [],
   "source": [
    "# для таблиц calls, messages, internet создаю расчетное поле - дату события, округленную до месяца\n",
    "df_calls['month'] = df_calls['call_date'].dt.month\n",
    "df_messages['month'] = df_messages['message_date'].dt.month\n",
    "df_internet['month'] = df_internet['session_date'].dt.month"
   ]
  },
  {
   "cell_type": "code",
   "execution_count": 9,
   "metadata": {},
   "outputs": [],
   "source": [
    "# создаю сводные таблицы клиент-месяц: \n",
    "# по звонкам\n",
    "df_calls = df_calls.pivot_table(index=['user_id', 'month'], aggfunc={'duration':['count','sum']})\n",
    "df_calls.columns = ['calls_count', 'calls_sum'] # замена названий столбцов\n",
    "\n",
    "# по сообщениям\n",
    "df_messages = (df_messages.pivot_table(index=['user_id', 'month'], aggfunc={'id':'count'}).\n",
    "    rename(axis=1, mapper={'id':'sms_count'}))\n",
    "\n",
    "# по интернет-трафику\n",
    "df_internet = (df_internet.pivot_table(index=['user_id', 'month'], aggfunc={'mb_used':'sum'}).\n",
    "    rename(axis=1, mapper={'mb_used':'mb_sum'}))\n",
    "# перевожу потраченные мегабайты клиентов в гигабайты и округляю вверх\n",
    "df_internet['gb_sum'] = (df_internet['mb_sum']/1024).apply('ceil') "
   ]
  },
  {
   "cell_type": "code",
   "execution_count": 10,
   "metadata": {},
   "outputs": [],
   "source": [
    "# свод всех таблиц в единую\n",
    "df_svod = df_calls.join([df_messages, df_internet], how='outer').reset_index(drop=False)\n",
    "\n",
    "# добавляю сведения о тарифе пользователя\n",
    "df_svod = df_svod.join(df_users[['user_id', 'tariff', 'city']].set_index(keys='user_id', drop=True), on='user_id')"
   ]
  },
  {
   "cell_type": "code",
   "execution_count": 11,
   "metadata": {},
   "outputs": [],
   "source": [
    "# для тарифов добавляем стоимость абонентской платы за месяц\n",
    "df_tariffs = df_tariffs.set_index(keys='tariff_name', drop=True)"
   ]
  },
  {
   "cell_type": "code",
   "execution_count": 12,
   "metadata": {},
   "outputs": [],
   "source": [
    "# добавляю сведения о тарифах\n",
    "df_svod = df_svod.join(df_tariffs, on='tariff')"
   ]
  },
  {
   "cell_type": "code",
   "execution_count": 13,
   "metadata": {},
   "outputs": [],
   "source": [
    "# расчет помесячной выручки с каждого клиента\n",
    "df_svod['revenue'] = df_svod.apply(mf_revenue, axis=1)"
   ]
  },
  {
   "cell_type": "code",
   "execution_count": 14,
   "metadata": {},
   "outputs": [
    {
     "data": {
      "text/html": [
       "<div>\n",
       "<style scoped>\n",
       "    .dataframe tbody tr th:only-of-type {\n",
       "        vertical-align: middle;\n",
       "    }\n",
       "\n",
       "    .dataframe tbody tr th {\n",
       "        vertical-align: top;\n",
       "    }\n",
       "\n",
       "    .dataframe thead th {\n",
       "        text-align: right;\n",
       "    }\n",
       "</style>\n",
       "<table border=\"1\" class=\"dataframe\">\n",
       "  <thead>\n",
       "    <tr style=\"text-align: right;\">\n",
       "      <th></th>\n",
       "      <th>user_id</th>\n",
       "      <th>month</th>\n",
       "      <th>tariff</th>\n",
       "      <th>city</th>\n",
       "      <th>calls_count</th>\n",
       "      <th>calls_sum</th>\n",
       "      <th>sms_count</th>\n",
       "      <th>gb_sum</th>\n",
       "      <th>mb_sum</th>\n",
       "      <th>revenue</th>\n",
       "    </tr>\n",
       "  </thead>\n",
       "  <tbody>\n",
       "    <tr>\n",
       "      <th>0</th>\n",
       "      <td>1000</td>\n",
       "      <td>5</td>\n",
       "      <td>ultra</td>\n",
       "      <td>Краснодар</td>\n",
       "      <td>22.0</td>\n",
       "      <td>159.0</td>\n",
       "      <td>22.0</td>\n",
       "      <td>3.0</td>\n",
       "      <td>2256.0</td>\n",
       "      <td>1950.0</td>\n",
       "    </tr>\n",
       "    <tr>\n",
       "      <th>1</th>\n",
       "      <td>1000</td>\n",
       "      <td>6</td>\n",
       "      <td>ultra</td>\n",
       "      <td>Краснодар</td>\n",
       "      <td>43.0</td>\n",
       "      <td>172.0</td>\n",
       "      <td>60.0</td>\n",
       "      <td>23.0</td>\n",
       "      <td>23257.0</td>\n",
       "      <td>1950.0</td>\n",
       "    </tr>\n",
       "    <tr>\n",
       "      <th>2</th>\n",
       "      <td>1000</td>\n",
       "      <td>7</td>\n",
       "      <td>ultra</td>\n",
       "      <td>Краснодар</td>\n",
       "      <td>47.0</td>\n",
       "      <td>340.0</td>\n",
       "      <td>75.0</td>\n",
       "      <td>14.0</td>\n",
       "      <td>14016.0</td>\n",
       "      <td>1950.0</td>\n",
       "    </tr>\n",
       "    <tr>\n",
       "      <th>3</th>\n",
       "      <td>1000</td>\n",
       "      <td>8</td>\n",
       "      <td>ultra</td>\n",
       "      <td>Краснодар</td>\n",
       "      <td>52.0</td>\n",
       "      <td>408.0</td>\n",
       "      <td>81.0</td>\n",
       "      <td>14.0</td>\n",
       "      <td>14070.0</td>\n",
       "      <td>1950.0</td>\n",
       "    </tr>\n",
       "    <tr>\n",
       "      <th>4</th>\n",
       "      <td>1000</td>\n",
       "      <td>9</td>\n",
       "      <td>ultra</td>\n",
       "      <td>Краснодар</td>\n",
       "      <td>58.0</td>\n",
       "      <td>466.0</td>\n",
       "      <td>57.0</td>\n",
       "      <td>15.0</td>\n",
       "      <td>14581.0</td>\n",
       "      <td>1950.0</td>\n",
       "    </tr>\n",
       "  </tbody>\n",
       "</table>\n",
       "</div>"
      ],
      "text/plain": [
       "   user_id  month tariff       city  calls_count  calls_sum  sms_count  \\\n",
       "0     1000      5  ultra  Краснодар         22.0      159.0       22.0   \n",
       "1     1000      6  ultra  Краснодар         43.0      172.0       60.0   \n",
       "2     1000      7  ultra  Краснодар         47.0      340.0       75.0   \n",
       "3     1000      8  ultra  Краснодар         52.0      408.0       81.0   \n",
       "4     1000      9  ultra  Краснодар         58.0      466.0       57.0   \n",
       "\n",
       "   gb_sum   mb_sum  revenue  \n",
       "0     3.0   2256.0   1950.0  \n",
       "1    23.0  23257.0   1950.0  \n",
       "2    14.0  14016.0   1950.0  \n",
       "3    14.0  14070.0   1950.0  \n",
       "4    15.0  14581.0   1950.0  "
      ]
     },
     "metadata": {},
     "output_type": "display_data"
    },
    {
     "name": "stdout",
     "output_type": "stream",
     "text": [
      "<class 'pandas.core.frame.DataFrame'>\n",
      "RangeIndex: 3214 entries, 0 to 3213\n",
      "Data columns (total 10 columns):\n",
      " #   Column       Non-Null Count  Dtype  \n",
      "---  ------       --------------  -----  \n",
      " 0   user_id      3214 non-null   int64  \n",
      " 1   month        3214 non-null   int64  \n",
      " 2   tariff       3214 non-null   object \n",
      " 3   city         3214 non-null   object \n",
      " 4   calls_count  3214 non-null   float64\n",
      " 5   calls_sum    3214 non-null   float64\n",
      " 6   sms_count    3214 non-null   float64\n",
      " 7   gb_sum       3214 non-null   float64\n",
      " 8   mb_sum       3214 non-null   float64\n",
      " 9   revenue      3214 non-null   float64\n",
      "dtypes: float64(6), int64(2), object(2)\n",
      "memory usage: 251.2+ KB\n"
     ]
    }
   ],
   "source": [
    "# убираю лишние столбцы\n",
    "df_svod = (\n",
    "    df_svod[['user_id', 'month', 'tariff', 'city', 'calls_count', 'calls_sum',\n",
    "                   'sms_count', 'gb_sum', 'mb_sum', 'revenue']]\n",
    ")\n",
    "# заменяю пустые значения количественных показателей нулями\n",
    "df_svod.fillna(value=0, inplace=True)\n",
    "# финальная визуализация и проверка структуры таблицы\n",
    "display(df_svod.head(5))\n",
    "df_svod.info()"
   ]
  },
  {
   "cell_type": "markdown",
   "metadata": {},
   "source": [
    "### Выводы:\n",
    "* для удобства дальнейшего анализа создана единая таблица \"df_svod\", в которой по каждому клиенту помесячно рассчитаны потраченные минуты, сообщения, интернет-трафик, а также финансовые расходы (выручка).\n",
    "\n",
    "[В начало](#intro)"
   ]
  },
  {
   "cell_type": "markdown",
   "metadata": {},
   "source": [
    "## Анализ данных"
   ]
  },
  {
   "cell_type": "code",
   "execution_count": 15,
   "metadata": {},
   "outputs": [
    {
     "data": {
      "image/png": "[encoded data removed]",
      "text/plain": [
       "<Figure size 720x360 with 1 Axes>"
      ]
     },
     "metadata": {
      "needs_background": "light"
     },
     "output_type": "display_data"
    }
   ],
   "source": [
    "# динамика пользования услугами связи клиентов по тарифам\n",
    "df_temp = df_svod.pivot_table(index=['month'], columns='tariff', aggfunc={'user_id':'count'})\n",
    "ax = df_temp.plot(kind='bar',figsize=(10,5), grid=True)\n",
    "ax.set_title(\"Количество клиентов, воспользовавшихся услугами связи (помесячно)\")\n",
    "ax.set_xlabel(\"Месяцы\")\n",
    "ax.set_ylabel(\"Кол-во пользователей (шт.)\");"
   ]
  },
  {
   "cell_type": "markdown",
   "metadata": {},
   "source": [
    "### Анализ выбросов в данных по тарифам\n",
    "**Анализируемые показатели:**\n",
    "* calls_sum - кол-во потраченных клиентом минут за месяц\n",
    "* sms_count - кол-во сообщений\n",
    "* mb_sum - объем интренет-трафика в Мб\n",
    "* revenue - выручка"
   ]
  },
  {
   "cell_type": "code",
   "execution_count": 16,
   "metadata": {
    "scrolled": false
   },
   "outputs": [
    {
     "name": "stdout",
     "output_type": "stream",
     "text": [
      "\n",
      " --------------------------- Показатель: calls_sum\n"
     ]
    },
    {
     "data": {
      "image/png": "[encoded data removed]",
      "text/plain": [
       "<Figure size 432x288 with 2 Axes>"
      ]
     },
     "metadata": {
      "needs_background": "light"
     },
     "output_type": "display_data"
    },
    {
     "data": {
      "text/html": [
       "<div>\n",
       "<style scoped>\n",
       "    .dataframe tbody tr th:only-of-type {\n",
       "        vertical-align: middle;\n",
       "    }\n",
       "\n",
       "    .dataframe tbody tr th {\n",
       "        vertical-align: top;\n",
       "    }\n",
       "\n",
       "    .dataframe thead th {\n",
       "        text-align: right;\n",
       "    }\n",
       "</style>\n",
       "<table border=\"1\" class=\"dataframe\">\n",
       "  <thead>\n",
       "    <tr style=\"text-align: right;\">\n",
       "      <th></th>\n",
       "      <th>Значения показателей_smart</th>\n",
       "      <th>Значения показателей_ultra</th>\n",
       "    </tr>\n",
       "  </thead>\n",
       "  <tbody>\n",
       "    <tr>\n",
       "      <th>q1</th>\n",
       "      <td>282.000000</td>\n",
       "      <td>284.000000</td>\n",
       "    </tr>\n",
       "    <tr>\n",
       "      <th>q3</th>\n",
       "      <td>545.000000</td>\n",
       "      <td>752.000000</td>\n",
       "    </tr>\n",
       "    <tr>\n",
       "      <th>min_range</th>\n",
       "      <td>0.000000</td>\n",
       "      <td>0.000000</td>\n",
       "    </tr>\n",
       "    <tr>\n",
       "      <th>max_range</th>\n",
       "      <td>939.500000</td>\n",
       "      <td>1454.000000</td>\n",
       "    </tr>\n",
       "    <tr>\n",
       "      <th>out_share</th>\n",
       "      <td>0.400000</td>\n",
       "      <td>0.200000</td>\n",
       "    </tr>\n",
       "    <tr>\n",
       "      <th>mean_all</th>\n",
       "      <td>417.934948</td>\n",
       "      <td>526.623350</td>\n",
       "    </tr>\n",
       "    <tr>\n",
       "      <th>mean_range</th>\n",
       "      <td>415.054980</td>\n",
       "      <td>524.356053</td>\n",
       "    </tr>\n",
       "  </tbody>\n",
       "</table>\n",
       "</div>"
      ],
      "text/plain": [
       "            Значения показателей_smart  Значения показателей_ultra\n",
       "q1                          282.000000                  284.000000\n",
       "q3                          545.000000                  752.000000\n",
       "min_range                     0.000000                    0.000000\n",
       "max_range                   939.500000                 1454.000000\n",
       "out_share                     0.400000                    0.200000\n",
       "mean_all                    417.934948                  526.623350\n",
       "mean_range                  415.054980                  524.356053"
      ]
     },
     "metadata": {},
     "output_type": "display_data"
    },
    {
     "name": "stdout",
     "output_type": "stream",
     "text": [
      "\n",
      " --------------------------- Показатель: sms_count\n"
     ]
    },
    {
     "data": {
      "image/png": "[encoded data removed]",
      "text/plain": [
       "<Figure size 432x288 with 2 Axes>"
      ]
     },
     "metadata": {
      "needs_background": "light"
     },
     "output_type": "display_data"
    },
    {
     "data": {
      "text/html": [
       "<div>\n",
       "<style scoped>\n",
       "    .dataframe tbody tr th:only-of-type {\n",
       "        vertical-align: middle;\n",
       "    }\n",
       "\n",
       "    .dataframe tbody tr th {\n",
       "        vertical-align: top;\n",
       "    }\n",
       "\n",
       "    .dataframe thead th {\n",
       "        text-align: right;\n",
       "    }\n",
       "</style>\n",
       "<table border=\"1\" class=\"dataframe\">\n",
       "  <thead>\n",
       "    <tr style=\"text-align: right;\">\n",
       "      <th></th>\n",
       "      <th>Значения показателей_smart</th>\n",
       "      <th>Значения показателей_ultra</th>\n",
       "    </tr>\n",
       "  </thead>\n",
       "  <tbody>\n",
       "    <tr>\n",
       "      <th>q1</th>\n",
       "      <td>10.000000</td>\n",
       "      <td>6.000000</td>\n",
       "    </tr>\n",
       "    <tr>\n",
       "      <th>q3</th>\n",
       "      <td>51.000000</td>\n",
       "      <td>79.000000</td>\n",
       "    </tr>\n",
       "    <tr>\n",
       "      <th>min_range</th>\n",
       "      <td>0.000000</td>\n",
       "      <td>0.000000</td>\n",
       "    </tr>\n",
       "    <tr>\n",
       "      <th>max_range</th>\n",
       "      <td>112.500000</td>\n",
       "      <td>188.500000</td>\n",
       "    </tr>\n",
       "    <tr>\n",
       "      <th>out_share</th>\n",
       "      <td>0.600000</td>\n",
       "      <td>0.800000</td>\n",
       "    </tr>\n",
       "    <tr>\n",
       "      <th>mean_all</th>\n",
       "      <td>33.384029</td>\n",
       "      <td>49.363452</td>\n",
       "    </tr>\n",
       "    <tr>\n",
       "      <th>mean_range</th>\n",
       "      <td>32.784650</td>\n",
       "      <td>48.101331</td>\n",
       "    </tr>\n",
       "  </tbody>\n",
       "</table>\n",
       "</div>"
      ],
      "text/plain": [
       "            Значения показателей_smart  Значения показателей_ultra\n",
       "q1                           10.000000                    6.000000\n",
       "q3                           51.000000                   79.000000\n",
       "min_range                     0.000000                    0.000000\n",
       "max_range                   112.500000                  188.500000\n",
       "out_share                     0.600000                    0.800000\n",
       "mean_all                     33.384029                   49.363452\n",
       "mean_range                   32.784650                   48.101331"
      ]
     },
     "metadata": {},
     "output_type": "display_data"
    },
    {
     "name": "stdout",
     "output_type": "stream",
     "text": [
      "\n",
      " --------------------------- Показатель: mb_sum\n"
     ]
    },
    {
     "data": {
      "image/png": "[encoded data removed]",
      "text/plain": [
       "<Figure size 432x288 with 2 Axes>"
      ]
     },
     "metadata": {
      "needs_background": "light"
     },
     "output_type": "display_data"
    },
    {
     "data": {
      "text/html": [
       "<div>\n",
       "<style scoped>\n",
       "    .dataframe tbody tr th:only-of-type {\n",
       "        vertical-align: middle;\n",
       "    }\n",
       "\n",
       "    .dataframe tbody tr th {\n",
       "        vertical-align: top;\n",
       "    }\n",
       "\n",
       "    .dataframe thead th {\n",
       "        text-align: right;\n",
       "    }\n",
       "</style>\n",
       "<table border=\"1\" class=\"dataframe\">\n",
       "  <thead>\n",
       "    <tr style=\"text-align: right;\">\n",
       "      <th></th>\n",
       "      <th>Значения показателей_smart</th>\n",
       "      <th>Значения показателей_ultra</th>\n",
       "    </tr>\n",
       "  </thead>\n",
       "  <tbody>\n",
       "    <tr>\n",
       "      <th>q1</th>\n",
       "      <td>12658.000000</td>\n",
       "      <td>11785.000000</td>\n",
       "    </tr>\n",
       "    <tr>\n",
       "      <th>q3</th>\n",
       "      <td>20068.000000</td>\n",
       "      <td>26863.000000</td>\n",
       "    </tr>\n",
       "    <tr>\n",
       "      <th>min_range</th>\n",
       "      <td>1543.000000</td>\n",
       "      <td>0.000000</td>\n",
       "    </tr>\n",
       "    <tr>\n",
       "      <th>max_range</th>\n",
       "      <td>31183.000000</td>\n",
       "      <td>49480.000000</td>\n",
       "    </tr>\n",
       "    <tr>\n",
       "      <th>out_share</th>\n",
       "      <td>1.700000</td>\n",
       "      <td>0.100000</td>\n",
       "    </tr>\n",
       "    <tr>\n",
       "      <th>mean_all</th>\n",
       "      <td>16229.188425</td>\n",
       "      <td>19486.901523</td>\n",
       "    </tr>\n",
       "    <tr>\n",
       "      <th>mean_range</th>\n",
       "      <td>16276.736314</td>\n",
       "      <td>19456.106707</td>\n",
       "    </tr>\n",
       "  </tbody>\n",
       "</table>\n",
       "</div>"
      ],
      "text/plain": [
       "            Значения показателей_smart  Значения показателей_ultra\n",
       "q1                        12658.000000                11785.000000\n",
       "q3                        20068.000000                26863.000000\n",
       "min_range                  1543.000000                    0.000000\n",
       "max_range                 31183.000000                49480.000000\n",
       "out_share                     1.700000                    0.100000\n",
       "mean_all                  16229.188425                19486.901523\n",
       "mean_range                16276.736314                19456.106707"
      ]
     },
     "metadata": {},
     "output_type": "display_data"
    },
    {
     "name": "stdout",
     "output_type": "stream",
     "text": [
      "\n",
      " --------------------------- Показатель: revenue\n"
     ]
    },
    {
     "data": {
      "image/png": "[encoded data removed]",
      "text/plain": [
       "<Figure size 432x288 with 2 Axes>"
      ]
     },
     "metadata": {
      "needs_background": "light"
     },
     "output_type": "display_data"
    },
    {
     "data": {
      "text/html": [
       "<div>\n",
       "<style scoped>\n",
       "    .dataframe tbody tr th:only-of-type {\n",
       "        vertical-align: middle;\n",
       "    }\n",
       "\n",
       "    .dataframe tbody tr th {\n",
       "        vertical-align: top;\n",
       "    }\n",
       "\n",
       "    .dataframe thead th {\n",
       "        text-align: right;\n",
       "    }\n",
       "</style>\n",
       "<table border=\"1\" class=\"dataframe\">\n",
       "  <thead>\n",
       "    <tr style=\"text-align: right;\">\n",
       "      <th></th>\n",
       "      <th>Значения показателей_smart</th>\n",
       "      <th>Значения показателей_ultra</th>\n",
       "    </tr>\n",
       "  </thead>\n",
       "  <tbody>\n",
       "    <tr>\n",
       "      <th>q1</th>\n",
       "      <td>550.00000</td>\n",
       "      <td>1950.00000</td>\n",
       "    </tr>\n",
       "    <tr>\n",
       "      <th>q3</th>\n",
       "      <td>1750.00000</td>\n",
       "      <td>1950.00000</td>\n",
       "    </tr>\n",
       "    <tr>\n",
       "      <th>min_range</th>\n",
       "      <td>550.00000</td>\n",
       "      <td>1950.00000</td>\n",
       "    </tr>\n",
       "    <tr>\n",
       "      <th>max_range</th>\n",
       "      <td>3550.00000</td>\n",
       "      <td>1950.00000</td>\n",
       "    </tr>\n",
       "    <tr>\n",
       "      <th>out_share</th>\n",
       "      <td>1.40000</td>\n",
       "      <td>13.60000</td>\n",
       "    </tr>\n",
       "    <tr>\n",
       "      <th>mean_all</th>\n",
       "      <td>1294.63930</td>\n",
       "      <td>2071.06599</td>\n",
       "    </tr>\n",
       "    <tr>\n",
       "      <th>mean_range</th>\n",
       "      <td>1249.74101</td>\n",
       "      <td>1950.00000</td>\n",
       "    </tr>\n",
       "  </tbody>\n",
       "</table>\n",
       "</div>"
      ],
      "text/plain": [
       "            Значения показателей_smart  Значения показателей_ultra\n",
       "q1                           550.00000                  1950.00000\n",
       "q3                          1750.00000                  1950.00000\n",
       "min_range                    550.00000                  1950.00000\n",
       "max_range                   3550.00000                  1950.00000\n",
       "out_share                      1.40000                    13.60000\n",
       "mean_all                    1294.63930                  2071.06599\n",
       "mean_range                  1249.74101                  1950.00000"
      ]
     },
     "metadata": {},
     "output_type": "display_data"
    }
   ],
   "source": [
    "df_x = df_svod.groupby('tariff') #получаю 2 выборки по тарифам\n",
    "\n",
    "# для каждого показателя анализирую выбросы\n",
    "for i in ['calls_sum', 'sms_count', 'mb_sum', 'revenue']: \n",
    "    print(f\"\\n --------------------------- Показатель: {i}\")\n",
    "    df_x.boxplot(column=i); \n",
    "    plt.show()\n",
    "    # расчет дополнительных статистических показателей\n",
    "    display(mf_box_range(df_x.get_group('smart')[i], 1.5).\n",
    "            join(mf_box_range(df_x.get_group('ultra')[i], 1.5), lsuffix='_smart', rsuffix='_ultra'))\n",
    "    # ---------- пояснение рассчитанных показателей:\n",
    "    # min_range - нижняя граница доверительного интервала\n",
    "    # max_range - верхняя граница доверительного интервала\n",
    "    # out_share - доля строк за границами доверительного интервала (размаха усов) в %\n",
    "    # mean_all - среднеарфметическое по всем данным\n",
    "    # mean_range - среднеарфметическое в пределах доверительного интервала\n",
    "    # min_range_reserv - нижняя граница доверительного интервала c запасом в 20% от IQR вниз\n",
    "    # max_range_reserv - верхняя граница доверительного интервала c запасом в 20% от IQR вверх"
   ]
  },
  {
   "cell_type": "code",
   "execution_count": 17,
   "metadata": {},
   "outputs": [
    {
     "data": {
      "image/png": "[encoded data removed]",
      "text/plain": [
       "<Figure size 720x504 with 1 Axes>"
      ]
     },
     "metadata": {
      "needs_background": "light"
     },
     "output_type": "display_data"
    }
   ],
   "source": [
    "# факультативный (дополнительный) анализ выручки по тарифу ultra\n",
    "df_temp = df_svod[df_svod['tariff'] == 'ultra']['revenue']\n",
    "ax = df_temp.plot(kind='hist', bins=100, figsize=(10,7), grid=True)\n",
    "ax.set_title(\"Гистограмма значений выручки\")\n",
    "ax.set_xlabel(\"Значения выручки\")\n",
    "ax.set_ylabel(\"Кол-во значений (шт.)\");"
   ]
  },
  {
   "cell_type": "markdown",
   "metadata": {},
   "source": [
    "### Анализ статистических характеристик"
   ]
  },
  {
   "cell_type": "code",
   "execution_count": 18,
   "metadata": {
    "scrolled": false
   },
   "outputs": [
    {
     "data": {
      "image/png": "[encoded data removed]",
      "text/plain": [
       "<Figure size 720x360 with 1 Axes>"
      ]
     },
     "metadata": {
      "needs_background": "light"
     },
     "output_type": "display_data"
    },
    {
     "data": {
      "text/html": [
       "<div>\n",
       "<style scoped>\n",
       "    .dataframe tbody tr th:only-of-type {\n",
       "        vertical-align: middle;\n",
       "    }\n",
       "\n",
       "    .dataframe tbody tr th {\n",
       "        vertical-align: top;\n",
       "    }\n",
       "\n",
       "    .dataframe thead th {\n",
       "        text-align: right;\n",
       "    }\n",
       "</style>\n",
       "<table border=\"1\" class=\"dataframe\">\n",
       "  <thead>\n",
       "    <tr style=\"text-align: right;\">\n",
       "      <th></th>\n",
       "      <th>tariff</th>\n",
       "      <th>smart</th>\n",
       "      <th>ultra</th>\n",
       "    </tr>\n",
       "  </thead>\n",
       "  <tbody>\n",
       "    <tr>\n",
       "      <th rowspan=\"3\" valign=\"top\">calls_sum</th>\n",
       "      <th>mean</th>\n",
       "      <td>417.934948</td>\n",
       "      <td>526.623350</td>\n",
       "    </tr>\n",
       "    <tr>\n",
       "      <th>std</th>\n",
       "      <td>190.313730</td>\n",
       "      <td>317.606098</td>\n",
       "    </tr>\n",
       "    <tr>\n",
       "      <th>var</th>\n",
       "      <td>36219.315784</td>\n",
       "      <td>100873.633397</td>\n",
       "    </tr>\n",
       "  </tbody>\n",
       "</table>\n",
       "</div>"
      ],
      "text/plain": [
       "tariff                 smart          ultra\n",
       "calls_sum mean    417.934948     526.623350\n",
       "          std     190.313730     317.606098\n",
       "          var   36219.315784  100873.633397"
      ]
     },
     "metadata": {},
     "output_type": "display_data"
    },
    {
     "data": {
      "image/png": "[encoded data removed]",
      "text/plain": [
       "<Figure size 720x360 with 1 Axes>"
      ]
     },
     "metadata": {
      "needs_background": "light"
     },
     "output_type": "display_data"
    },
    {
     "data": {
      "text/html": [
       "<div>\n",
       "<style scoped>\n",
       "    .dataframe tbody tr th:only-of-type {\n",
       "        vertical-align: middle;\n",
       "    }\n",
       "\n",
       "    .dataframe tbody tr th {\n",
       "        vertical-align: top;\n",
       "    }\n",
       "\n",
       "    .dataframe thead th {\n",
       "        text-align: right;\n",
       "    }\n",
       "</style>\n",
       "<table border=\"1\" class=\"dataframe\">\n",
       "  <thead>\n",
       "    <tr style=\"text-align: right;\">\n",
       "      <th></th>\n",
       "      <th>tariff</th>\n",
       "      <th>smart</th>\n",
       "      <th>ultra</th>\n",
       "    </tr>\n",
       "  </thead>\n",
       "  <tbody>\n",
       "    <tr>\n",
       "      <th rowspan=\"3\" valign=\"top\">sms_count</th>\n",
       "      <th>mean</th>\n",
       "      <td>33.384029</td>\n",
       "      <td>49.363452</td>\n",
       "    </tr>\n",
       "    <tr>\n",
       "      <th>std</th>\n",
       "      <td>28.227876</td>\n",
       "      <td>47.804457</td>\n",
       "    </tr>\n",
       "    <tr>\n",
       "      <th>var</th>\n",
       "      <td>796.812958</td>\n",
       "      <td>2285.266143</td>\n",
       "    </tr>\n",
       "  </tbody>\n",
       "</table>\n",
       "</div>"
      ],
      "text/plain": [
       "tariff               smart        ultra\n",
       "sms_count mean   33.384029    49.363452\n",
       "          std    28.227876    47.804457\n",
       "          var   796.812958  2285.266143"
      ]
     },
     "metadata": {},
     "output_type": "display_data"
    },
    {
     "data": {
      "image/png": "[encoded data removed]",
      "text/plain": [
       "<Figure size 720x360 with 1 Axes>"
      ]
     },
     "metadata": {
      "needs_background": "light"
     },
     "output_type": "display_data"
    },
    {
     "data": {
      "text/html": [
       "<div>\n",
       "<style scoped>\n",
       "    .dataframe tbody tr th:only-of-type {\n",
       "        vertical-align: middle;\n",
       "    }\n",
       "\n",
       "    .dataframe tbody tr th {\n",
       "        vertical-align: top;\n",
       "    }\n",
       "\n",
       "    .dataframe thead th {\n",
       "        text-align: right;\n",
       "    }\n",
       "</style>\n",
       "<table border=\"1\" class=\"dataframe\">\n",
       "  <thead>\n",
       "    <tr style=\"text-align: right;\">\n",
       "      <th></th>\n",
       "      <th>tariff</th>\n",
       "      <th>smart</th>\n",
       "      <th>ultra</th>\n",
       "    </tr>\n",
       "  </thead>\n",
       "  <tbody>\n",
       "    <tr>\n",
       "      <th rowspan=\"3\" valign=\"top\">mb_sum</th>\n",
       "      <th>mean</th>\n",
       "      <td>1.622919e+04</td>\n",
       "      <td>1.948690e+04</td>\n",
       "    </tr>\n",
       "    <tr>\n",
       "      <th>std</th>\n",
       "      <td>5.877577e+03</td>\n",
       "      <td>1.009632e+04</td>\n",
       "    </tr>\n",
       "    <tr>\n",
       "      <th>var</th>\n",
       "      <td>3.454591e+07</td>\n",
       "      <td>1.019356e+08</td>\n",
       "    </tr>\n",
       "  </tbody>\n",
       "</table>\n",
       "</div>"
      ],
      "text/plain": [
       "tariff              smart         ultra\n",
       "mb_sum mean  1.622919e+04  1.948690e+04\n",
       "       std   5.877577e+03  1.009632e+04\n",
       "       var   3.454591e+07  1.019356e+08"
      ]
     },
     "metadata": {},
     "output_type": "display_data"
    },
    {
     "data": {
      "image/png": "[encoded data removed]",
      "text/plain": [
       "<Figure size 720x360 with 1 Axes>"
      ]
     },
     "metadata": {
      "needs_background": "light"
     },
     "output_type": "display_data"
    },
    {
     "data": {
      "text/html": [
       "<div>\n",
       "<style scoped>\n",
       "    .dataframe tbody tr th:only-of-type {\n",
       "        vertical-align: middle;\n",
       "    }\n",
       "\n",
       "    .dataframe tbody tr th {\n",
       "        vertical-align: top;\n",
       "    }\n",
       "\n",
       "    .dataframe thead th {\n",
       "        text-align: right;\n",
       "    }\n",
       "</style>\n",
       "<table border=\"1\" class=\"dataframe\">\n",
       "  <thead>\n",
       "    <tr style=\"text-align: right;\">\n",
       "      <th></th>\n",
       "      <th>tariff</th>\n",
       "      <th>smart</th>\n",
       "      <th>ultra</th>\n",
       "    </tr>\n",
       "  </thead>\n",
       "  <tbody>\n",
       "    <tr>\n",
       "      <th rowspan=\"3\" valign=\"top\">revenue</th>\n",
       "      <th>mean</th>\n",
       "      <td>1294.639300</td>\n",
       "      <td>2071.065990</td>\n",
       "    </tr>\n",
       "    <tr>\n",
       "      <th>std</th>\n",
       "      <td>820.933202</td>\n",
       "      <td>378.802377</td>\n",
       "    </tr>\n",
       "    <tr>\n",
       "      <th>var</th>\n",
       "      <td>673931.321363</td>\n",
       "      <td>143491.240560</td>\n",
       "    </tr>\n",
       "  </tbody>\n",
       "</table>\n",
       "</div>"
      ],
      "text/plain": [
       "tariff                smart          ultra\n",
       "revenue mean    1294.639300    2071.065990\n",
       "        std      820.933202     378.802377\n",
       "        var   673931.321363  143491.240560"
      ]
     },
     "metadata": {},
     "output_type": "display_data"
    }
   ],
   "source": [
    "# подсчет статистических показателей\n",
    "set1 = {'calls_sum':'Средняя продолжительность разговора (мин)','sms_count':'Среднее кол-во сообщений',\\\n",
    "             'mb_sum':'Средний объем трафика (Мб)', 'revenue':'Средняя выручка с клиента (руб)'}\n",
    "set2 = {'calls_sum':'Минуты','sms_count':'Кол-во, шт',\\\n",
    "             'mb_sum':'Мбайты', 'revenue':'Рубли'}\n",
    "\n",
    "for i in set1:\n",
    "    # помесячные значения средней\n",
    "    df_temp = df_svod.pivot_table(index=['month'], columns='tariff', aggfunc={i:'mean'})\n",
    "    ax = df_temp.plot(kind='bar',figsize=(10,5), grid=True, title=set1[i])\n",
    "    ax.set_xlabel(\"Месяцы\")\n",
    "    ax.set_ylabel(set2[i])\n",
    "    plt.show()\n",
    "\n",
    "    # статхарактеристики за весь год\n",
    "    display(df_svod.pivot_table(columns='tariff', aggfunc={i:['mean', 'std','var']}))"
   ]
  },
  {
   "cell_type": "markdown",
   "metadata": {},
   "source": [
    "### Анализ распределений"
   ]
  },
  {
   "cell_type": "code",
   "execution_count": 19,
   "metadata": {
    "scrolled": false
   },
   "outputs": [
    {
     "name": "stdout",
     "output_type": "stream",
     "text": [
      "================== Показатель calls_sum\n",
      "----------- Тариф smart\n"
     ]
    },
    {
     "data": {
      "image/png": "[encoded data removed]",
      "text/plain": [
       "<Figure size 1080x360 with 2 Axes>"
      ]
     },
     "metadata": {
      "needs_background": "light"
     },
     "output_type": "display_data"
    },
    {
     "name": "stdout",
     "output_type": "stream",
     "text": [
      "----------- Тариф ultra\n"
     ]
    },
    {
     "data": {
      "image/png": "[encoded data removed]",
      "text/plain": [
       "<Figure size 1080x360 with 2 Axes>"
      ]
     },
     "metadata": {
      "needs_background": "light"
     },
     "output_type": "display_data"
    },
    {
     "name": "stdout",
     "output_type": "stream",
     "text": [
      "================== Показатель sms_count\n",
      "----------- Тариф smart\n"
     ]
    },
    {
     "data": {
      "image/png": "[encoded data removed]",
      "text/plain": [
       "<Figure size 1080x360 with 2 Axes>"
      ]
     },
     "metadata": {
      "needs_background": "light"
     },
     "output_type": "display_data"
    },
    {
     "name": "stdout",
     "output_type": "stream",
     "text": [
      "----------- Тариф ultra\n"
     ]
    },
    {
     "data": {
      "image/png": "[encoded data removed]",
      "text/plain": [
       "<Figure size 1080x360 with 2 Axes>"
      ]
     },
     "metadata": {
      "needs_background": "light"
     },
     "output_type": "display_data"
    },
    {
     "name": "stdout",
     "output_type": "stream",
     "text": [
      "================== Показатель mb_sum\n",
      "----------- Тариф smart\n"
     ]
    },
    {
     "data": {
      "image/png": "[encoded data removed]",
      "text/plain": [
       "<Figure size 1080x360 with 2 Axes>"
      ]
     },
     "metadata": {
      "needs_background": "light"
     },
     "output_type": "display_data"
    },
    {
     "name": "stdout",
     "output_type": "stream",
     "text": [
      "----------- Тариф ultra\n"
     ]
    },
    {
     "data": {
      "image/png": "[encoded data removed]",
      "text/plain": [
       "<Figure size 1080x360 with 2 Axes>"
      ]
     },
     "metadata": {
      "needs_background": "light"
     },
     "output_type": "display_data"
    },
    {
     "name": "stdout",
     "output_type": "stream",
     "text": [
      "================== Показатель revenue\n",
      "----------- Тариф smart\n"
     ]
    },
    {
     "data": {
      "image/png": "[encoded data removed]",
      "text/plain": [
       "<Figure size 1080x360 with 2 Axes>"
      ]
     },
     "metadata": {
      "needs_background": "light"
     },
     "output_type": "display_data"
    },
    {
     "name": "stdout",
     "output_type": "stream",
     "text": [
      "----------- Тариф ultra\n"
     ]
    },
    {
     "data": {
      "image/png": "[encoded data removed]",
      "text/plain": [
       "<Figure size 1080x360 with 2 Axes>"
      ]
     },
     "metadata": {
      "needs_background": "light"
     },
     "output_type": "display_data"
    }
   ],
   "source": [
    "for j in ['calls_sum', 'sms_count', 'mb_sum', 'revenue']: # цикл по показателям\n",
    "    print(f\"================== Показатель {j}\")\n",
    "    for i in ['smart', 'ultra']: # цикл по тарифам\n",
    "        print(f'----------- Тариф {i}')  \n",
    "        plt.figure(figsize=(15,5)) # задание размера графика\n",
    "        \n",
    "        # гистограмма\n",
    "        plt.subplot(1,2,1) # позиционирование графика\n",
    "        ax = sb.histplot(df_svod.query(\"tariff==@i\")[j], kde=True) # построение плотности распределения\n",
    "        ax.set_title(\"Гистограмма распределения\")\n",
    "        ax.set_xlabel(\"Значение показателя\")\n",
    "        ax.set_ylabel(\"Частота\")\n",
    "        \n",
    "        # qq-графики\n",
    "        ax = plt.subplot(1,2,2)\n",
    "        # проверка на нормальность распределения по qq-графикам\n",
    "        #st.probplot(df_svod.query(\"tariff==@i\")[j], dist=\"norm\", plot=plt) \n",
    "        st.probplot(df_svod.query(\"tariff==@i\")[j], dist=\"norm\", plot=ax) \n",
    "        ax.set_title('qq-график')\n",
    "        ax.set_xlabel(\"Единицы стандартного отклонения\")\n",
    "        ax.set_ylabel(\"Значение показателя\")\n",
    "        plt.show()"
   ]
  },
  {
   "cell_type": "markdown",
   "metadata": {},
   "source": [
    "<div class=\"alert alert-block alert-info\">\n",
    "Промежуточный вывод по разделу: \n",
    "</div>\n",
    "\n",
    "Гистограммы распределения и qq-графики по всем показателям (кроме потребляемого трафика) далеки от нормального, в связи с чем применять параметрический ttest для проверки гипотез не желательно, вместо него необходимо истользовать тест Манна-Уитни."
   ]
  },
  {
   "cell_type": "markdown",
   "metadata": {},
   "source": [
    "### Гипотизы и их проверка"
   ]
  },
  {
   "cell_type": "markdown",
   "metadata": {},
   "source": [
    "**Гипотиза № 1:** \"средняя выручка пользователей тарифов «Ультра» и «Смарт» различаются\"\n",
    "* нулевая гипотеза: средняя выручка пользователей тарифов «Ультра» и «Смарт» равны,\n",
    "* альтернативная гипотеза: средняя выручка пользователей тарифов «Ультра» больше или меньше средней выручки тарифа «Смарт» (двусторонняя),\n",
    "\n",
    "**Гипотиза № 2:** \"средняя выручка пользователей из Москвы отличается от выручки пользователей из других регионов\"\n",
    "* нулевая гипотеза: средняя выручка пользователей Москвы совпала со средней выручкой других регионов,\n",
    "* альтернативная гипотеза: средняя выручка пользователей тарифов Москвы больше или меньше средней выручки других регионов (двусторонняя)\n",
    "\n",
    "**Общее для двух гипотиз:**\n",
    " т.к. все выручки обрезаны слева (за счет взимания ежемесячной абонентской платы) их распределения точно не будут нормальными, в связи с чем применение ttest (тест Стьюдента) использовать было бы ошибкой, в связи с чем будет применен тест Манна-Уитни,\n",
    "\n",
    "**Методические пояснения по формулировке гипотез:**\n",
    "* нулевая гипотеза всегда предполагает равенство выборок,\n",
    "* альтернативная гипотеза всегда предполагает отличие выборок не важно в какую сторону - двусторонняя, или в определенную сторону - односторонняя. "
   ]
  },
  {
   "cell_type": "code",
   "execution_count": 20,
   "metadata": {},
   "outputs": [
    {
     "name": "stdout",
     "output_type": "stream",
     "text": [
      "985\n",
      "2229\n"
     ]
    }
   ],
   "source": [
    "# моя проверка после ревью: важный момент размер выборок при проверке стат гипотез: объемы выборок могут отличаться\n",
    "print(len(df_svod.query(\"tariff == 'ultra'\")['revenue']))\n",
    "print(len(df_svod.query(\"tariff == 'smart'\")['revenue']))"
   ]
  },
  {
   "cell_type": "code",
   "execution_count": 21,
   "metadata": {},
   "outputs": [
    {
     "name": "stdout",
     "output_type": "stream",
     "text": [
      "ultra:2071.0659898477156\n",
      "smart:1294.6393001345896\n"
     ]
    }
   ],
   "source": [
    "print('ultra:{}\\nsmart:{}'.format(df_svod.query(\"tariff == 'ultra'\")['revenue'].mean(), \n",
    "                                  df_svod.query(\"tariff == 'smart'\")['revenue'].mean()))\n",
    "if 0:\n",
    "    df_svod.query(\"tariff == 'ultra'\")['revenue'].sum()\n",
    "    df_svod.query(\"tariff == 'smart'\")['revenue'].sum()"
   ]
  },
  {
   "cell_type": "code",
   "execution_count": 22,
   "metadata": {},
   "outputs": [
    {
     "name": "stdout",
     "output_type": "stream",
     "text": [
      " ------  Проверка гипотизы №1 (средняя выручка пользователей тарифов «Ультра» и «Смарт» различаются)\n",
      "p-значение: 0.0 %\n",
      "Отвергаем нулевую гипотезу\n",
      "\n",
      "\n",
      " ------  Проверка гипотизы №2 (средняя выручка пользователей из Москвы отличается от выручки пользователей из других регионов)\n",
      "p-значение: 38.4 %\n",
      "Не получилось отвергнуть нулевую гипотезу\n"
     ]
    }
   ],
   "source": [
    "# введем уровень значимости\n",
    "alpha = 0.05\n",
    "\n",
    "# проверка гипотизы №1\n",
    "print(\" ------  Проверка гипотизы №1 (средняя выручка пользователей тарифов «Ультра» и «Смарт» различаются)\")\n",
    "results = st.mannwhitneyu(df_svod.query(\"tariff == 'ultra'\")['revenue'],\n",
    "                          df_svod.query(\"tariff == 'smart'\")['revenue'],\n",
    "                          alternative='two-sided')\n",
    "print(f\"p-значение: {round(results.pvalue*100,1)} %\")\n",
    "\n",
    "if (results.pvalue < alpha):\n",
    "    print(\"Отвергаем нулевую гипотезу\")\n",
    "else:\n",
    "    print(\"Не получилось отвергнуть нулевую гипотезу\")\n",
    "    \n",
    "# проверка гипотизы №2\n",
    "print(\"\\n\\n ------  Проверка гипотизы №2 (средняя выручка пользователей из Москвы отличается от выручки пользователей из других регионов)\")\n",
    "results = st.mannwhitneyu(df_svod.query(\"city == 'Москва'\")['revenue'],\n",
    "                          df_svod.query(\"city != 'Москва'\")['revenue'],\n",
    "                          alternative='two-sided')\n",
    "print(f\"p-значение: {round(results.pvalue*100,1)} %\")\n",
    "\n",
    "if (results.pvalue < alpha):\n",
    "    print(\"Отвергаем нулевую гипотезу\")\n",
    "else:\n",
    "    print(\"Не получилось отвергнуть нулевую гипотезу\")"
   ]
  },
  {
   "cell_type": "markdown",
   "metadata": {},
   "source": [
    "### Выводы\n",
    "* количество клиентов, пользующихся услугами связи, по тарифу smart почти линейно растет от месяца к месяцу, по тарифу ultra - также отмечается линейный рост клиентов в первом полугодии, однако со второго полугодия темпы прироста чуть снизились,\n",
    "\n",
    "**анализ выбросов:**\n",
    "* анализ выбросов данных (метрика out_share - доля строк за пределами усов) по показателям (\"продолжительность разговора\", \"потребляемый трафик\", \"расходы за месяц\" (для тарифа smart)) небольшая и не превысила 4% по каждому показателю соответственно,\n",
    "* по \"расходам за месяц\" в тарифе ultra только 13,6% строк выбиваются за верхнюю границу доверительного интервала (уса),\n",
    "* наибольшая доля выбросов сосредаточена в показателе \"кол-во сообщений\" по тарифу smart - 14.4%, по тарифу ultra - 20.4%.\n",
    "* по ежемесячной выручке в тарифе smart все выбросы сосредоточены выше доверительного интервала, их доля составила 1.4%, \n",
    "* по тарифу ultra ежемесячная выручка стабильно держится в рамках абонентской платы в 1950 руб., что не позволило посчитать доверительный интревал, и только 13,6% строк данных превысили этот показатель.\n",
    "* из специфики анализируемых данных очистку от выбросов проводить не целесообразно, т.к. значения по показателям, лежащим ниже и выше границы доверительного интервала - явление нормальное для услуг связи и не является ошибкой в данных,\n",
    "\n",
    "**анализ статистических характеристик**\n",
    "* средняя продолжительность разговоров клиентов с начала года показывает в основном положительную динамику роста с небольшими локальными впадинами по обоим тарифам, причем значения показателя не превышают количество минут, включенным в абонентскую плату тарифов,\n",
    "* среднее кол-во сообщений на протяжении всего года не выходило за предельные показатели (свыше бесплатного объема), причем по тарифу smart рост показателя в первом квартале сменился стагнацией с незначительным ростом в конце года, по тарифу ultra в течение года наблюдается валатильная динамика показателя от месяца к месяцу, которую можно характеризовать в среднем как рост,\n",
    "* средний объем трафика по обоим тарифам характеризуется ростом с января по май и дальнейшей стагнацией с небольшим ростом в декабре,\n",
    "* средняя выручка по тарифу smart показывает уверенный рост на протяжении всего года, значение показателя по всем месяцам  превышает абонентскую плату,\n",
    "* средняя выручка по тарифу ultra на протяжении года показывает небольшое превышение абонентской платы, однако в динамике роста показателя не наблюдается,\n",
    "\n",
    "**анализ распределений**\n",
    "* гистограммы распределения и qq-графики по всем показателям (кроме потребляемого трафика) далеки от нормального, в связи с чем применять параметрический ttest для проверки гипотез не желательно, вместо него необходимо истользовать тест Манна-Уитни,\n",
    "\n",
    "**гипотизы и их проверка**\n",
    "* гипотеза о равенстве выручки пользователей тарифов «Ультра» и «Смарт» на уровне значимости в 0% была отвергнута, т.е. найдена значимая разница в выручке двух тарифов,\n",
    "* гипотеза о совпадении выручки Москвы и других регионов по обоим тарифам пользователей на уровне значимости в 38,4% не была отвергнута."
   ]
  },
  {
   "cell_type": "markdown",
   "metadata": {},
   "source": [
    "## Общий вывод\n",
    "**изучение, предобработка данных и расчеты результатов**\n",
    "* были загружены и проанализированы таблицы с данными о клиентах и их потреблении услуг сотовой связи,\n",
    "* по некторым полям таблиц выполнена обработка данных (округление) и преобразование типов, \n",
    "* пропуски и дубли в данных не обнаружены,\n",
    "* данные из разных сущностных таблиц для удобства дальнейшей обработки объединены в единую таблицу,\n",
    "* количество клиентов, пользующихся услугами связи, по тарифу smart почти линейно растет от месяца к месяцу, по тарифу ultra - также отмечается линейный рост клиентов в первом полугодии, однако со второго полугодия темпы прироста чуть снизились,\n",
    "* из специфики анализируемых данных очистку от выбросов проводить не целесообразно, т.к. значения по показателям, лежащим ниже и выше границы доверительного интервала - явление нормальное для услуг связи и не является ошибкой в данных,\n",
    "\n",
    "**анализ статистических характеристик**\n",
    "* средняя продолжительность разговоров клиентов с начала года показывает в основном положительную динамику роста с небольшими локальными впадинами по обоим тарифам, причем значения показателя не превышают количество минут, включенным в абонентскую плату тарифов,\n",
    "* среднее кол-во сообщений на протяжении всего года не выходило за предельные показатели (свыше бесплатного объема), причем по тарифу smart рост показателя в первом квартале сменился стагнацией с незначительным ростом в конце года, по тарифу ultra в течение года наблюдается валатильная динамика показателя от месяца к месяцу, которую можно характеризовать в среднем как рост,\n",
    "* средний объем трафика по обоим тарифам характеризуется ростом с января по май и дальнейшей стагнацией с небольшим ростом в декабре,\n",
    "* средняя выручка по тарифу smart показывает уверенный рост на протяжении всего года, значение показателя по всем месяцам  превышает абонентскую плату,\n",
    "* средняя выручка по тарифу ultra на протяжении года показывает небольшое превышение абонентской платы, однако в динамике роста показателя не наблюдается,\n",
    "\n",
    "**анализ распределений**\n",
    "* по всем показателям (кол-во потраченных минут, сообщений, трафика, выручке) по обоим тарифам распределения не относятся к нормальным распределениям, в связи с чем применять параметрический ttest для проверки гипотез не желательно, вместо него необходимо истользовать тест Манна-Уитни,\n",
    "\n",
    "**гипотизы и их проверка**\n",
    "* гипотеза о равенстве средней выручки пользователей тарифов «Ультра» и «Смарт» на уровне значимости в 0% была отвергнута, т.е. найдена значимая разница в выручке двух тарифов,\n",
    "* гипотеза о равентсве средней выручки по Москве и по другим регионам по обоим тарифам пользователей на уровне значимости в 38,4% была принята.\n",
    "\n",
    "[В начало](#intro)"
   ]
  }
 ],
 "metadata": {
  "ExecuteTimeLog": [
   {
    "duration": 417,
    "start_time": "2022-01-27T12:58:04.577Z"
   },
   {
    "duration": 358,
    "start_time": "2022-01-27T12:58:18.151Z"
   },
   {
    "duration": 788,
    "start_time": "2022-01-27T12:58:21.893Z"
   },
   {
    "duration": 218,
    "start_time": "2022-01-27T12:58:24.230Z"
   },
   {
    "duration": 4,
    "start_time": "2022-01-27T13:01:50.515Z"
   },
   {
    "duration": 12,
    "start_time": "2022-01-27T13:01:50.522Z"
   },
   {
    "duration": 948,
    "start_time": "2022-01-27T13:01:50.537Z"
   },
   {
    "duration": 3,
    "start_time": "2022-01-27T13:02:51.508Z"
   },
   {
    "duration": 8,
    "start_time": "2022-01-27T13:02:51.514Z"
   },
   {
    "duration": 758,
    "start_time": "2022-01-27T13:02:51.525Z"
   },
   {
    "duration": 825,
    "start_time": "2022-01-27T13:06:12.925Z"
   },
   {
    "duration": 851,
    "start_time": "2022-01-27T13:06:26.721Z"
   },
   {
    "duration": 909,
    "start_time": "2022-01-27T13:07:01.347Z"
   },
   {
    "duration": 623,
    "start_time": "2022-01-27T13:09:33.538Z"
   },
   {
    "duration": 9,
    "start_time": "2022-01-27T13:09:39.699Z"
   },
   {
    "duration": 794,
    "start_time": "2022-01-27T13:09:42.665Z"
   },
   {
    "duration": 726,
    "start_time": "2022-01-27T13:10:39.027Z"
   },
   {
    "duration": 727,
    "start_time": "2022-01-27T13:11:45.087Z"
   },
   {
    "duration": 595,
    "start_time": "2022-01-27T13:13:26.926Z"
   },
   {
    "duration": 9,
    "start_time": "2022-01-27T13:18:25.618Z"
   },
   {
    "duration": 759,
    "start_time": "2022-01-27T13:18:28.329Z"
   },
   {
    "duration": 9,
    "start_time": "2022-01-27T13:24:23.988Z"
   },
   {
    "duration": 882,
    "start_time": "2022-01-27T13:24:25.977Z"
   },
   {
    "duration": 113,
    "start_time": "2022-01-27T13:25:40.329Z"
   },
   {
    "duration": 10,
    "start_time": "2022-01-27T13:27:48.811Z"
   },
   {
    "duration": 781,
    "start_time": "2022-01-27T13:27:49.992Z"
   },
   {
    "duration": 170,
    "start_time": "2022-01-27T13:28:37.527Z"
   },
   {
    "duration": 9,
    "start_time": "2022-01-27T13:28:47.894Z"
   },
   {
    "duration": 106,
    "start_time": "2022-01-27T13:28:50.975Z"
   },
   {
    "duration": 111,
    "start_time": "2022-01-27T13:31:35.493Z"
   },
   {
    "duration": 4,
    "start_time": "2022-01-27T13:33:32.847Z"
   },
   {
    "duration": 9,
    "start_time": "2022-01-27T13:33:32.853Z"
   },
   {
    "duration": 240,
    "start_time": "2022-01-27T13:33:32.866Z"
   },
   {
    "duration": 92,
    "start_time": "2022-01-27T13:33:33.109Z"
   },
   {
    "duration": 708,
    "start_time": "2022-01-27T13:33:33.203Z"
   },
   {
    "duration": 698,
    "start_time": "2022-01-27T13:34:12.301Z"
   },
   {
    "duration": 1079,
    "start_time": "2022-01-27T13:36:35.735Z"
   },
   {
    "duration": 14,
    "start_time": "2022-01-27T13:36:36.817Z"
   },
   {
    "duration": 722,
    "start_time": "2022-01-27T13:36:36.836Z"
   },
   {
    "duration": 109,
    "start_time": "2022-01-27T13:36:37.561Z"
   },
   {
    "duration": 730,
    "start_time": "2022-01-27T13:36:37.672Z"
   },
   {
    "duration": 280,
    "start_time": "2022-01-27T13:41:42.358Z"
   },
   {
    "duration": 268,
    "start_time": "2022-01-27T14:09:49.043Z"
   },
   {
    "duration": 525,
    "start_time": "2022-01-27T14:15:54.293Z"
   },
   {
    "duration": 545,
    "start_time": "2022-01-27T14:21:16.502Z"
   },
   {
    "duration": 35,
    "start_time": "2022-01-27T14:21:46.229Z"
   },
   {
    "duration": 529,
    "start_time": "2022-01-27T14:22:02.026Z"
   },
   {
    "duration": 29,
    "start_time": "2022-01-27T14:22:06.674Z"
   },
   {
    "duration": 67,
    "start_time": "2022-01-27T14:29:45.051Z"
   },
   {
    "duration": 4,
    "start_time": "2022-01-27T14:37:30.300Z"
   },
   {
    "duration": 515,
    "start_time": "2022-01-27T14:51:20.592Z"
   },
   {
    "duration": 3785,
    "start_time": "2022-01-27T14:52:06.794Z"
   },
   {
    "duration": 4112,
    "start_time": "2022-01-27T14:57:29.486Z"
   },
   {
    "duration": 3736,
    "start_time": "2022-01-27T15:00:55.866Z"
   },
   {
    "duration": 8077,
    "start_time": "2022-01-27T15:03:56.725Z"
   },
   {
    "duration": 27,
    "start_time": "2022-01-27T15:17:53.247Z"
   },
   {
    "duration": 28,
    "start_time": "2022-01-27T15:21:31.784Z"
   },
   {
    "duration": 64,
    "start_time": "2022-01-27T15:24:45.529Z"
   },
   {
    "duration": 396,
    "start_time": "2022-01-27T15:32:46.811Z"
   },
   {
    "duration": 126,
    "start_time": "2022-01-27T15:34:29.377Z"
   },
   {
    "duration": 1010,
    "start_time": "2022-01-27T15:34:38.227Z"
   },
   {
    "duration": 310,
    "start_time": "2022-01-27T15:34:59.962Z"
   },
   {
    "duration": 12,
    "start_time": "2022-01-27T15:35:09.249Z"
   },
   {
    "duration": 13,
    "start_time": "2022-01-27T15:35:54.825Z"
   },
   {
    "duration": 15,
    "start_time": "2022-01-27T15:35:59.912Z"
   },
   {
    "duration": 25,
    "start_time": "2022-01-27T15:37:33.564Z"
   },
   {
    "duration": 29,
    "start_time": "2022-01-27T15:38:06.220Z"
   },
   {
    "duration": 5,
    "start_time": "2022-01-27T15:38:26.657Z"
   },
   {
    "duration": 17,
    "start_time": "2022-01-27T15:38:26.665Z"
   },
   {
    "duration": 539,
    "start_time": "2022-01-27T15:38:26.686Z"
   },
   {
    "duration": 77,
    "start_time": "2022-01-27T15:38:27.228Z"
   },
   {
    "duration": 734,
    "start_time": "2022-01-27T15:38:27.307Z"
   },
   {
    "duration": 283,
    "start_time": "2022-01-27T15:38:28.044Z"
   },
   {
    "duration": 559,
    "start_time": "2022-01-27T15:38:28.330Z"
   },
   {
    "duration": 93,
    "start_time": "2022-01-27T15:38:28.893Z"
   },
   {
    "duration": 24,
    "start_time": "2022-01-27T15:38:39.163Z"
   },
   {
    "duration": 39,
    "start_time": "2022-01-27T15:43:18.597Z"
   },
   {
    "duration": 4,
    "start_time": "2022-01-27T15:44:01.007Z"
   },
   {
    "duration": 10,
    "start_time": "2022-01-27T15:44:01.014Z"
   },
   {
    "duration": 640,
    "start_time": "2022-01-27T15:44:01.026Z"
   },
   {
    "duration": 72,
    "start_time": "2022-01-27T15:44:01.669Z"
   },
   {
    "duration": 638,
    "start_time": "2022-01-27T15:44:01.743Z"
   },
   {
    "duration": 288,
    "start_time": "2022-01-27T15:44:02.384Z"
   },
   {
    "duration": 635,
    "start_time": "2022-01-27T15:44:02.675Z"
   },
   {
    "duration": 89,
    "start_time": "2022-01-27T15:44:03.312Z"
   },
   {
    "duration": 29,
    "start_time": "2022-01-27T15:44:32.613Z"
   },
   {
    "duration": 56,
    "start_time": "2022-01-27T15:52:01.203Z"
   },
   {
    "duration": 33,
    "start_time": "2022-01-27T15:52:27.855Z"
   },
   {
    "duration": 472,
    "start_time": "2022-01-27T15:53:13.208Z"
   },
   {
    "duration": 27,
    "start_time": "2022-01-27T15:53:47.347Z"
   },
   {
    "duration": 395,
    "start_time": "2022-01-27T15:54:51.263Z"
   },
   {
    "duration": 9811,
    "start_time": "2022-01-27T15:55:02.404Z"
   },
   {
    "duration": 4,
    "start_time": "2022-01-27T15:56:20.481Z"
   },
   {
    "duration": 9,
    "start_time": "2022-01-27T15:56:20.487Z"
   },
   {
    "duration": 528,
    "start_time": "2022-01-27T15:56:20.499Z"
   },
   {
    "duration": 83,
    "start_time": "2022-01-27T15:56:21.030Z"
   },
   {
    "duration": 710,
    "start_time": "2022-01-27T15:56:21.116Z"
   },
   {
    "duration": 384,
    "start_time": "2022-01-27T15:56:21.828Z"
   },
   {
    "duration": 544,
    "start_time": "2022-01-27T15:56:22.215Z"
   },
   {
    "duration": 69,
    "start_time": "2022-01-27T15:56:22.762Z"
   },
   {
    "duration": 28,
    "start_time": "2022-01-27T15:56:52.171Z"
   },
   {
    "duration": 9294,
    "start_time": "2022-01-27T15:57:14.862Z"
   },
   {
    "duration": 33,
    "start_time": "2022-01-27T15:58:34.105Z"
   },
   {
    "duration": 25,
    "start_time": "2022-01-27T16:00:35.582Z"
   },
   {
    "duration": 129,
    "start_time": "2022-01-27T16:01:51.960Z"
   },
   {
    "duration": 122,
    "start_time": "2022-01-27T16:02:37.404Z"
   },
   {
    "duration": 123,
    "start_time": "2022-01-27T16:03:03.736Z"
   },
   {
    "duration": 43,
    "start_time": "2022-01-27T16:03:21.380Z"
   },
   {
    "duration": 46,
    "start_time": "2022-01-27T16:03:53.257Z"
   },
   {
    "duration": 129,
    "start_time": "2022-01-27T16:04:08.228Z"
   },
   {
    "duration": 237,
    "start_time": "2022-01-27T16:04:15.688Z"
   },
   {
    "duration": 44,
    "start_time": "2022-01-27T16:05:24.924Z"
   },
   {
    "duration": 4,
    "start_time": "2022-01-27T16:05:33.503Z"
   },
   {
    "duration": 10,
    "start_time": "2022-01-27T16:05:33.509Z"
   },
   {
    "duration": 544,
    "start_time": "2022-01-27T16:05:33.522Z"
   },
   {
    "duration": 121,
    "start_time": "2022-01-27T16:05:34.070Z"
   },
   {
    "duration": 691,
    "start_time": "2022-01-27T16:05:34.194Z"
   },
   {
    "duration": 280,
    "start_time": "2022-01-27T16:05:34.887Z"
   },
   {
    "duration": 534,
    "start_time": "2022-01-27T16:05:35.170Z"
   },
   {
    "duration": 88,
    "start_time": "2022-01-27T16:05:35.708Z"
   },
   {
    "duration": 129,
    "start_time": "2022-01-27T16:05:42.957Z"
   },
   {
    "duration": 47,
    "start_time": "2022-01-27T16:05:46.117Z"
   },
   {
    "duration": 58,
    "start_time": "2022-01-27T16:08:13.066Z"
   },
   {
    "duration": 84,
    "start_time": "2022-01-27T16:08:33.856Z"
   },
   {
    "duration": 76,
    "start_time": "2022-01-27T16:10:52.765Z"
   },
   {
    "duration": 75,
    "start_time": "2022-01-27T16:11:52.143Z"
   },
   {
    "duration": 57,
    "start_time": "2022-01-27T16:12:09.590Z"
   },
   {
    "duration": 38,
    "start_time": "2022-01-27T16:12:43.924Z"
   },
   {
    "duration": 43,
    "start_time": "2022-01-27T16:13:41.416Z"
   },
   {
    "duration": 52,
    "start_time": "2022-01-27T16:14:15.725Z"
   },
   {
    "duration": 37,
    "start_time": "2022-01-27T16:14:28.440Z"
   },
   {
    "duration": 53,
    "start_time": "2022-01-27T16:14:49.729Z"
   },
   {
    "duration": 75,
    "start_time": "2022-01-27T16:15:17.722Z"
   },
   {
    "duration": 312,
    "start_time": "2022-01-27T18:21:39.257Z"
   },
   {
    "duration": 1648,
    "start_time": "2022-01-27T18:21:51.302Z"
   },
   {
    "duration": 8,
    "start_time": "2022-01-27T18:21:52.952Z"
   },
   {
    "duration": 943,
    "start_time": "2022-01-27T18:21:52.963Z"
   },
   {
    "duration": 56,
    "start_time": "2022-01-27T18:21:53.908Z"
   },
   {
    "duration": 514,
    "start_time": "2022-01-27T18:21:53.966Z"
   },
   {
    "duration": 189,
    "start_time": "2022-01-27T18:21:54.482Z"
   },
   {
    "duration": 403,
    "start_time": "2022-01-27T18:21:54.672Z"
   },
   {
    "duration": 50,
    "start_time": "2022-01-27T18:21:55.077Z"
   },
   {
    "duration": 135,
    "start_time": "2022-01-27T18:21:55.129Z"
   },
   {
    "duration": 270,
    "start_time": "2022-01-27T18:22:07.829Z"
   },
   {
    "duration": 4,
    "start_time": "2022-01-27T18:22:19.006Z"
   },
   {
    "duration": 9,
    "start_time": "2022-01-27T18:23:00.520Z"
   },
   {
    "duration": 282,
    "start_time": "2022-01-27T18:23:49.361Z"
   },
   {
    "duration": 254,
    "start_time": "2022-01-27T18:23:53.710Z"
   },
   {
    "duration": 275,
    "start_time": "2022-01-27T18:24:09.806Z"
   },
   {
    "duration": 8,
    "start_time": "2022-01-27T18:24:37.950Z"
   },
   {
    "duration": 262,
    "start_time": "2022-01-27T18:26:09.555Z"
   },
   {
    "duration": 16,
    "start_time": "2022-01-27T18:26:28.426Z"
   },
   {
    "duration": 49,
    "start_time": "2022-01-27T18:31:01.759Z"
   },
   {
    "duration": 63,
    "start_time": "2022-01-27T18:31:39.484Z"
   },
   {
    "duration": 67,
    "start_time": "2022-01-27T18:32:02.044Z"
   },
   {
    "duration": 65,
    "start_time": "2022-01-27T18:32:07.940Z"
   },
   {
    "duration": 63,
    "start_time": "2022-01-27T18:32:26.840Z"
   },
   {
    "duration": 65,
    "start_time": "2022-01-27T18:33:49.120Z"
   },
   {
    "duration": 1078,
    "start_time": "2022-01-27T19:03:21.182Z"
   },
   {
    "duration": 1170,
    "start_time": "2022-01-27T19:03:39.494Z"
   },
   {
    "duration": 1098,
    "start_time": "2022-01-27T19:03:45.135Z"
   },
   {
    "duration": 1223,
    "start_time": "2022-01-27T19:06:05.406Z"
   },
   {
    "duration": 36,
    "start_time": "2022-01-27T19:08:00.177Z"
   },
   {
    "duration": 262,
    "start_time": "2022-01-27T19:08:16.966Z"
   },
   {
    "duration": 23,
    "start_time": "2022-01-27T19:09:11.450Z"
   },
   {
    "duration": 1070,
    "start_time": "2022-01-27T19:09:20.790Z"
   },
   {
    "duration": 19,
    "start_time": "2022-01-27T19:10:35.125Z"
   },
   {
    "duration": 18,
    "start_time": "2022-01-27T19:10:47.133Z"
   },
   {
    "duration": 1320,
    "start_time": "2022-01-27T19:12:16.990Z"
   },
   {
    "duration": 1111,
    "start_time": "2022-01-27T19:12:34.466Z"
   },
   {
    "duration": 1169,
    "start_time": "2022-01-27T19:12:44.031Z"
   },
   {
    "duration": 1025,
    "start_time": "2022-01-27T19:12:58.914Z"
   },
   {
    "duration": 22,
    "start_time": "2022-01-27T19:13:45.192Z"
   },
   {
    "duration": 24,
    "start_time": "2022-01-27T19:13:54.804Z"
   },
   {
    "duration": 1041,
    "start_time": "2022-01-27T19:14:19.927Z"
   },
   {
    "duration": 1155,
    "start_time": "2022-01-27T19:14:46.749Z"
   },
   {
    "duration": 25,
    "start_time": "2022-01-27T19:15:10.199Z"
   },
   {
    "duration": 271,
    "start_time": "2022-01-27T19:16:06.223Z"
   },
   {
    "duration": 25,
    "start_time": "2022-01-27T19:16:17.741Z"
   },
   {
    "duration": 25,
    "start_time": "2022-01-27T19:16:32.329Z"
   },
   {
    "duration": 82,
    "start_time": "2022-01-27T19:20:59.017Z"
   },
   {
    "duration": 54,
    "start_time": "2022-01-27T19:23:06.915Z"
   },
   {
    "duration": 42,
    "start_time": "2022-01-27T19:23:33.876Z"
   },
   {
    "duration": 25,
    "start_time": "2022-01-27T19:24:12.158Z"
   },
   {
    "duration": 334,
    "start_time": "2022-01-27T19:30:32.369Z"
   },
   {
    "duration": 81,
    "start_time": "2022-01-27T19:31:01.814Z"
   },
   {
    "duration": 98,
    "start_time": "2022-01-27T19:31:51.714Z"
   },
   {
    "duration": 2904,
    "start_time": "2022-01-27T19:35:29.496Z"
   },
   {
    "duration": 6,
    "start_time": "2022-01-27T19:35:43.749Z"
   },
   {
    "duration": 113,
    "start_time": "2022-01-27T19:35:56.719Z"
   },
   {
    "duration": 313,
    "start_time": "2022-01-27T19:35:59.470Z"
   },
   {
    "duration": 110,
    "start_time": "2022-01-27T19:36:59.402Z"
   },
   {
    "duration": 7,
    "start_time": "2022-01-27T19:37:01.730Z"
   },
   {
    "duration": 8,
    "start_time": "2022-01-27T19:38:21.498Z"
   },
   {
    "duration": 9,
    "start_time": "2022-01-27T19:38:40.619Z"
   },
   {
    "duration": 367,
    "start_time": "2022-01-27T19:43:27.374Z"
   },
   {
    "duration": 258,
    "start_time": "2022-01-27T19:44:25.700Z"
   },
   {
    "duration": 286,
    "start_time": "2022-01-27T19:45:01.717Z"
   },
   {
    "duration": 296,
    "start_time": "2022-01-27T19:45:34.536Z"
   },
   {
    "duration": 265,
    "start_time": "2022-01-27T19:46:31.002Z"
   },
   {
    "duration": 10,
    "start_time": "2022-01-27T19:46:56.513Z"
   },
   {
    "duration": 10,
    "start_time": "2022-01-27T19:47:18.280Z"
   },
   {
    "duration": 266,
    "start_time": "2022-01-27T19:47:49.284Z"
   },
   {
    "duration": 2,
    "start_time": "2022-01-27T19:48:22.529Z"
   },
   {
    "duration": 7,
    "start_time": "2022-01-27T19:48:22.533Z"
   },
   {
    "duration": 394,
    "start_time": "2022-01-27T19:48:22.542Z"
   },
   {
    "duration": 46,
    "start_time": "2022-01-27T19:48:22.938Z"
   },
   {
    "duration": 368,
    "start_time": "2022-01-27T19:48:22.986Z"
   },
   {
    "duration": 193,
    "start_time": "2022-01-27T19:48:23.356Z"
   },
   {
    "duration": 287,
    "start_time": "2022-01-27T19:48:23.551Z"
   },
   {
    "duration": 43,
    "start_time": "2022-01-27T19:48:23.839Z"
   },
   {
    "duration": 139,
    "start_time": "2022-01-27T19:48:23.884Z"
   },
   {
    "duration": 171,
    "start_time": "2022-01-27T19:48:24.026Z"
   },
   {
    "duration": 255,
    "start_time": "2022-01-27T19:48:34.355Z"
   },
   {
    "duration": 300,
    "start_time": "2022-01-27T19:48:40.424Z"
   },
   {
    "duration": 3,
    "start_time": "2022-01-27T19:49:35.147Z"
   },
   {
    "duration": 4,
    "start_time": "2022-01-27T19:49:48.779Z"
   },
   {
    "duration": 113,
    "start_time": "2022-01-27T19:49:55.415Z"
   },
   {
    "duration": 112,
    "start_time": "2022-01-27T19:50:14.809Z"
   },
   {
    "duration": 12,
    "start_time": "2022-01-27T19:50:18.484Z"
   },
   {
    "duration": 111,
    "start_time": "2022-01-27T19:50:35.821Z"
   },
   {
    "duration": 4,
    "start_time": "2022-01-27T19:50:38.389Z"
   },
   {
    "duration": 152,
    "start_time": "2022-01-27T19:51:08.850Z"
   },
   {
    "duration": 12,
    "start_time": "2022-01-27T19:51:11.364Z"
   },
   {
    "duration": 276,
    "start_time": "2022-01-27T19:53:16.642Z"
   },
   {
    "duration": 309,
    "start_time": "2022-01-27T19:53:41.527Z"
   },
   {
    "duration": 14,
    "start_time": "2022-01-27T19:53:56.382Z"
   },
   {
    "duration": 16,
    "start_time": "2022-01-27T19:55:59.623Z"
   },
   {
    "duration": 82,
    "start_time": "2022-01-27T19:59:00.784Z"
   },
   {
    "duration": 80,
    "start_time": "2022-01-27T19:59:55.636Z"
   },
   {
    "duration": 96,
    "start_time": "2022-01-27T20:01:30.147Z"
   },
   {
    "duration": 92,
    "start_time": "2022-01-27T20:01:49.233Z"
   },
   {
    "duration": 95,
    "start_time": "2022-01-27T20:02:06.313Z"
   },
   {
    "duration": 3,
    "start_time": "2022-01-27T20:02:15.545Z"
   },
   {
    "duration": 7,
    "start_time": "2022-01-27T20:02:15.550Z"
   },
   {
    "duration": 425,
    "start_time": "2022-01-27T20:02:15.559Z"
   },
   {
    "duration": 49,
    "start_time": "2022-01-27T20:02:15.986Z"
   },
   {
    "duration": 454,
    "start_time": "2022-01-27T20:02:16.037Z"
   },
   {
    "duration": 215,
    "start_time": "2022-01-27T20:02:16.493Z"
   },
   {
    "duration": 293,
    "start_time": "2022-01-27T20:02:16.711Z"
   },
   {
    "duration": 46,
    "start_time": "2022-01-27T20:02:17.006Z"
   },
   {
    "duration": 147,
    "start_time": "2022-01-27T20:02:17.054Z"
   },
   {
    "duration": 97,
    "start_time": "2022-01-27T20:02:19.990Z"
   },
   {
    "duration": 2,
    "start_time": "2022-01-27T20:02:33.794Z"
   },
   {
    "duration": 16,
    "start_time": "2022-01-27T20:02:33.799Z"
   },
   {
    "duration": 425,
    "start_time": "2022-01-27T20:02:33.818Z"
   },
   {
    "duration": 48,
    "start_time": "2022-01-27T20:02:34.245Z"
   },
   {
    "duration": 400,
    "start_time": "2022-01-27T20:02:34.294Z"
   },
   {
    "duration": 201,
    "start_time": "2022-01-27T20:02:34.696Z"
   },
   {
    "duration": 301,
    "start_time": "2022-01-27T20:02:34.900Z"
   },
   {
    "duration": 47,
    "start_time": "2022-01-27T20:02:35.203Z"
   },
   {
    "duration": 138,
    "start_time": "2022-01-27T20:02:35.252Z"
   },
   {
    "duration": 84,
    "start_time": "2022-01-27T20:02:38.682Z"
   },
   {
    "duration": 312,
    "start_time": "2022-01-28T06:55:18.211Z"
   },
   {
    "duration": 814,
    "start_time": "2022-01-28T06:55:22.747Z"
   },
   {
    "duration": 10,
    "start_time": "2022-01-28T06:55:23.564Z"
   },
   {
    "duration": 530,
    "start_time": "2022-01-28T06:55:23.578Z"
   },
   {
    "duration": 87,
    "start_time": "2022-01-28T06:55:24.111Z"
   },
   {
    "duration": 755,
    "start_time": "2022-01-28T06:55:24.201Z"
   },
   {
    "duration": 282,
    "start_time": "2022-01-28T06:55:24.958Z"
   },
   {
    "duration": 568,
    "start_time": "2022-01-28T06:55:25.242Z"
   },
   {
    "duration": 78,
    "start_time": "2022-01-28T06:55:25.813Z"
   },
   {
    "duration": 199,
    "start_time": "2022-01-28T06:55:25.894Z"
   },
   {
    "duration": 20,
    "start_time": "2022-01-28T06:55:30.096Z"
   },
   {
    "duration": 77,
    "start_time": "2022-01-28T06:56:07.684Z"
   },
   {
    "duration": 25,
    "start_time": "2022-01-28T06:56:09.996Z"
   },
   {
    "duration": 340,
    "start_time": "2022-01-28T06:57:29.420Z"
   },
   {
    "duration": 5,
    "start_time": "2022-01-28T06:57:39.449Z"
   },
   {
    "duration": 8,
    "start_time": "2022-01-28T06:58:06.479Z"
   },
   {
    "duration": 9,
    "start_time": "2022-01-28T06:58:46.911Z"
   },
   {
    "duration": 7,
    "start_time": "2022-01-28T06:59:51.679Z"
   },
   {
    "duration": 6,
    "start_time": "2022-01-28T07:00:06.425Z"
   },
   {
    "duration": 239,
    "start_time": "2022-01-28T07:00:52.138Z"
   },
   {
    "duration": 88,
    "start_time": "2022-01-28T07:01:15.433Z"
   },
   {
    "duration": 8,
    "start_time": "2022-01-28T07:02:06.224Z"
   },
   {
    "duration": 285,
    "start_time": "2022-01-28T07:06:40.122Z"
   },
   {
    "duration": 125,
    "start_time": "2022-01-28T07:08:04.845Z"
   },
   {
    "duration": 267,
    "start_time": "2022-01-28T07:08:26.196Z"
   },
   {
    "duration": 242,
    "start_time": "2022-01-28T07:09:56.458Z"
   },
   {
    "duration": 247,
    "start_time": "2022-01-28T07:12:07.567Z"
   },
   {
    "duration": 11,
    "start_time": "2022-01-28T07:13:41.656Z"
   },
   {
    "duration": 9,
    "start_time": "2022-01-28T07:13:46.986Z"
   },
   {
    "duration": 14,
    "start_time": "2022-01-28T07:14:01.547Z"
   },
   {
    "duration": 265,
    "start_time": "2022-01-28T07:14:34.629Z"
   },
   {
    "duration": 252,
    "start_time": "2022-01-28T07:17:17.668Z"
   },
   {
    "duration": 92,
    "start_time": "2022-01-28T07:17:41.083Z"
   },
   {
    "duration": 97,
    "start_time": "2022-01-28T07:18:08.000Z"
   },
   {
    "duration": 7,
    "start_time": "2022-01-28T07:18:16.739Z"
   },
   {
    "duration": 270,
    "start_time": "2022-01-28T07:18:27.445Z"
   },
   {
    "duration": 254,
    "start_time": "2022-01-28T07:18:44.946Z"
   },
   {
    "duration": 263,
    "start_time": "2022-01-28T07:19:19.968Z"
   },
   {
    "duration": 270,
    "start_time": "2022-01-28T07:19:58.530Z"
   },
   {
    "duration": 12,
    "start_time": "2022-01-28T07:20:46.667Z"
   },
   {
    "duration": 255,
    "start_time": "2022-01-28T07:21:02.136Z"
   },
   {
    "duration": 1783,
    "start_time": "2022-01-28T07:21:09.445Z"
   },
   {
    "duration": 262,
    "start_time": "2022-01-28T07:22:30.507Z"
   },
   {
    "duration": 7,
    "start_time": "2022-01-28T07:25:05.002Z"
   },
   {
    "duration": 344,
    "start_time": "2022-01-28T07:25:15.746Z"
   },
   {
    "duration": 4,
    "start_time": "2022-01-28T07:25:57.750Z"
   },
   {
    "duration": 251,
    "start_time": "2022-01-28T07:27:44.648Z"
   },
   {
    "duration": 255,
    "start_time": "2022-01-28T07:42:16.267Z"
   },
   {
    "duration": 72,
    "start_time": "2022-01-28T07:42:21.914Z"
   },
   {
    "duration": 37,
    "start_time": "2022-01-28T07:42:24.424Z"
   },
   {
    "duration": 37,
    "start_time": "2022-01-28T07:42:49.919Z"
   },
   {
    "duration": 252,
    "start_time": "2022-01-28T07:44:11.965Z"
   },
   {
    "duration": 29,
    "start_time": "2022-01-28T07:44:20.823Z"
   },
   {
    "duration": 26,
    "start_time": "2022-01-28T07:44:57.703Z"
   },
   {
    "duration": 57,
    "start_time": "2022-01-28T07:45:09.499Z"
   },
   {
    "duration": 32,
    "start_time": "2022-01-28T07:45:13.286Z"
   },
   {
    "duration": 4,
    "start_time": "2022-01-28T07:46:18.283Z"
   },
   {
    "duration": 9,
    "start_time": "2022-01-28T07:46:18.290Z"
   },
   {
    "duration": 506,
    "start_time": "2022-01-28T07:46:18.302Z"
   },
   {
    "duration": 75,
    "start_time": "2022-01-28T07:46:18.810Z"
   },
   {
    "duration": 711,
    "start_time": "2022-01-28T07:46:18.887Z"
   },
   {
    "duration": 290,
    "start_time": "2022-01-28T07:46:19.600Z"
   },
   {
    "duration": 493,
    "start_time": "2022-01-28T07:46:19.892Z"
   },
   {
    "duration": 85,
    "start_time": "2022-01-28T07:46:20.388Z"
   },
   {
    "duration": 183,
    "start_time": "2022-01-28T07:46:20.475Z"
   },
   {
    "duration": 89,
    "start_time": "2022-01-28T07:46:20.661Z"
   },
   {
    "duration": 25,
    "start_time": "2022-01-28T07:46:23.645Z"
   },
   {
    "duration": 26,
    "start_time": "2022-01-28T07:46:54.271Z"
   },
   {
    "duration": 14,
    "start_time": "2022-01-28T07:47:44.153Z"
   },
   {
    "duration": 75,
    "start_time": "2022-01-28T07:48:20.581Z"
   },
   {
    "duration": 10,
    "start_time": "2022-01-28T07:48:24.205Z"
   },
   {
    "duration": 22,
    "start_time": "2022-01-28T07:48:32.406Z"
   },
   {
    "duration": 9,
    "start_time": "2022-01-28T07:48:55.669Z"
   },
   {
    "duration": 22,
    "start_time": "2022-01-28T07:49:52.111Z"
   },
   {
    "duration": 27,
    "start_time": "2022-01-28T07:50:23.692Z"
   },
   {
    "duration": 263,
    "start_time": "2022-01-28T07:51:29.614Z"
   },
   {
    "duration": 19,
    "start_time": "2022-01-28T07:51:35.632Z"
   },
   {
    "duration": 30,
    "start_time": "2022-01-28T07:52:22.625Z"
   },
   {
    "duration": 12,
    "start_time": "2022-01-28T07:52:35.808Z"
   },
   {
    "duration": 10,
    "start_time": "2022-01-28T07:53:16.284Z"
   },
   {
    "duration": 6,
    "start_time": "2022-01-28T07:53:41.627Z"
   },
   {
    "duration": 7,
    "start_time": "2022-01-28T07:54:09.195Z"
   },
   {
    "duration": 20,
    "start_time": "2022-01-28T07:54:34.342Z"
   },
   {
    "duration": 227,
    "start_time": "2022-01-28T07:54:52.085Z"
   },
   {
    "duration": 15,
    "start_time": "2022-01-28T07:55:00.128Z"
   },
   {
    "duration": 7,
    "start_time": "2022-01-28T07:55:30.045Z"
   },
   {
    "duration": 7,
    "start_time": "2022-01-28T07:55:37.710Z"
   },
   {
    "duration": 8,
    "start_time": "2022-01-28T07:57:14.082Z"
   },
   {
    "duration": 18,
    "start_time": "2022-01-28T07:57:23.828Z"
   },
   {
    "duration": 7,
    "start_time": "2022-01-28T07:57:35.897Z"
   },
   {
    "duration": 7,
    "start_time": "2022-01-28T07:59:18.896Z"
   },
   {
    "duration": 7,
    "start_time": "2022-01-28T07:59:27.220Z"
   },
   {
    "duration": 8,
    "start_time": "2022-01-28T07:59:41.044Z"
   },
   {
    "duration": 7,
    "start_time": "2022-01-28T07:59:48.762Z"
   },
   {
    "duration": 7,
    "start_time": "2022-01-28T07:59:54.172Z"
   },
   {
    "duration": 8,
    "start_time": "2022-01-28T07:59:59.449Z"
   },
   {
    "duration": 30,
    "start_time": "2022-01-28T08:00:22.760Z"
   },
   {
    "duration": 30,
    "start_time": "2022-01-28T08:00:38.772Z"
   },
   {
    "duration": 25,
    "start_time": "2022-01-28T08:00:53.588Z"
   },
   {
    "duration": 31,
    "start_time": "2022-01-28T08:03:52.465Z"
   },
   {
    "duration": 28,
    "start_time": "2022-01-28T08:07:18.429Z"
   },
   {
    "duration": 38,
    "start_time": "2022-01-28T08:08:18.054Z"
   },
   {
    "duration": 29,
    "start_time": "2022-01-28T08:08:30.508Z"
   },
   {
    "duration": 44,
    "start_time": "2022-01-28T08:11:28.024Z"
   },
   {
    "duration": 51,
    "start_time": "2022-01-28T08:12:18.646Z"
   },
   {
    "duration": 50,
    "start_time": "2022-01-28T08:20:12.046Z"
   },
   {
    "duration": 278,
    "start_time": "2022-01-28T08:24:28.730Z"
   },
   {
    "duration": 286,
    "start_time": "2022-01-28T08:25:05.078Z"
   },
   {
    "duration": 280,
    "start_time": "2022-01-28T08:26:09.179Z"
   },
   {
    "duration": 45,
    "start_time": "2022-01-28T08:26:27.819Z"
   },
   {
    "duration": 49,
    "start_time": "2022-01-28T08:27:03.053Z"
   },
   {
    "duration": 297,
    "start_time": "2022-01-28T08:28:22.187Z"
   },
   {
    "duration": 293,
    "start_time": "2022-01-28T08:28:27.593Z"
   },
   {
    "duration": 264,
    "start_time": "2022-01-28T08:30:47.653Z"
   },
   {
    "duration": 53,
    "start_time": "2022-01-28T08:32:10.874Z"
   },
   {
    "duration": 104,
    "start_time": "2022-01-28T08:35:07.965Z"
   },
   {
    "duration": 49,
    "start_time": "2022-01-28T08:35:29.911Z"
   },
   {
    "duration": 53,
    "start_time": "2022-01-28T08:36:18.602Z"
   },
   {
    "duration": 55,
    "start_time": "2022-01-28T08:38:01.815Z"
   },
   {
    "duration": 51,
    "start_time": "2022-01-28T08:38:09.334Z"
   },
   {
    "duration": 81,
    "start_time": "2022-01-28T08:38:17.187Z"
   },
   {
    "duration": 53,
    "start_time": "2022-01-28T08:38:28.433Z"
   },
   {
    "duration": 53,
    "start_time": "2022-01-28T08:38:37.629Z"
   },
   {
    "duration": 49,
    "start_time": "2022-01-28T08:39:04.772Z"
   },
   {
    "duration": 287,
    "start_time": "2022-01-28T08:39:11.846Z"
   },
   {
    "duration": 48,
    "start_time": "2022-01-28T08:39:26.375Z"
   },
   {
    "duration": 52,
    "start_time": "2022-01-28T08:40:53.433Z"
   },
   {
    "duration": 222,
    "start_time": "2022-01-28T08:41:51.210Z"
   },
   {
    "duration": 254,
    "start_time": "2022-01-28T08:43:05.399Z"
   },
   {
    "duration": 223,
    "start_time": "2022-01-28T08:43:38.395Z"
   },
   {
    "duration": 248,
    "start_time": "2022-01-28T08:44:54.020Z"
   },
   {
    "duration": 245,
    "start_time": "2022-01-28T08:45:20.238Z"
   },
   {
    "duration": 900,
    "start_time": "2022-01-28T08:45:45.224Z"
   },
   {
    "duration": 259,
    "start_time": "2022-01-28T08:46:05.946Z"
   },
   {
    "duration": 3,
    "start_time": "2022-01-28T08:46:14.235Z"
   },
   {
    "duration": 10,
    "start_time": "2022-01-28T08:46:14.240Z"
   },
   {
    "duration": 479,
    "start_time": "2022-01-28T08:46:14.253Z"
   },
   {
    "duration": 71,
    "start_time": "2022-01-28T08:46:14.735Z"
   },
   {
    "duration": 577,
    "start_time": "2022-01-28T08:46:14.808Z"
   },
   {
    "duration": 271,
    "start_time": "2022-01-28T08:46:15.387Z"
   },
   {
    "duration": 461,
    "start_time": "2022-01-28T08:46:15.661Z"
   },
   {
    "duration": 74,
    "start_time": "2022-01-28T08:46:16.125Z"
   },
   {
    "duration": 180,
    "start_time": "2022-01-28T08:46:16.201Z"
   },
   {
    "duration": 81,
    "start_time": "2022-01-28T08:46:16.384Z"
   },
   {
    "duration": 82,
    "start_time": "2022-01-28T08:46:30.540Z"
   },
   {
    "duration": 245,
    "start_time": "2022-01-28T08:51:14.742Z"
   },
   {
    "duration": 330,
    "start_time": "2022-01-28T08:53:24.068Z"
   },
   {
    "duration": 3,
    "start_time": "2022-01-28T08:53:46.349Z"
   },
   {
    "duration": 9,
    "start_time": "2022-01-28T08:53:46.355Z"
   },
   {
    "duration": 512,
    "start_time": "2022-01-28T08:53:46.368Z"
   },
   {
    "duration": 82,
    "start_time": "2022-01-28T08:53:46.883Z"
   },
   {
    "duration": 638,
    "start_time": "2022-01-28T08:53:46.968Z"
   },
   {
    "duration": 276,
    "start_time": "2022-01-28T08:53:47.608Z"
   },
   {
    "duration": 470,
    "start_time": "2022-01-28T08:53:47.887Z"
   },
   {
    "duration": 85,
    "start_time": "2022-01-28T08:53:48.359Z"
   },
   {
    "duration": 170,
    "start_time": "2022-01-28T08:53:48.448Z"
   },
   {
    "duration": 77,
    "start_time": "2022-01-28T08:53:48.621Z"
   },
   {
    "duration": 60,
    "start_time": "2022-01-28T08:53:59.705Z"
   },
   {
    "duration": 49,
    "start_time": "2022-01-28T08:54:08.809Z"
   },
   {
    "duration": 46,
    "start_time": "2022-01-28T08:54:53.403Z"
   },
   {
    "duration": 36,
    "start_time": "2022-01-28T08:56:50.162Z"
   },
   {
    "duration": 368,
    "start_time": "2022-01-28T08:58:56.898Z"
   },
   {
    "duration": 275,
    "start_time": "2022-01-28T09:00:07.324Z"
   },
   {
    "duration": 34,
    "start_time": "2022-01-28T09:02:34.759Z"
   },
   {
    "duration": 4,
    "start_time": "2022-01-28T09:04:25.895Z"
   },
   {
    "duration": 18,
    "start_time": "2022-01-28T09:04:25.902Z"
   },
   {
    "duration": 513,
    "start_time": "2022-01-28T09:04:25.924Z"
   },
   {
    "duration": 94,
    "start_time": "2022-01-28T09:04:26.441Z"
   },
   {
    "duration": 665,
    "start_time": "2022-01-28T09:04:26.537Z"
   },
   {
    "duration": 281,
    "start_time": "2022-01-28T09:04:27.204Z"
   },
   {
    "duration": 460,
    "start_time": "2022-01-28T09:04:27.487Z"
   },
   {
    "duration": 93,
    "start_time": "2022-01-28T09:04:27.951Z"
   },
   {
    "duration": 175,
    "start_time": "2022-01-28T09:04:28.046Z"
   },
   {
    "duration": 76,
    "start_time": "2022-01-28T09:04:28.224Z"
   },
   {
    "duration": 68,
    "start_time": "2022-01-28T09:04:28.302Z"
   },
   {
    "duration": 244,
    "start_time": "2022-01-28T09:04:53.800Z"
   },
   {
    "duration": 6,
    "start_time": "2022-01-28T09:05:00.307Z"
   },
   {
    "duration": 17,
    "start_time": "2022-01-28T09:06:14.568Z"
   },
   {
    "duration": 19,
    "start_time": "2022-01-28T09:07:11.103Z"
   },
   {
    "duration": 46,
    "start_time": "2022-01-28T09:10:14.058Z"
   },
   {
    "duration": 20,
    "start_time": "2022-01-28T09:11:00.394Z"
   },
   {
    "duration": 3,
    "start_time": "2022-01-28T09:11:16.777Z"
   },
   {
    "duration": 10,
    "start_time": "2022-01-28T09:11:16.783Z"
   },
   {
    "duration": 501,
    "start_time": "2022-01-28T09:11:16.796Z"
   },
   {
    "duration": 73,
    "start_time": "2022-01-28T09:11:17.300Z"
   },
   {
    "duration": 705,
    "start_time": "2022-01-28T09:11:17.375Z"
   },
   {
    "duration": 280,
    "start_time": "2022-01-28T09:11:18.082Z"
   },
   {
    "duration": 463,
    "start_time": "2022-01-28T09:11:18.364Z"
   },
   {
    "duration": 72,
    "start_time": "2022-01-28T09:11:18.833Z"
   },
   {
    "duration": 168,
    "start_time": "2022-01-28T09:11:18.933Z"
   },
   {
    "duration": 83,
    "start_time": "2022-01-28T09:11:19.104Z"
   },
   {
    "duration": 105,
    "start_time": "2022-01-28T09:11:19.189Z"
   },
   {
    "duration": 20,
    "start_time": "2022-01-28T09:11:21.367Z"
   },
   {
    "duration": 22,
    "start_time": "2022-01-28T09:11:27.263Z"
   },
   {
    "duration": 18,
    "start_time": "2022-01-28T09:11:32.852Z"
   },
   {
    "duration": 214,
    "start_time": "2022-01-28T09:13:29.926Z"
   },
   {
    "duration": 40,
    "start_time": "2022-01-28T09:13:43.592Z"
   },
   {
    "duration": 38,
    "start_time": "2022-01-28T09:14:10.235Z"
   },
   {
    "duration": 9,
    "start_time": "2022-01-28T09:15:17.157Z"
   },
   {
    "duration": 36,
    "start_time": "2022-01-28T09:15:52.682Z"
   },
   {
    "duration": 7430,
    "start_time": "2022-01-28T09:17:16.521Z"
   },
   {
    "duration": 38,
    "start_time": "2022-01-28T09:17:38.577Z"
   },
   {
    "duration": 41,
    "start_time": "2022-01-28T09:17:45.927Z"
   },
   {
    "duration": 46,
    "start_time": "2022-01-28T09:18:44.588Z"
   },
   {
    "duration": 51,
    "start_time": "2022-01-28T09:19:19.442Z"
   },
   {
    "duration": 279,
    "start_time": "2022-01-28T09:26:47.312Z"
   },
   {
    "duration": 4,
    "start_time": "2022-01-28T09:29:45.766Z"
   },
   {
    "duration": 9,
    "start_time": "2022-01-28T09:29:45.773Z"
   },
   {
    "duration": 505,
    "start_time": "2022-01-28T09:29:45.784Z"
   },
   {
    "duration": 83,
    "start_time": "2022-01-28T09:29:46.291Z"
   },
   {
    "duration": 734,
    "start_time": "2022-01-28T09:29:46.377Z"
   },
   {
    "duration": 314,
    "start_time": "2022-01-28T09:29:47.113Z"
   },
   {
    "duration": 576,
    "start_time": "2022-01-28T09:29:47.433Z"
   },
   {
    "duration": 78,
    "start_time": "2022-01-28T09:29:48.012Z"
   },
   {
    "duration": 185,
    "start_time": "2022-01-28T09:29:48.093Z"
   },
   {
    "duration": 89,
    "start_time": "2022-01-28T09:29:48.282Z"
   },
   {
    "duration": 109,
    "start_time": "2022-01-28T09:29:48.373Z"
   },
   {
    "duration": 287,
    "start_time": "2022-01-28T09:29:56.560Z"
   },
   {
    "duration": 74,
    "start_time": "2022-01-28T09:30:05.328Z"
   },
   {
    "duration": 52,
    "start_time": "2022-01-28T09:33:57.962Z"
   },
   {
    "duration": 54,
    "start_time": "2022-01-28T09:35:06.442Z"
   },
   {
    "duration": 174,
    "start_time": "2022-01-28T10:22:55.472Z"
   },
   {
    "duration": 3,
    "start_time": "2022-01-28T10:27:38.317Z"
   },
   {
    "duration": 9,
    "start_time": "2022-01-28T10:27:38.323Z"
   },
   {
    "duration": 477,
    "start_time": "2022-01-28T10:27:38.336Z"
   },
   {
    "duration": 73,
    "start_time": "2022-01-28T10:27:38.816Z"
   },
   {
    "duration": 708,
    "start_time": "2022-01-28T10:27:38.891Z"
   },
   {
    "duration": 273,
    "start_time": "2022-01-28T10:27:39.602Z"
   },
   {
    "duration": 548,
    "start_time": "2022-01-28T10:27:39.877Z"
   },
   {
    "duration": 70,
    "start_time": "2022-01-28T10:27:40.432Z"
   },
   {
    "duration": 192,
    "start_time": "2022-01-28T10:27:40.506Z"
   },
   {
    "duration": 84,
    "start_time": "2022-01-28T10:27:40.701Z"
   },
   {
    "duration": 112,
    "start_time": "2022-01-28T10:27:40.787Z"
   },
   {
    "duration": 74,
    "start_time": "2022-01-28T10:27:40.901Z"
   },
   {
    "duration": 11,
    "start_time": "2022-01-28T10:30:10.020Z"
   },
   {
    "duration": 244,
    "start_time": "2022-01-28T10:39:46.472Z"
   },
   {
    "duration": 13,
    "start_time": "2022-01-28T10:41:08.421Z"
   },
   {
    "duration": 13,
    "start_time": "2022-01-28T10:41:48.491Z"
   },
   {
    "duration": 258,
    "start_time": "2022-01-28T10:43:13.765Z"
   },
   {
    "duration": 9,
    "start_time": "2022-01-28T10:44:41.204Z"
   },
   {
    "duration": 749,
    "start_time": "2022-01-28T10:46:07.707Z"
   },
   {
    "duration": 17,
    "start_time": "2022-01-28T10:46:53.485Z"
   },
   {
    "duration": 4,
    "start_time": "2022-01-28T10:47:45.465Z"
   },
   {
    "duration": 13,
    "start_time": "2022-01-28T10:47:45.472Z"
   },
   {
    "duration": 521,
    "start_time": "2022-01-28T10:47:45.488Z"
   },
   {
    "duration": 97,
    "start_time": "2022-01-28T10:47:46.012Z"
   },
   {
    "duration": 786,
    "start_time": "2022-01-28T10:47:46.111Z"
   },
   {
    "duration": 304,
    "start_time": "2022-01-28T10:47:46.899Z"
   },
   {
    "duration": 659,
    "start_time": "2022-01-28T10:47:47.205Z"
   },
   {
    "duration": 97,
    "start_time": "2022-01-28T10:47:47.867Z"
   },
   {
    "duration": 186,
    "start_time": "2022-01-28T10:47:47.967Z"
   },
   {
    "duration": 85,
    "start_time": "2022-01-28T10:47:48.156Z"
   },
   {
    "duration": 104,
    "start_time": "2022-01-28T10:47:48.243Z"
   },
   {
    "duration": 56,
    "start_time": "2022-01-28T10:47:48.350Z"
   },
   {
    "duration": 25,
    "start_time": "2022-01-28T10:47:48.408Z"
   },
   {
    "duration": 13,
    "start_time": "2022-01-28T10:47:48.436Z"
   },
   {
    "duration": 9,
    "start_time": "2022-01-28T10:48:39.533Z"
   },
   {
    "duration": 12,
    "start_time": "2022-01-28T10:48:41.775Z"
   },
   {
    "duration": 15,
    "start_time": "2022-01-28T11:01:51.120Z"
   },
   {
    "duration": 6,
    "start_time": "2022-01-28T11:02:33.447Z"
   },
   {
    "duration": 265,
    "start_time": "2022-01-28T11:02:45.148Z"
   },
   {
    "duration": 13,
    "start_time": "2022-01-28T11:03:01.353Z"
   },
   {
    "duration": 9,
    "start_time": "2022-01-28T11:05:21.250Z"
   },
   {
    "duration": 29,
    "start_time": "2022-01-28T11:05:28.461Z"
   },
   {
    "duration": 8,
    "start_time": "2022-01-28T11:15:06.489Z"
   },
   {
    "duration": 4,
    "start_time": "2022-01-28T11:15:42.716Z"
   },
   {
    "duration": 1192,
    "start_time": "2022-01-28T11:15:45.015Z"
   },
   {
    "duration": 14,
    "start_time": "2022-01-28T11:17:29.070Z"
   },
   {
    "duration": 3,
    "start_time": "2022-01-28T11:17:43.251Z"
   },
   {
    "duration": 11,
    "start_time": "2022-01-28T11:17:47.128Z"
   },
   {
    "duration": 10,
    "start_time": "2022-01-28T11:18:40.979Z"
   },
   {
    "duration": 10,
    "start_time": "2022-01-28T11:18:50.007Z"
   },
   {
    "duration": 4,
    "start_time": "2022-01-28T11:19:00.841Z"
   },
   {
    "duration": 13,
    "start_time": "2022-01-28T11:19:02.739Z"
   },
   {
    "duration": 6,
    "start_time": "2022-01-28T11:19:09.554Z"
   },
   {
    "duration": 13,
    "start_time": "2022-01-28T11:19:11.992Z"
   },
   {
    "duration": 4,
    "start_time": "2022-01-28T11:20:10.678Z"
   },
   {
    "duration": 10,
    "start_time": "2022-01-28T11:20:12.691Z"
   },
   {
    "duration": 76,
    "start_time": "2022-01-28T11:23:29.797Z"
   },
   {
    "duration": 88,
    "start_time": "2022-01-28T11:23:55.768Z"
   },
   {
    "duration": 4,
    "start_time": "2022-01-28T11:25:43.457Z"
   },
   {
    "duration": 9,
    "start_time": "2022-01-28T11:26:10.269Z"
   },
   {
    "duration": 5,
    "start_time": "2022-01-28T11:26:23.435Z"
   },
   {
    "duration": 14,
    "start_time": "2022-01-28T11:26:25.627Z"
   },
   {
    "duration": 5,
    "start_time": "2022-01-28T11:28:21.651Z"
   },
   {
    "duration": 8,
    "start_time": "2022-01-28T11:28:24.813Z"
   },
   {
    "duration": 6,
    "start_time": "2022-01-28T11:28:40.209Z"
   },
   {
    "duration": 17,
    "start_time": "2022-01-28T11:28:42.410Z"
   },
   {
    "duration": 5,
    "start_time": "2022-01-28T11:30:32.684Z"
   },
   {
    "duration": 9,
    "start_time": "2022-01-28T11:30:36.399Z"
   },
   {
    "duration": 5,
    "start_time": "2022-01-28T11:30:44.869Z"
   },
   {
    "duration": 9,
    "start_time": "2022-01-28T11:30:47.523Z"
   },
   {
    "duration": 5,
    "start_time": "2022-01-28T11:35:27.277Z"
   },
   {
    "duration": 9,
    "start_time": "2022-01-28T11:35:29.616Z"
   },
   {
    "duration": 5,
    "start_time": "2022-01-28T11:35:36.816Z"
   },
   {
    "duration": 9,
    "start_time": "2022-01-28T11:35:38.805Z"
   },
   {
    "duration": 5,
    "start_time": "2022-01-28T11:36:27.196Z"
   },
   {
    "duration": 5,
    "start_time": "2022-01-28T11:38:04.509Z"
   },
   {
    "duration": 6,
    "start_time": "2022-01-28T11:44:59.079Z"
   },
   {
    "duration": 7,
    "start_time": "2022-01-28T11:45:02.883Z"
   },
   {
    "duration": 572,
    "start_time": "2022-01-28T11:45:16.531Z"
   },
   {
    "duration": 4,
    "start_time": "2022-01-28T11:45:39.503Z"
   },
   {
    "duration": 9,
    "start_time": "2022-01-28T11:45:39.510Z"
   },
   {
    "duration": 509,
    "start_time": "2022-01-28T11:45:39.521Z"
   },
   {
    "duration": 75,
    "start_time": "2022-01-28T11:45:40.035Z"
   },
   {
    "duration": 743,
    "start_time": "2022-01-28T11:45:40.113Z"
   },
   {
    "duration": 281,
    "start_time": "2022-01-28T11:45:40.858Z"
   },
   {
    "duration": 541,
    "start_time": "2022-01-28T11:45:41.142Z"
   },
   {
    "duration": 84,
    "start_time": "2022-01-28T11:45:41.687Z"
   },
   {
    "duration": 187,
    "start_time": "2022-01-28T11:45:41.774Z"
   },
   {
    "duration": 93,
    "start_time": "2022-01-28T11:45:41.964Z"
   },
   {
    "duration": 122,
    "start_time": "2022-01-28T11:45:42.060Z"
   },
   {
    "duration": 66,
    "start_time": "2022-01-28T11:45:42.185Z"
   },
   {
    "duration": 7,
    "start_time": "2022-01-28T11:45:42.254Z"
   },
   {
    "duration": 11,
    "start_time": "2022-01-28T11:45:42.264Z"
   },
   {
    "duration": 56,
    "start_time": "2022-01-28T11:45:42.278Z"
   },
   {
    "duration": 6,
    "start_time": "2022-01-28T11:45:42.337Z"
   },
   {
    "duration": 497,
    "start_time": "2022-01-28T11:46:35.027Z"
   },
   {
    "duration": 5,
    "start_time": "2022-01-28T11:48:40.754Z"
   },
   {
    "duration": 514,
    "start_time": "2022-01-28T11:48:44.587Z"
   },
   {
    "duration": 770,
    "start_time": "2022-01-28T13:39:06.913Z"
   },
   {
    "duration": 10,
    "start_time": "2022-01-28T13:39:07.685Z"
   },
   {
    "duration": 535,
    "start_time": "2022-01-28T13:39:07.698Z"
   },
   {
    "duration": 103,
    "start_time": "2022-01-28T13:39:08.236Z"
   },
   {
    "duration": 708,
    "start_time": "2022-01-28T13:39:08.341Z"
   },
   {
    "duration": 282,
    "start_time": "2022-01-28T13:39:09.052Z"
   },
   {
    "duration": 539,
    "start_time": "2022-01-28T13:39:09.337Z"
   },
   {
    "duration": 82,
    "start_time": "2022-01-28T13:39:09.879Z"
   },
   {
    "duration": 182,
    "start_time": "2022-01-28T13:39:09.965Z"
   },
   {
    "duration": 84,
    "start_time": "2022-01-28T13:39:10.150Z"
   },
   {
    "duration": 112,
    "start_time": "2022-01-28T13:39:10.237Z"
   },
   {
    "duration": 55,
    "start_time": "2022-01-28T13:39:10.351Z"
   },
   {
    "duration": 4,
    "start_time": "2022-01-28T13:39:10.409Z"
   },
   {
    "duration": 8,
    "start_time": "2022-01-28T13:39:10.433Z"
   },
   {
    "duration": 30,
    "start_time": "2022-01-28T13:39:10.443Z"
   },
   {
    "duration": 5,
    "start_time": "2022-01-28T13:39:10.475Z"
   },
   {
    "duration": 634,
    "start_time": "2022-01-28T13:39:10.483Z"
   },
   {
    "duration": 8,
    "start_time": "2022-01-28T13:43:21.242Z"
   },
   {
    "duration": 529,
    "start_time": "2022-01-28T13:43:23.882Z"
   },
   {
    "duration": 6,
    "start_time": "2022-01-28T13:43:43.570Z"
   },
   {
    "duration": 573,
    "start_time": "2022-01-28T13:43:45.545Z"
   },
   {
    "duration": 12,
    "start_time": "2022-01-28T13:44:02.029Z"
   },
   {
    "duration": 9,
    "start_time": "2022-01-28T13:44:04.852Z"
   },
   {
    "duration": 425,
    "start_time": "2022-01-28T13:44:37.165Z"
   },
   {
    "duration": 6,
    "start_time": "2022-01-28T13:46:54.616Z"
   },
   {
    "duration": 420,
    "start_time": "2022-01-28T13:46:58.175Z"
   },
   {
    "duration": 12,
    "start_time": "2022-01-28T13:47:13.694Z"
   },
   {
    "duration": 6,
    "start_time": "2022-01-28T14:00:00.660Z"
   },
   {
    "duration": 17,
    "start_time": "2022-01-28T14:00:19.686Z"
   },
   {
    "duration": 4,
    "start_time": "2022-01-28T14:05:15.661Z"
   },
   {
    "duration": 12,
    "start_time": "2022-01-28T14:05:15.667Z"
   },
   {
    "duration": 564,
    "start_time": "2022-01-28T14:05:15.682Z"
   },
   {
    "duration": 69,
    "start_time": "2022-01-28T14:05:16.249Z"
   },
   {
    "duration": 693,
    "start_time": "2022-01-28T14:05:16.332Z"
   },
   {
    "duration": 276,
    "start_time": "2022-01-28T14:05:17.028Z"
   },
   {
    "duration": 452,
    "start_time": "2022-01-28T14:05:17.307Z"
   },
   {
    "duration": 83,
    "start_time": "2022-01-28T14:05:17.762Z"
   },
   {
    "duration": 167,
    "start_time": "2022-01-28T14:05:17.849Z"
   },
   {
    "duration": 76,
    "start_time": "2022-01-28T14:05:18.019Z"
   },
   {
    "duration": 113,
    "start_time": "2022-01-28T14:05:18.098Z"
   },
   {
    "duration": 63,
    "start_time": "2022-01-28T14:05:18.213Z"
   },
   {
    "duration": 4,
    "start_time": "2022-01-28T14:05:18.279Z"
   },
   {
    "duration": 16,
    "start_time": "2022-01-28T14:05:18.285Z"
   },
   {
    "duration": 403,
    "start_time": "2022-01-28T14:05:18.304Z"
   },
   {
    "duration": 6,
    "start_time": "2022-01-28T14:05:18.709Z"
   },
   {
    "duration": 27,
    "start_time": "2022-01-28T14:05:18.717Z"
   },
   {
    "duration": 717,
    "start_time": "2022-01-28T14:05:48.954Z"
   },
   {
    "duration": 12,
    "start_time": "2022-01-28T14:05:49.674Z"
   },
   {
    "duration": 545,
    "start_time": "2022-01-28T14:05:49.690Z"
   },
   {
    "duration": 110,
    "start_time": "2022-01-28T14:05:50.238Z"
   },
   {
    "duration": 771,
    "start_time": "2022-01-28T14:05:50.351Z"
   },
   {
    "duration": 297,
    "start_time": "2022-01-28T14:05:51.124Z"
   },
   {
    "duration": 593,
    "start_time": "2022-01-28T14:05:51.424Z"
   },
   {
    "duration": 77,
    "start_time": "2022-01-28T14:05:52.020Z"
   },
   {
    "duration": 193,
    "start_time": "2022-01-28T14:05:52.100Z"
   },
   {
    "duration": 89,
    "start_time": "2022-01-28T14:05:52.296Z"
   },
   {
    "duration": 120,
    "start_time": "2022-01-28T14:05:52.387Z"
   },
   {
    "duration": 61,
    "start_time": "2022-01-28T14:05:52.510Z"
   },
   {
    "duration": 5,
    "start_time": "2022-01-28T14:05:52.574Z"
   },
   {
    "duration": 19,
    "start_time": "2022-01-28T14:05:52.581Z"
   },
   {
    "duration": 419,
    "start_time": "2022-01-28T14:05:52.602Z"
   },
   {
    "duration": 12,
    "start_time": "2022-01-28T14:05:53.023Z"
   },
   {
    "duration": 19,
    "start_time": "2022-01-28T14:05:53.038Z"
   },
   {
    "duration": 704,
    "start_time": "2022-01-28T14:09:39.742Z"
   },
   {
    "duration": 12,
    "start_time": "2022-01-28T14:09:40.449Z"
   },
   {
    "duration": 497,
    "start_time": "2022-01-28T14:09:40.465Z"
   },
   {
    "duration": 84,
    "start_time": "2022-01-28T14:09:40.966Z"
   },
   {
    "duration": 721,
    "start_time": "2022-01-28T14:09:41.053Z"
   },
   {
    "duration": 283,
    "start_time": "2022-01-28T14:09:41.777Z"
   },
   {
    "duration": 549,
    "start_time": "2022-01-28T14:09:42.063Z"
   },
   {
    "duration": 79,
    "start_time": "2022-01-28T14:09:42.616Z"
   },
   {
    "duration": 185,
    "start_time": "2022-01-28T14:09:42.699Z"
   },
   {
    "duration": 85,
    "start_time": "2022-01-28T14:09:42.886Z"
   },
   {
    "duration": 108,
    "start_time": "2022-01-28T14:09:42.973Z"
   },
   {
    "duration": 65,
    "start_time": "2022-01-28T14:09:43.083Z"
   },
   {
    "duration": 4,
    "start_time": "2022-01-28T14:09:43.151Z"
   },
   {
    "duration": 15,
    "start_time": "2022-01-28T14:09:43.157Z"
   },
   {
    "duration": 418,
    "start_time": "2022-01-28T14:09:43.174Z"
   },
   {
    "duration": 37,
    "start_time": "2022-01-28T14:09:43.595Z"
   },
   {
    "duration": 383,
    "start_time": "2022-01-28T14:24:28.831Z"
   },
   {
    "duration": 8,
    "start_time": "2022-01-28T14:24:34.583Z"
   },
   {
    "duration": 91923,
    "start_time": "2022-01-28T14:24:37.990Z"
   },
   {
    "duration": 317,
    "start_time": "2022-01-28T14:27:37.469Z"
   },
   {
    "duration": 315,
    "start_time": "2022-01-28T14:28:13.517Z"
   },
   {
    "duration": 245,
    "start_time": "2022-01-28T14:29:41.964Z"
   },
   {
    "duration": 246,
    "start_time": "2022-01-28T14:29:59.221Z"
   },
   {
    "duration": 271,
    "start_time": "2022-01-28T14:31:03.623Z"
   },
   {
    "duration": 262,
    "start_time": "2022-01-28T14:31:16.563Z"
   },
   {
    "duration": 4,
    "start_time": "2022-01-28T14:32:25.096Z"
   },
   {
    "duration": 13,
    "start_time": "2022-01-28T14:32:25.103Z"
   },
   {
    "duration": 510,
    "start_time": "2022-01-28T14:32:25.119Z"
   },
   {
    "duration": 76,
    "start_time": "2022-01-28T14:32:25.631Z"
   },
   {
    "duration": 672,
    "start_time": "2022-01-28T14:32:25.709Z"
   },
   {
    "duration": 291,
    "start_time": "2022-01-28T14:32:26.383Z"
   },
   {
    "duration": 471,
    "start_time": "2022-01-28T14:32:26.676Z"
   },
   {
    "duration": 93,
    "start_time": "2022-01-28T14:32:27.149Z"
   },
   {
    "duration": 177,
    "start_time": "2022-01-28T14:32:27.247Z"
   },
   {
    "duration": 71,
    "start_time": "2022-01-28T14:32:27.432Z"
   },
   {
    "duration": 112,
    "start_time": "2022-01-28T14:32:27.505Z"
   },
   {
    "duration": 63,
    "start_time": "2022-01-28T14:32:27.619Z"
   },
   {
    "duration": 5,
    "start_time": "2022-01-28T14:32:27.684Z"
   },
   {
    "duration": 11,
    "start_time": "2022-01-28T14:32:27.691Z"
   },
   {
    "duration": 427,
    "start_time": "2022-01-28T14:32:27.705Z"
   },
   {
    "duration": 19,
    "start_time": "2022-01-28T14:32:28.134Z"
   },
   {
    "duration": 10,
    "start_time": "2022-01-28T14:32:28.155Z"
   },
   {
    "duration": 262,
    "start_time": "2022-01-28T14:32:37.605Z"
   },
   {
    "duration": 329,
    "start_time": "2022-01-28T14:32:57.028Z"
   },
   {
    "duration": 318,
    "start_time": "2022-01-28T14:33:23.543Z"
   },
   {
    "duration": 308,
    "start_time": "2022-01-28T14:33:56.261Z"
   },
   {
    "duration": 614,
    "start_time": "2022-01-28T14:35:17.445Z"
   },
   {
    "duration": 638,
    "start_time": "2022-01-28T14:38:26.689Z"
   },
   {
    "duration": 394,
    "start_time": "2022-01-28T14:40:30.438Z"
   },
   {
    "duration": 386,
    "start_time": "2022-01-28T14:41:25.623Z"
   },
   {
    "duration": 428,
    "start_time": "2022-01-28T14:41:47.088Z"
   },
   {
    "duration": 442,
    "start_time": "2022-01-28T14:43:13.696Z"
   },
   {
    "duration": 729,
    "start_time": "2022-01-28T14:48:51.393Z"
   },
   {
    "duration": 6,
    "start_time": "2022-01-28T14:49:54.245Z"
   },
   {
    "duration": 678,
    "start_time": "2022-01-28T14:50:32.634Z"
   },
   {
    "duration": 649,
    "start_time": "2022-01-28T14:50:56.101Z"
   },
   {
    "duration": 84,
    "start_time": "2022-01-28T14:55:29.055Z"
   },
   {
    "duration": 216,
    "start_time": "2022-01-28T14:55:33.155Z"
   },
   {
    "duration": 15288,
    "start_time": "2022-01-28T14:56:13.301Z"
   },
   {
    "duration": 703,
    "start_time": "2022-01-28T14:58:50.752Z"
   },
   {
    "duration": 440,
    "start_time": "2022-01-28T14:59:02.053Z"
   },
   {
    "duration": 450,
    "start_time": "2022-01-28T15:00:12.396Z"
   },
   {
    "duration": 577,
    "start_time": "2022-01-28T15:01:59.466Z"
   },
   {
    "duration": 1021,
    "start_time": "2022-01-28T15:03:22.772Z"
   },
   {
    "duration": 873,
    "start_time": "2022-01-28T15:04:21.476Z"
   },
   {
    "duration": 1041,
    "start_time": "2022-01-28T15:06:34.111Z"
   },
   {
    "duration": 1343,
    "start_time": "2022-01-28T15:12:57.253Z"
   },
   {
    "duration": 926,
    "start_time": "2022-01-28T15:14:27.617Z"
   },
   {
    "duration": 274,
    "start_time": "2022-01-28T15:31:47.000Z"
   },
   {
    "duration": 463,
    "start_time": "2022-01-28T15:37:45.098Z"
   },
   {
    "duration": 398,
    "start_time": "2022-01-28T15:38:41.096Z"
   },
   {
    "duration": 439,
    "start_time": "2022-01-28T15:38:55.017Z"
   },
   {
    "duration": 452,
    "start_time": "2022-01-28T15:39:23.104Z"
   },
   {
    "duration": 89,
    "start_time": "2022-01-28T16:07:32.769Z"
   },
   {
    "duration": 254,
    "start_time": "2022-01-28T16:07:59.818Z"
   },
   {
    "duration": 361,
    "start_time": "2022-01-28T16:10:30.231Z"
   },
   {
    "duration": 1440,
    "start_time": "2022-01-28T16:10:39.264Z"
   },
   {
    "duration": 47,
    "start_time": "2022-01-28T16:28:42.639Z"
   },
   {
    "duration": 241,
    "start_time": "2022-01-28T16:32:04.475Z"
   },
   {
    "duration": 4,
    "start_time": "2022-01-28T16:32:14.551Z"
   },
   {
    "duration": 16,
    "start_time": "2022-01-28T16:32:18.995Z"
   },
   {
    "duration": 46,
    "start_time": "2022-01-28T16:32:35.544Z"
   },
   {
    "duration": 15,
    "start_time": "2022-01-28T16:32:44.948Z"
   },
   {
    "duration": 15,
    "start_time": "2022-01-28T16:33:20.285Z"
   },
   {
    "duration": 248,
    "start_time": "2022-01-28T16:34:33.858Z"
   },
   {
    "duration": 272,
    "start_time": "2022-01-28T16:34:49.053Z"
   },
   {
    "duration": 11,
    "start_time": "2022-01-28T16:35:26.994Z"
   },
   {
    "duration": 88,
    "start_time": "2022-01-28T16:37:03.861Z"
   },
   {
    "duration": 16,
    "start_time": "2022-01-28T16:37:23.240Z"
   },
   {
    "duration": 14,
    "start_time": "2022-01-28T16:37:47.854Z"
   },
   {
    "duration": 9,
    "start_time": "2022-01-28T16:38:31.089Z"
   },
   {
    "duration": 258,
    "start_time": "2022-01-28T16:39:23.721Z"
   },
   {
    "duration": 244,
    "start_time": "2022-01-28T16:39:32.646Z"
   },
   {
    "duration": 259,
    "start_time": "2022-01-28T16:39:39.152Z"
   },
   {
    "duration": 246,
    "start_time": "2022-01-28T16:39:55.791Z"
   },
   {
    "duration": 12,
    "start_time": "2022-01-28T16:40:27.456Z"
   },
   {
    "duration": 10,
    "start_time": "2022-01-28T16:44:40.313Z"
   },
   {
    "duration": 258,
    "start_time": "2022-01-28T16:58:15.961Z"
   },
   {
    "duration": 7,
    "start_time": "2022-01-28T17:00:26.655Z"
   },
   {
    "duration": 9,
    "start_time": "2022-01-28T17:00:41.685Z"
   },
   {
    "duration": 7,
    "start_time": "2022-01-28T17:02:00.289Z"
   },
   {
    "duration": 9,
    "start_time": "2022-01-28T17:02:02.938Z"
   },
   {
    "duration": 16,
    "start_time": "2022-01-28T17:03:16.134Z"
   },
   {
    "duration": 99,
    "start_time": "2022-01-28T17:06:47.644Z"
   },
   {
    "duration": 14,
    "start_time": "2022-01-28T17:06:59.696Z"
   },
   {
    "duration": 17,
    "start_time": "2022-01-28T17:07:26.894Z"
   },
   {
    "duration": 17,
    "start_time": "2022-01-28T17:07:32.380Z"
   },
   {
    "duration": 19,
    "start_time": "2022-01-28T17:11:05.283Z"
   },
   {
    "duration": 30,
    "start_time": "2022-01-28T17:12:16.884Z"
   },
   {
    "duration": 32,
    "start_time": "2022-01-28T17:12:29.624Z"
   },
   {
    "duration": 3,
    "start_time": "2022-01-28T17:20:15.119Z"
   },
   {
    "duration": 11,
    "start_time": "2022-01-28T17:20:15.125Z"
   },
   {
    "duration": 498,
    "start_time": "2022-01-28T17:20:15.139Z"
   },
   {
    "duration": 72,
    "start_time": "2022-01-28T17:20:15.640Z"
   },
   {
    "duration": 682,
    "start_time": "2022-01-28T17:20:15.715Z"
   },
   {
    "duration": 255,
    "start_time": "2022-01-28T17:20:16.400Z"
   },
   {
    "duration": 507,
    "start_time": "2022-01-28T17:20:16.657Z"
   },
   {
    "duration": 90,
    "start_time": "2022-01-28T17:20:17.168Z"
   },
   {
    "duration": 176,
    "start_time": "2022-01-28T17:20:17.260Z"
   },
   {
    "duration": 68,
    "start_time": "2022-01-28T17:20:17.438Z"
   },
   {
    "duration": 106,
    "start_time": "2022-01-28T17:20:17.508Z"
   },
   {
    "duration": 69,
    "start_time": "2022-01-28T17:20:17.616Z"
   },
   {
    "duration": 4,
    "start_time": "2022-01-28T17:20:17.688Z"
   },
   {
    "duration": 9,
    "start_time": "2022-01-28T17:20:17.694Z"
   },
   {
    "duration": 431,
    "start_time": "2022-01-28T17:20:17.706Z"
   },
   {
    "duration": 21,
    "start_time": "2022-01-28T17:20:18.140Z"
   },
   {
    "duration": 9,
    "start_time": "2022-01-28T17:20:18.163Z"
   },
   {
    "duration": 475,
    "start_time": "2022-01-28T17:20:18.175Z"
   },
   {
    "duration": 1325,
    "start_time": "2022-01-28T17:20:18.653Z"
   },
   {
    "duration": 14,
    "start_time": "2022-01-28T17:20:19.980Z"
   },
   {
    "duration": 55,
    "start_time": "2022-01-28T17:20:19.996Z"
   },
   {
    "duration": 6,
    "start_time": "2022-01-28T17:20:46.983Z"
   },
   {
    "duration": 16,
    "start_time": "2022-01-28T17:20:46.992Z"
   },
   {
    "duration": 497,
    "start_time": "2022-01-28T17:20:47.012Z"
   },
   {
    "duration": 79,
    "start_time": "2022-01-28T17:20:47.512Z"
   },
   {
    "duration": 667,
    "start_time": "2022-01-28T17:20:47.594Z"
   },
   {
    "duration": 258,
    "start_time": "2022-01-28T17:20:48.263Z"
   },
   {
    "duration": 428,
    "start_time": "2022-01-28T17:20:48.523Z"
   },
   {
    "duration": 84,
    "start_time": "2022-01-28T17:20:48.955Z"
   },
   {
    "duration": 166,
    "start_time": "2022-01-28T17:20:49.042Z"
   },
   {
    "duration": 82,
    "start_time": "2022-01-28T17:20:49.211Z"
   },
   {
    "duration": 116,
    "start_time": "2022-01-28T17:20:49.296Z"
   },
   {
    "duration": 70,
    "start_time": "2022-01-28T17:20:49.416Z"
   },
   {
    "duration": 5,
    "start_time": "2022-01-28T17:20:49.489Z"
   },
   {
    "duration": 8,
    "start_time": "2022-01-28T17:20:49.496Z"
   },
   {
    "duration": 424,
    "start_time": "2022-01-28T17:20:49.507Z"
   },
   {
    "duration": 20,
    "start_time": "2022-01-28T17:20:49.933Z"
   },
   {
    "duration": 8,
    "start_time": "2022-01-28T17:20:49.956Z"
   },
   {
    "duration": 473,
    "start_time": "2022-01-28T17:20:49.967Z"
   },
   {
    "duration": 1311,
    "start_time": "2022-01-28T17:20:50.442Z"
   },
   {
    "duration": 13,
    "start_time": "2022-01-28T17:20:51.756Z"
   },
   {
    "duration": 60,
    "start_time": "2022-01-28T17:20:51.772Z"
   },
   {
    "duration": 2066,
    "start_time": "2022-01-28T18:23:54.425Z"
   },
   {
    "duration": 4,
    "start_time": "2022-01-28T18:25:45.799Z"
   },
   {
    "duration": 12,
    "start_time": "2022-01-28T18:25:45.806Z"
   },
   {
    "duration": 519,
    "start_time": "2022-01-28T18:25:45.821Z"
   },
   {
    "duration": 90,
    "start_time": "2022-01-28T18:25:46.343Z"
   },
   {
    "duration": 732,
    "start_time": "2022-01-28T18:25:46.435Z"
   },
   {
    "duration": 292,
    "start_time": "2022-01-28T18:25:47.169Z"
   },
   {
    "duration": 548,
    "start_time": "2022-01-28T18:25:47.463Z"
   },
   {
    "duration": 85,
    "start_time": "2022-01-28T18:25:48.014Z"
   },
   {
    "duration": 189,
    "start_time": "2022-01-28T18:25:48.102Z"
   },
   {
    "duration": 79,
    "start_time": "2022-01-28T18:25:48.294Z"
   },
   {
    "duration": 104,
    "start_time": "2022-01-28T18:25:48.375Z"
   },
   {
    "duration": 69,
    "start_time": "2022-01-28T18:25:48.481Z"
   },
   {
    "duration": 5,
    "start_time": "2022-01-28T18:25:48.552Z"
   },
   {
    "duration": 11,
    "start_time": "2022-01-28T18:25:48.560Z"
   },
   {
    "duration": 422,
    "start_time": "2022-01-28T18:25:48.574Z"
   },
   {
    "duration": 35,
    "start_time": "2022-01-28T18:25:48.998Z"
   },
   {
    "duration": 459,
    "start_time": "2022-01-28T18:25:49.036Z"
   },
   {
    "duration": 1775,
    "start_time": "2022-01-28T18:25:49.497Z"
   },
   {
    "duration": 8,
    "start_time": "2022-01-28T18:25:51.275Z"
   },
   {
    "duration": 18,
    "start_time": "2022-01-28T18:25:51.286Z"
   },
   {
    "duration": 50,
    "start_time": "2022-01-28T18:25:51.306Z"
   },
   {
    "duration": 383,
    "start_time": "2022-01-28T18:31:44.506Z"
   },
   {
    "duration": 261,
    "start_time": "2022-01-28T18:32:39.537Z"
   },
   {
    "duration": 258,
    "start_time": "2022-01-28T18:36:52.589Z"
   },
   {
    "duration": 890,
    "start_time": "2022-01-28T18:37:17.321Z"
   },
   {
    "duration": 1205,
    "start_time": "2022-01-28T18:37:49.527Z"
   },
   {
    "duration": 688,
    "start_time": "2022-01-28T18:38:22.469Z"
   },
   {
    "duration": 440,
    "start_time": "2022-01-28T18:40:12.461Z"
   },
   {
    "duration": 1791,
    "start_time": "2022-01-28T18:41:07.387Z"
   },
   {
    "duration": 8,
    "start_time": "2022-01-28T18:52:00.403Z"
   },
   {
    "duration": 8,
    "start_time": "2022-01-28T18:52:35.221Z"
   },
   {
    "duration": 4,
    "start_time": "2022-01-28T18:52:43.104Z"
   },
   {
    "duration": 13,
    "start_time": "2022-01-28T18:52:43.111Z"
   },
   {
    "duration": 508,
    "start_time": "2022-01-28T18:52:43.126Z"
   },
   {
    "duration": 72,
    "start_time": "2022-01-28T18:52:43.637Z"
   },
   {
    "duration": 709,
    "start_time": "2022-01-28T18:52:43.712Z"
   },
   {
    "duration": 275,
    "start_time": "2022-01-28T18:52:44.423Z"
   },
   {
    "duration": 551,
    "start_time": "2022-01-28T18:52:44.700Z"
   },
   {
    "duration": 95,
    "start_time": "2022-01-28T18:52:45.255Z"
   },
   {
    "duration": 173,
    "start_time": "2022-01-28T18:52:45.353Z"
   },
   {
    "duration": 70,
    "start_time": "2022-01-28T18:52:45.532Z"
   },
   {
    "duration": 112,
    "start_time": "2022-01-28T18:52:45.605Z"
   },
   {
    "duration": 1088,
    "start_time": "2022-01-28T18:52:45.720Z"
   },
   {
    "duration": 4,
    "start_time": "2022-01-28T18:52:46.811Z"
   },
   {
    "duration": 6,
    "start_time": "2022-01-28T18:52:46.833Z"
   },
   {
    "duration": 413,
    "start_time": "2022-01-28T18:52:46.841Z"
   },
   {
    "duration": 19,
    "start_time": "2022-01-28T18:52:47.257Z"
   },
   {
    "duration": 473,
    "start_time": "2022-01-28T18:52:47.278Z"
   },
   {
    "duration": 1799,
    "start_time": "2022-01-28T18:52:47.755Z"
   },
   {
    "duration": 10,
    "start_time": "2022-01-28T18:52:49.556Z"
   },
   {
    "duration": 11,
    "start_time": "2022-01-28T18:52:49.568Z"
   },
   {
    "duration": 62,
    "start_time": "2022-01-28T18:52:49.582Z"
   },
   {
    "duration": 8,
    "start_time": "2022-01-28T18:52:54.487Z"
   },
   {
    "duration": 79,
    "start_time": "2022-01-28T18:53:49.668Z"
   },
   {
    "duration": 162,
    "start_time": "2022-01-28T18:54:02.370Z"
   },
   {
    "duration": 238,
    "start_time": "2022-01-28T18:54:14.700Z"
   },
   {
    "duration": 9,
    "start_time": "2022-01-28T18:54:21.066Z"
   },
   {
    "duration": 84,
    "start_time": "2022-01-28T18:54:30.420Z"
   },
   {
    "duration": 9,
    "start_time": "2022-01-28T18:56:06.620Z"
   },
   {
    "duration": 8,
    "start_time": "2022-01-28T18:56:13.521Z"
   },
   {
    "duration": 10,
    "start_time": "2022-01-28T18:56:19.182Z"
   },
   {
    "duration": 231,
    "start_time": "2022-01-28T18:57:55.067Z"
   },
   {
    "duration": 244,
    "start_time": "2022-01-28T18:58:13.451Z"
   },
   {
    "duration": 17,
    "start_time": "2022-01-28T19:02:52.444Z"
   },
   {
    "duration": 90,
    "start_time": "2022-01-28T19:03:22.624Z"
   },
   {
    "duration": 3483,
    "start_time": "2022-01-28T19:03:33.994Z"
   },
   {
    "duration": 17,
    "start_time": "2022-01-28T19:07:16.734Z"
   },
   {
    "duration": 498,
    "start_time": "2022-01-28T19:07:22.363Z"
   },
   {
    "duration": 236,
    "start_time": "2022-01-28T19:08:28.018Z"
   },
   {
    "duration": 16,
    "start_time": "2022-01-28T19:09:50.789Z"
   },
   {
    "duration": 13,
    "start_time": "2022-01-28T19:09:58.213Z"
   },
   {
    "duration": 17,
    "start_time": "2022-01-28T19:11:32.949Z"
   },
   {
    "duration": 14,
    "start_time": "2022-01-28T19:13:14.267Z"
   },
   {
    "duration": 16,
    "start_time": "2022-01-28T19:13:21.788Z"
   },
   {
    "duration": 14,
    "start_time": "2022-01-28T19:13:28.221Z"
   },
   {
    "duration": 17,
    "start_time": "2022-01-28T19:14:35.595Z"
   },
   {
    "duration": 13,
    "start_time": "2022-01-28T19:14:41.063Z"
   },
   {
    "duration": 23,
    "start_time": "2022-01-28T19:15:27.740Z"
   },
   {
    "duration": 236,
    "start_time": "2022-01-28T19:16:13.189Z"
   },
   {
    "duration": 235,
    "start_time": "2022-01-28T19:16:24.131Z"
   },
   {
    "duration": 264,
    "start_time": "2022-01-28T19:16:42.028Z"
   },
   {
    "duration": 17,
    "start_time": "2022-01-28T19:19:30.327Z"
   },
   {
    "duration": 221,
    "start_time": "2022-01-28T19:19:58.847Z"
   },
   {
    "duration": 19,
    "start_time": "2022-01-28T19:21:17.022Z"
   },
   {
    "duration": 213,
    "start_time": "2022-01-28T19:21:24.586Z"
   },
   {
    "duration": 230,
    "start_time": "2022-01-28T19:22:33.752Z"
   },
   {
    "duration": 241,
    "start_time": "2022-01-28T19:22:50.954Z"
   },
   {
    "duration": 245,
    "start_time": "2022-01-28T19:23:03.393Z"
   },
   {
    "duration": 12,
    "start_time": "2022-01-28T19:31:40.147Z"
   },
   {
    "duration": 18,
    "start_time": "2022-01-28T19:38:06.404Z"
   },
   {
    "duration": 223,
    "start_time": "2022-01-28T19:38:14.153Z"
   },
   {
    "duration": 233,
    "start_time": "2022-01-28T19:38:26.608Z"
   },
   {
    "duration": 2121,
    "start_time": "2022-01-28T19:41:44.850Z"
   },
   {
    "duration": 1855,
    "start_time": "2022-01-28T19:42:20.205Z"
   },
   {
    "duration": 1819,
    "start_time": "2022-01-28T19:42:46.196Z"
   },
   {
    "duration": 2057,
    "start_time": "2022-01-28T19:44:58.250Z"
   },
   {
    "duration": 1819,
    "start_time": "2022-01-28T19:45:48.034Z"
   },
   {
    "duration": 1916,
    "start_time": "2022-01-28T19:45:57.332Z"
   },
   {
    "duration": 1844,
    "start_time": "2022-01-28T19:46:28.409Z"
   },
   {
    "duration": 836,
    "start_time": "2022-01-28T19:53:28.724Z"
   },
   {
    "duration": 19,
    "start_time": "2022-01-28T19:54:38.757Z"
   },
   {
    "duration": 276,
    "start_time": "2022-01-28T19:55:28.765Z"
   },
   {
    "duration": 32,
    "start_time": "2022-01-28T19:56:25.987Z"
   },
   {
    "duration": 2272,
    "start_time": "2022-01-28T19:57:53.722Z"
   },
   {
    "duration": 19,
    "start_time": "2022-01-29T09:44:51.763Z"
   },
   {
    "duration": 461,
    "start_time": "2022-01-29T09:44:56.978Z"
   },
   {
    "duration": 1891,
    "start_time": "2022-01-29T09:45:21.521Z"
   },
   {
    "duration": 33,
    "start_time": "2022-01-29T09:45:23.415Z"
   },
   {
    "duration": 613,
    "start_time": "2022-01-29T09:45:23.451Z"
   },
   {
    "duration": 96,
    "start_time": "2022-01-29T09:45:24.068Z"
   },
   {
    "duration": 777,
    "start_time": "2022-01-29T09:45:24.168Z"
   },
   {
    "duration": 311,
    "start_time": "2022-01-29T09:45:24.947Z"
   },
   {
    "duration": 708,
    "start_time": "2022-01-29T09:45:25.263Z"
   },
   {
    "duration": 117,
    "start_time": "2022-01-29T09:45:25.975Z"
   },
   {
    "duration": 245,
    "start_time": "2022-01-29T09:45:26.096Z"
   },
   {
    "duration": 100,
    "start_time": "2022-01-29T09:45:26.344Z"
   },
   {
    "duration": 126,
    "start_time": "2022-01-29T09:45:26.447Z"
   },
   {
    "duration": 67,
    "start_time": "2022-01-29T09:45:26.575Z"
   },
   {
    "duration": 5,
    "start_time": "2022-01-29T09:45:26.646Z"
   },
   {
    "duration": 19,
    "start_time": "2022-01-29T09:45:26.655Z"
   },
   {
    "duration": 662,
    "start_time": "2022-01-29T09:45:26.677Z"
   },
   {
    "duration": 28,
    "start_time": "2022-01-29T09:45:27.350Z"
   },
   {
    "duration": 696,
    "start_time": "2022-01-29T09:45:27.381Z"
   },
   {
    "duration": 1255,
    "start_time": "2022-01-29T09:45:28.080Z"
   },
   {
    "duration": 2631,
    "start_time": "2022-01-29T09:45:26.707Z"
   },
   {
    "duration": 2631,
    "start_time": "2022-01-29T09:45:26.709Z"
   },
   {
    "duration": 2632,
    "start_time": "2022-01-29T09:45:26.710Z"
   },
   {
    "duration": 2631,
    "start_time": "2022-01-29T09:45:26.712Z"
   },
   {
    "duration": 2631,
    "start_time": "2022-01-29T09:45:26.714Z"
   },
   {
    "duration": 5,
    "start_time": "2022-01-29T09:47:19.174Z"
   },
   {
    "duration": 24,
    "start_time": "2022-01-29T09:47:19.183Z"
   },
   {
    "duration": 579,
    "start_time": "2022-01-29T09:47:19.211Z"
   },
   {
    "duration": 87,
    "start_time": "2022-01-29T09:47:19.793Z"
   },
   {
    "duration": 711,
    "start_time": "2022-01-29T09:47:19.882Z"
   },
   {
    "duration": 295,
    "start_time": "2022-01-29T09:47:20.595Z"
   },
   {
    "duration": 514,
    "start_time": "2022-01-29T09:47:20.892Z"
   },
   {
    "duration": 89,
    "start_time": "2022-01-29T09:47:21.410Z"
   },
   {
    "duration": 191,
    "start_time": "2022-01-29T09:47:21.502Z"
   },
   {
    "duration": 86,
    "start_time": "2022-01-29T09:47:21.697Z"
   },
   {
    "duration": 111,
    "start_time": "2022-01-29T09:47:21.785Z"
   },
   {
    "duration": 140,
    "start_time": "2022-01-29T09:47:21.898Z"
   },
   {
    "duration": 8,
    "start_time": "2022-01-29T09:47:22.041Z"
   },
   {
    "duration": 16,
    "start_time": "2022-01-29T09:47:22.052Z"
   },
   {
    "duration": 479,
    "start_time": "2022-01-29T09:47:22.070Z"
   },
   {
    "duration": 23,
    "start_time": "2022-01-29T09:47:22.552Z"
   },
   {
    "duration": 524,
    "start_time": "2022-01-29T09:47:22.578Z"
   },
   {
    "duration": 21,
    "start_time": "2022-01-29T09:47:23.106Z"
   },
   {
    "duration": 2079,
    "start_time": "2022-01-29T09:47:23.130Z"
   },
   {
    "duration": 16,
    "start_time": "2022-01-29T09:47:25.225Z"
   },
   {
    "duration": 42,
    "start_time": "2022-01-29T09:47:25.244Z"
   },
   {
    "duration": 42,
    "start_time": "2022-01-29T09:47:25.288Z"
   },
   {
    "duration": 39,
    "start_time": "2022-01-29T09:47:25.334Z"
   },
   {
    "duration": 320,
    "start_time": "2022-01-29T10:01:52.172Z"
   },
   {
    "duration": 5,
    "start_time": "2022-01-29T10:03:25.315Z"
   },
   {
    "duration": 337,
    "start_time": "2022-01-29T10:06:20.953Z"
   },
   {
    "duration": 328,
    "start_time": "2022-01-29T10:06:45.556Z"
   },
   {
    "duration": 28,
    "start_time": "2022-01-29T10:07:57.101Z"
   },
   {
    "duration": 328,
    "start_time": "2022-01-29T10:09:09.274Z"
   },
   {
    "duration": 622,
    "start_time": "2022-01-29T10:09:27.147Z"
   },
   {
    "duration": 9,
    "start_time": "2022-01-29T10:09:47.604Z"
   },
   {
    "duration": 9,
    "start_time": "2022-01-29T10:09:56.494Z"
   },
   {
    "duration": 58,
    "start_time": "2022-01-29T10:10:30.598Z"
   },
   {
    "duration": 57,
    "start_time": "2022-01-29T10:10:57.890Z"
   },
   {
    "duration": 324,
    "start_time": "2022-01-29T10:11:42.044Z"
   },
   {
    "duration": 6,
    "start_time": "2022-01-29T10:12:04.470Z"
   },
   {
    "duration": 335,
    "start_time": "2022-01-29T10:13:09.358Z"
   },
   {
    "duration": 8,
    "start_time": "2022-01-29T10:13:27.142Z"
   },
   {
    "duration": 5,
    "start_time": "2022-01-29T10:15:15.388Z"
   },
   {
    "duration": 485,
    "start_time": "2022-01-29T10:17:19.286Z"
   },
   {
    "duration": 7,
    "start_time": "2022-01-29T10:23:50.443Z"
   },
   {
    "duration": 292,
    "start_time": "2022-01-29T10:26:15.293Z"
   },
   {
    "duration": 412,
    "start_time": "2022-01-29T10:28:58.871Z"
   },
   {
    "duration": 9863,
    "start_time": "2022-01-29T10:34:49.080Z"
   },
   {
    "duration": 91,
    "start_time": "2022-01-29T10:35:40.816Z"
   },
   {
    "duration": 9580,
    "start_time": "2022-01-29T10:35:48.888Z"
   },
   {
    "duration": 9924,
    "start_time": "2022-01-29T10:36:11.707Z"
   },
   {
    "duration": 431,
    "start_time": "2022-01-29T10:36:49.164Z"
   },
   {
    "duration": 513,
    "start_time": "2022-01-29T10:36:59.261Z"
   },
   {
    "duration": 433,
    "start_time": "2022-01-29T10:37:25.352Z"
   },
   {
    "duration": 493,
    "start_time": "2022-01-29T10:37:57.993Z"
   },
   {
    "duration": 772,
    "start_time": "2022-01-29T10:38:34.652Z"
   },
   {
    "duration": 465,
    "start_time": "2022-01-29T10:39:31.482Z"
   },
   {
    "duration": 493,
    "start_time": "2022-01-29T10:39:50.418Z"
   },
   {
    "duration": 680,
    "start_time": "2022-01-29T10:40:09.855Z"
   },
   {
    "duration": 1577,
    "start_time": "2022-01-29T10:40:45.588Z"
   },
   {
    "duration": 665,
    "start_time": "2022-01-29T10:41:28.882Z"
   },
   {
    "duration": 4,
    "start_time": "2022-01-29T10:43:45.701Z"
   },
   {
    "duration": 20,
    "start_time": "2022-01-29T10:43:45.708Z"
   },
   {
    "duration": 531,
    "start_time": "2022-01-29T10:43:45.733Z"
   },
   {
    "duration": 84,
    "start_time": "2022-01-29T10:43:46.267Z"
   },
   {
    "duration": 664,
    "start_time": "2022-01-29T10:43:46.353Z"
   },
   {
    "duration": 292,
    "start_time": "2022-01-29T10:43:47.019Z"
   },
   {
    "duration": 451,
    "start_time": "2022-01-29T10:43:47.313Z"
   },
   {
    "duration": 89,
    "start_time": "2022-01-29T10:43:47.767Z"
   },
   {
    "duration": 180,
    "start_time": "2022-01-29T10:43:47.859Z"
   },
   {
    "duration": 83,
    "start_time": "2022-01-29T10:43:48.042Z"
   },
   {
    "duration": 108,
    "start_time": "2022-01-29T10:43:48.129Z"
   },
   {
    "duration": 59,
    "start_time": "2022-01-29T10:43:48.243Z"
   },
   {
    "duration": 28,
    "start_time": "2022-01-29T10:43:48.305Z"
   },
   {
    "duration": 11,
    "start_time": "2022-01-29T10:43:48.338Z"
   },
   {
    "duration": 451,
    "start_time": "2022-01-29T10:43:48.351Z"
   },
   {
    "duration": 26,
    "start_time": "2022-01-29T10:43:48.804Z"
   },
   {
    "duration": 508,
    "start_time": "2022-01-29T10:43:48.833Z"
   },
   {
    "duration": 467,
    "start_time": "2022-01-29T10:43:49.344Z"
   },
   {
    "duration": 1979,
    "start_time": "2022-01-29T10:44:48.234Z"
   },
   {
    "duration": 1955,
    "start_time": "2022-01-29T10:45:46.514Z"
   },
   {
    "duration": 1900,
    "start_time": "2022-01-29T10:46:46.150Z"
   },
   {
    "duration": 1939,
    "start_time": "2022-01-29T10:48:30.085Z"
   },
   {
    "duration": 369,
    "start_time": "2022-01-29T10:51:31.953Z"
   },
   {
    "duration": 280,
    "start_time": "2022-01-29T10:51:56.752Z"
   },
   {
    "duration": 94,
    "start_time": "2022-01-29T10:52:48.093Z"
   },
   {
    "duration": 15,
    "start_time": "2022-01-29T10:53:00.675Z"
   },
   {
    "duration": 610,
    "start_time": "2022-01-29T10:55:49.338Z"
   },
   {
    "duration": 18,
    "start_time": "2022-01-29T10:57:56.806Z"
   },
   {
    "duration": 2054,
    "start_time": "2022-01-29T10:58:00.935Z"
   },
   {
    "duration": 17,
    "start_time": "2022-01-29T10:59:27.596Z"
   },
   {
    "duration": 28,
    "start_time": "2022-01-29T11:03:49.440Z"
   },
   {
    "duration": 2479,
    "start_time": "2022-01-29T11:03:56.108Z"
   },
   {
    "duration": 1896,
    "start_time": "2022-01-29T11:05:56.259Z"
   },
   {
    "duration": 1681,
    "start_time": "2022-01-29T11:09:41.678Z"
   },
   {
    "duration": 155,
    "start_time": "2022-01-29T11:13:52.126Z"
   },
   {
    "duration": 2163,
    "start_time": "2022-01-29T11:19:49.116Z"
   },
   {
    "duration": 1918,
    "start_time": "2022-01-29T11:24:57.555Z"
   },
   {
    "duration": 2085,
    "start_time": "2022-01-29T11:25:37.515Z"
   },
   {
    "duration": 2034,
    "start_time": "2022-01-29T11:26:59.573Z"
   },
   {
    "duration": 105,
    "start_time": "2022-01-29T11:29:11.145Z"
   },
   {
    "duration": 110,
    "start_time": "2022-01-29T11:29:39.079Z"
   },
   {
    "duration": 1909,
    "start_time": "2022-01-29T11:30:30.819Z"
   },
   {
    "duration": 2080,
    "start_time": "2022-01-29T11:30:39.516Z"
   },
   {
    "duration": 1958,
    "start_time": "2022-01-29T11:30:44.999Z"
   },
   {
    "duration": 130,
    "start_time": "2022-01-29T11:59:29.155Z"
   },
   {
    "duration": 1790,
    "start_time": "2022-01-29T11:59:39.082Z"
   },
   {
    "duration": 2396,
    "start_time": "2022-01-29T12:08:12.336Z"
   },
   {
    "duration": 2359,
    "start_time": "2022-01-29T12:08:40.695Z"
   },
   {
    "duration": 2284,
    "start_time": "2022-01-29T12:08:53.821Z"
   },
   {
    "duration": 1365,
    "start_time": "2022-01-29T12:09:05.121Z"
   },
   {
    "duration": 2348,
    "start_time": "2022-01-29T12:09:11.796Z"
   },
   {
    "duration": 2496,
    "start_time": "2022-01-29T12:10:12.904Z"
   },
   {
    "duration": 831,
    "start_time": "2022-01-29T12:11:46.253Z"
   },
   {
    "duration": 756,
    "start_time": "2022-01-29T12:11:50.239Z"
   },
   {
    "duration": 2496,
    "start_time": "2022-01-29T12:11:54.877Z"
   },
   {
    "duration": 1206,
    "start_time": "2022-01-29T12:14:30.489Z"
   },
   {
    "duration": 2809,
    "start_time": "2022-01-29T12:14:38.093Z"
   },
   {
    "duration": 7121,
    "start_time": "2022-01-29T12:20:51.054Z"
   },
   {
    "duration": 15,
    "start_time": "2022-01-29T12:21:36.410Z"
   },
   {
    "duration": 7474,
    "start_time": "2022-01-29T12:22:03.703Z"
   },
   {
    "duration": 7396,
    "start_time": "2022-01-29T12:22:22.264Z"
   },
   {
    "duration": 304,
    "start_time": "2022-01-29T12:23:23.076Z"
   },
   {
    "duration": 16,
    "start_time": "2022-01-29T12:24:04.809Z"
   },
   {
    "duration": 10,
    "start_time": "2022-01-29T12:24:11.274Z"
   },
   {
    "duration": 1208,
    "start_time": "2022-01-29T12:24:47.555Z"
   },
   {
    "duration": 8,
    "start_time": "2022-01-29T12:24:59.309Z"
   },
   {
    "duration": 732,
    "start_time": "2022-01-29T12:29:58.963Z"
   },
   {
    "duration": 902,
    "start_time": "2022-01-29T12:30:26.086Z"
   },
   {
    "duration": 303,
    "start_time": "2022-01-29T12:31:22.440Z"
   },
   {
    "duration": 408,
    "start_time": "2022-01-29T12:31:36.185Z"
   },
   {
    "duration": 378,
    "start_time": "2022-01-29T12:31:59.385Z"
   },
   {
    "duration": 23,
    "start_time": "2022-01-29T12:32:19.728Z"
   },
   {
    "duration": 20,
    "start_time": "2022-01-29T12:32:36.010Z"
   },
   {
    "duration": 2262,
    "start_time": "2022-01-29T12:33:17.176Z"
   },
   {
    "duration": 2458,
    "start_time": "2022-01-29T12:33:50.427Z"
   },
   {
    "duration": 2380,
    "start_time": "2022-01-29T12:35:55.677Z"
   },
   {
    "duration": 335,
    "start_time": "2022-01-29T13:47:10.836Z"
   },
   {
    "duration": 502,
    "start_time": "2022-01-29T13:47:47.128Z"
   },
   {
    "duration": 14,
    "start_time": "2022-01-29T13:50:21.230Z"
   },
   {
    "duration": 16,
    "start_time": "2022-01-29T13:52:28.611Z"
   },
   {
    "duration": 514,
    "start_time": "2022-01-29T13:52:56.123Z"
   },
   {
    "duration": 370,
    "start_time": "2022-01-29T13:53:23.747Z"
   },
   {
    "duration": 621,
    "start_time": "2022-01-29T13:54:26.600Z"
   },
   {
    "duration": 900,
    "start_time": "2022-01-29T13:55:20.919Z"
   },
   {
    "duration": 528,
    "start_time": "2022-01-29T13:55:36.064Z"
   },
   {
    "duration": 697,
    "start_time": "2022-01-29T13:56:10.274Z"
   },
   {
    "duration": 5,
    "start_time": "2022-01-29T13:56:35.973Z"
   },
   {
    "duration": 17,
    "start_time": "2022-01-29T13:56:35.981Z"
   },
   {
    "duration": 565,
    "start_time": "2022-01-29T13:56:36.002Z"
   },
   {
    "duration": 88,
    "start_time": "2022-01-29T13:56:36.571Z"
   },
   {
    "duration": 693,
    "start_time": "2022-01-29T13:56:36.661Z"
   },
   {
    "duration": 266,
    "start_time": "2022-01-29T13:56:37.357Z"
   },
   {
    "duration": 460,
    "start_time": "2022-01-29T13:56:37.626Z"
   },
   {
    "duration": 80,
    "start_time": "2022-01-29T13:56:38.090Z"
   },
   {
    "duration": 185,
    "start_time": "2022-01-29T13:56:38.175Z"
   },
   {
    "duration": 71,
    "start_time": "2022-01-29T13:56:38.362Z"
   },
   {
    "duration": 101,
    "start_time": "2022-01-29T13:56:38.435Z"
   },
   {
    "duration": 39,
    "start_time": "2022-01-29T13:56:38.539Z"
   },
   {
    "duration": 4,
    "start_time": "2022-01-29T13:56:38.580Z"
   },
   {
    "duration": 8,
    "start_time": "2022-01-29T13:56:38.587Z"
   },
   {
    "duration": 397,
    "start_time": "2022-01-29T13:56:38.597Z"
   },
   {
    "duration": 26,
    "start_time": "2022-01-29T13:56:38.997Z"
   },
   {
    "duration": 434,
    "start_time": "2022-01-29T13:56:39.025Z"
   },
   {
    "duration": 1864,
    "start_time": "2022-01-29T13:56:39.461Z"
   },
   {
    "duration": 638,
    "start_time": "2022-01-29T13:56:41.327Z"
   },
   {
    "duration": 1956,
    "start_time": "2022-01-29T13:56:41.969Z"
   },
   {
    "duration": 9,
    "start_time": "2022-01-29T13:56:43.928Z"
   },
   {
    "duration": 612,
    "start_time": "2022-01-29T13:56:43.939Z"
   },
   {
    "duration": 575,
    "start_time": "2022-01-29T13:57:18.047Z"
   },
   {
    "duration": 513,
    "start_time": "2022-01-29T13:57:37.863Z"
   },
   {
    "duration": 5,
    "start_time": "2022-01-29T13:58:45.801Z"
   },
   {
    "duration": 18,
    "start_time": "2022-01-29T13:58:45.809Z"
   },
   {
    "duration": 521,
    "start_time": "2022-01-29T13:58:45.830Z"
   },
   {
    "duration": 80,
    "start_time": "2022-01-29T13:58:46.353Z"
   },
   {
    "duration": 698,
    "start_time": "2022-01-29T13:58:46.436Z"
   },
   {
    "duration": 272,
    "start_time": "2022-01-29T13:58:47.136Z"
   },
   {
    "duration": 520,
    "start_time": "2022-01-29T13:58:47.410Z"
   },
   {
    "duration": 93,
    "start_time": "2022-01-29T13:58:47.933Z"
   },
   {
    "duration": 174,
    "start_time": "2022-01-29T13:58:48.031Z"
   },
   {
    "duration": 72,
    "start_time": "2022-01-29T13:58:48.207Z"
   },
   {
    "duration": 125,
    "start_time": "2022-01-29T13:58:48.281Z"
   },
   {
    "duration": 153,
    "start_time": "2022-01-29T13:58:48.408Z"
   },
   {
    "duration": 5,
    "start_time": "2022-01-29T13:58:48.564Z"
   },
   {
    "duration": 10,
    "start_time": "2022-01-29T13:58:48.572Z"
   },
   {
    "duration": 404,
    "start_time": "2022-01-29T13:58:48.584Z"
   },
   {
    "duration": 16,
    "start_time": "2022-01-29T13:58:48.991Z"
   },
   {
    "duration": 461,
    "start_time": "2022-01-29T13:58:49.024Z"
   },
   {
    "duration": 1923,
    "start_time": "2022-01-29T13:58:49.488Z"
   },
   {
    "duration": 535,
    "start_time": "2022-01-29T13:58:51.422Z"
   },
   {
    "duration": 2011,
    "start_time": "2022-01-29T13:58:51.960Z"
   },
   {
    "duration": 10,
    "start_time": "2022-01-29T13:58:53.974Z"
   },
   {
    "duration": 825,
    "start_time": "2022-01-29T13:58:53.987Z"
   },
   {
    "duration": 4,
    "start_time": "2022-01-29T13:59:33.969Z"
   },
   {
    "duration": 19,
    "start_time": "2022-01-29T13:59:33.976Z"
   },
   {
    "duration": 496,
    "start_time": "2022-01-29T13:59:33.998Z"
   },
   {
    "duration": 78,
    "start_time": "2022-01-29T13:59:34.497Z"
   },
   {
    "duration": 686,
    "start_time": "2022-01-29T13:59:34.578Z"
   },
   {
    "duration": 282,
    "start_time": "2022-01-29T13:59:35.267Z"
   },
   {
    "duration": 489,
    "start_time": "2022-01-29T13:59:35.551Z"
   },
   {
    "duration": 93,
    "start_time": "2022-01-29T13:59:36.044Z"
   },
   {
    "duration": 171,
    "start_time": "2022-01-29T13:59:36.141Z"
   },
   {
    "duration": 70,
    "start_time": "2022-01-29T13:59:36.315Z"
   },
   {
    "duration": 113,
    "start_time": "2022-01-29T13:59:36.388Z"
   },
   {
    "duration": 53,
    "start_time": "2022-01-29T13:59:36.504Z"
   },
   {
    "duration": 5,
    "start_time": "2022-01-29T13:59:36.560Z"
   },
   {
    "duration": 9,
    "start_time": "2022-01-29T13:59:36.567Z"
   },
   {
    "duration": 409,
    "start_time": "2022-01-29T13:59:36.578Z"
   },
   {
    "duration": 15,
    "start_time": "2022-01-29T13:59:36.989Z"
   },
   {
    "duration": 453,
    "start_time": "2022-01-29T13:59:37.006Z"
   },
   {
    "duration": 1709,
    "start_time": "2022-01-29T13:59:37.461Z"
   },
   {
    "duration": 540,
    "start_time": "2022-01-29T13:59:39.172Z"
   },
   {
    "duration": 1999,
    "start_time": "2022-01-29T13:59:39.714Z"
   },
   {
    "duration": 12,
    "start_time": "2022-01-29T13:59:41.716Z"
   },
   {
    "duration": 520,
    "start_time": "2022-01-29T13:59:41.731Z"
   },
   {
    "duration": 403,
    "start_time": "2022-01-29T14:00:02.159Z"
   },
   {
    "duration": 451,
    "start_time": "2022-01-29T14:00:13.866Z"
   },
   {
    "duration": 27,
    "start_time": "2022-01-29T14:01:04.596Z"
   },
   {
    "duration": 357,
    "start_time": "2022-01-29T14:02:03.250Z"
   },
   {
    "duration": 345,
    "start_time": "2022-01-29T14:02:26.268Z"
   },
   {
    "duration": 898,
    "start_time": "2022-01-29T14:03:46.334Z"
   },
   {
    "duration": 4,
    "start_time": "2022-01-29T14:05:35.345Z"
   },
   {
    "duration": 840,
    "start_time": "2022-01-29T14:05:56.687Z"
   },
   {
    "duration": 798,
    "start_time": "2022-01-29T14:07:58.555Z"
   },
   {
    "duration": 642,
    "start_time": "2022-01-29T14:08:38.426Z"
   },
   {
    "duration": 668,
    "start_time": "2022-01-29T14:09:09.275Z"
   },
   {
    "duration": 686,
    "start_time": "2022-01-29T14:09:21.078Z"
   },
   {
    "duration": 770,
    "start_time": "2022-01-29T14:09:45.525Z"
   },
   {
    "duration": 674,
    "start_time": "2022-01-29T14:11:12.304Z"
   },
   {
    "duration": 745,
    "start_time": "2022-01-29T14:11:53.382Z"
   },
   {
    "duration": 717,
    "start_time": "2022-01-29T14:14:38.009Z"
   },
   {
    "duration": 815,
    "start_time": "2022-01-29T14:18:43.089Z"
   },
   {
    "duration": 5788,
    "start_time": "2022-01-29T14:44:20.268Z"
   },
   {
    "duration": 5797,
    "start_time": "2022-01-29T14:46:20.066Z"
   },
   {
    "duration": 28,
    "start_time": "2022-01-29T15:21:45.865Z"
   },
   {
    "duration": 14,
    "start_time": "2022-01-29T15:29:54.354Z"
   },
   {
    "duration": 25,
    "start_time": "2022-01-29T15:31:43.136Z"
   },
   {
    "duration": 94,
    "start_time": "2022-01-29T15:32:03.056Z"
   },
   {
    "duration": 21,
    "start_time": "2022-01-29T15:32:10.065Z"
   },
   {
    "duration": 15,
    "start_time": "2022-01-29T15:32:37.200Z"
   },
   {
    "duration": 19,
    "start_time": "2022-01-29T15:33:37.925Z"
   },
   {
    "duration": 18,
    "start_time": "2022-01-29T15:33:44.405Z"
   },
   {
    "duration": 121,
    "start_time": "2022-01-29T15:35:22.794Z"
   },
   {
    "duration": 25,
    "start_time": "2022-01-29T15:35:42.094Z"
   },
   {
    "duration": 1744,
    "start_time": "2022-01-29T15:59:57.199Z"
   },
   {
    "duration": 24,
    "start_time": "2022-01-29T15:59:58.946Z"
   },
   {
    "duration": 555,
    "start_time": "2022-01-29T15:59:58.974Z"
   },
   {
    "duration": 93,
    "start_time": "2022-01-29T15:59:59.532Z"
   },
   {
    "duration": 708,
    "start_time": "2022-01-29T15:59:59.627Z"
   },
   {
    "duration": 295,
    "start_time": "2022-01-29T16:00:00.338Z"
   },
   {
    "duration": 577,
    "start_time": "2022-01-29T16:00:00.636Z"
   },
   {
    "duration": 76,
    "start_time": "2022-01-29T16:00:01.217Z"
   },
   {
    "duration": 204,
    "start_time": "2022-01-29T16:00:01.296Z"
   },
   {
    "duration": 77,
    "start_time": "2022-01-29T16:00:01.503Z"
   },
   {
    "duration": 120,
    "start_time": "2022-01-29T16:00:01.582Z"
   },
   {
    "duration": 44,
    "start_time": "2022-01-29T16:00:01.704Z"
   },
   {
    "duration": 5,
    "start_time": "2022-01-29T16:00:01.750Z"
   },
   {
    "duration": 14,
    "start_time": "2022-01-29T16:00:01.757Z"
   },
   {
    "duration": 411,
    "start_time": "2022-01-29T16:00:01.773Z"
   },
   {
    "duration": 38,
    "start_time": "2022-01-29T16:00:02.186Z"
   },
   {
    "duration": 618,
    "start_time": "2022-01-29T16:00:02.227Z"
   },
   {
    "duration": 909,
    "start_time": "2022-01-29T16:00:02.848Z"
   },
   {
    "duration": 3115,
    "start_time": "2022-01-29T16:00:00.645Z"
   },
   {
    "duration": 3116,
    "start_time": "2022-01-29T16:00:00.647Z"
   },
   {
    "duration": 3081,
    "start_time": "2022-01-29T16:00:00.684Z"
   },
   {
    "duration": 3083,
    "start_time": "2022-01-29T16:00:00.685Z"
   },
   {
    "duration": 1584,
    "start_time": "2022-01-29T16:01:33.698Z"
   },
   {
    "duration": 18,
    "start_time": "2022-01-29T16:01:35.285Z"
   },
   {
    "duration": 2306,
    "start_time": "2022-01-29T16:01:35.307Z"
   },
   {
    "duration": 92,
    "start_time": "2022-01-29T16:01:37.616Z"
   },
   {
    "duration": 861,
    "start_time": "2022-01-29T16:01:37.722Z"
   },
   {
    "duration": 308,
    "start_time": "2022-01-29T16:01:38.586Z"
   },
   {
    "duration": 558,
    "start_time": "2022-01-29T16:01:38.896Z"
   },
   {
    "duration": 86,
    "start_time": "2022-01-29T16:01:39.457Z"
   },
   {
    "duration": 177,
    "start_time": "2022-01-29T16:01:39.546Z"
   },
   {
    "duration": 68,
    "start_time": "2022-01-29T16:01:39.725Z"
   },
   {
    "duration": 116,
    "start_time": "2022-01-29T16:01:39.795Z"
   },
   {
    "duration": 40,
    "start_time": "2022-01-29T16:01:39.913Z"
   },
   {
    "duration": 4,
    "start_time": "2022-01-29T16:01:39.956Z"
   },
   {
    "duration": 7,
    "start_time": "2022-01-29T16:01:39.963Z"
   },
   {
    "duration": 403,
    "start_time": "2022-01-29T16:01:39.973Z"
   },
   {
    "duration": 28,
    "start_time": "2022-01-29T16:01:40.378Z"
   },
   {
    "duration": 460,
    "start_time": "2022-01-29T16:01:40.423Z"
   },
   {
    "duration": 892,
    "start_time": "2022-01-29T16:01:40.885Z"
   },
   {
    "duration": 3120,
    "start_time": "2022-01-29T16:01:38.659Z"
   },
   {
    "duration": 3120,
    "start_time": "2022-01-29T16:01:38.660Z"
   },
   {
    "duration": 3120,
    "start_time": "2022-01-29T16:01:38.662Z"
   },
   {
    "duration": 3085,
    "start_time": "2022-01-29T16:01:38.699Z"
   },
   {
    "duration": 1915,
    "start_time": "2022-01-29T16:03:07.826Z"
   },
   {
    "duration": 1506,
    "start_time": "2022-01-29T16:03:32.818Z"
   },
   {
    "duration": 17,
    "start_time": "2022-01-29T16:03:34.327Z"
   },
   {
    "duration": 532,
    "start_time": "2022-01-29T16:03:34.347Z"
   },
   {
    "duration": 87,
    "start_time": "2022-01-29T16:03:34.882Z"
   },
   {
    "duration": 704,
    "start_time": "2022-01-29T16:03:34.971Z"
   },
   {
    "duration": 399,
    "start_time": "2022-01-29T16:03:35.678Z"
   },
   {
    "duration": 530,
    "start_time": "2022-01-29T16:03:36.080Z"
   },
   {
    "duration": 73,
    "start_time": "2022-01-29T16:03:36.613Z"
   },
   {
    "duration": 186,
    "start_time": "2022-01-29T16:03:36.689Z"
   },
   {
    "duration": 91,
    "start_time": "2022-01-29T16:03:36.878Z"
   },
   {
    "duration": 127,
    "start_time": "2022-01-29T16:03:36.971Z"
   },
   {
    "duration": 37,
    "start_time": "2022-01-29T16:03:37.101Z"
   },
   {
    "duration": 4,
    "start_time": "2022-01-29T16:03:37.141Z"
   },
   {
    "duration": 8,
    "start_time": "2022-01-29T16:03:37.148Z"
   },
   {
    "duration": 413,
    "start_time": "2022-01-29T16:03:37.159Z"
   },
   {
    "duration": 49,
    "start_time": "2022-01-29T16:03:37.574Z"
   },
   {
    "duration": 731,
    "start_time": "2022-01-29T16:03:37.626Z"
   },
   {
    "duration": 2090,
    "start_time": "2022-01-29T16:03:38.360Z"
   },
   {
    "duration": 649,
    "start_time": "2022-01-29T16:03:40.452Z"
   },
   {
    "duration": 2120,
    "start_time": "2022-01-29T16:03:41.103Z"
   },
   {
    "duration": 5803,
    "start_time": "2022-01-29T16:03:43.226Z"
   },
   {
    "duration": 25,
    "start_time": "2022-01-29T16:03:49.032Z"
   },
   {
    "duration": 104,
    "start_time": "2022-02-07T17:16:20.676Z"
   },
   {
    "duration": 400,
    "start_time": "2022-02-07T17:19:11.872Z"
   },
   {
    "duration": 1635,
    "start_time": "2022-02-07T17:19:29.285Z"
   },
   {
    "duration": 19,
    "start_time": "2022-02-07T17:19:30.923Z"
   },
   {
    "duration": 582,
    "start_time": "2022-02-07T17:19:30.944Z"
   },
   {
    "duration": 3,
    "start_time": "2022-02-07T17:19:31.529Z"
   },
   {
    "duration": 101,
    "start_time": "2022-02-07T17:19:31.536Z"
   },
   {
    "duration": 736,
    "start_time": "2022-02-07T17:19:31.639Z"
   },
   {
    "duration": 294,
    "start_time": "2022-02-07T17:19:32.378Z"
   },
   {
    "duration": 611,
    "start_time": "2022-02-07T17:19:32.676Z"
   },
   {
    "duration": 108,
    "start_time": "2022-02-07T17:19:33.290Z"
   },
   {
    "duration": 209,
    "start_time": "2022-02-07T17:19:33.401Z"
   },
   {
    "duration": 74,
    "start_time": "2022-02-07T17:19:33.613Z"
   },
   {
    "duration": 111,
    "start_time": "2022-02-07T17:19:33.690Z"
   },
   {
    "duration": 38,
    "start_time": "2022-02-07T17:19:33.803Z"
   },
   {
    "duration": 4,
    "start_time": "2022-02-07T17:19:33.843Z"
   },
   {
    "duration": 9,
    "start_time": "2022-02-07T17:19:33.849Z"
   },
   {
    "duration": 454,
    "start_time": "2022-02-07T17:19:33.861Z"
   },
   {
    "duration": 32,
    "start_time": "2022-02-07T17:19:34.318Z"
   },
   {
    "duration": 504,
    "start_time": "2022-02-07T17:19:34.353Z"
   },
   {
    "duration": 1870,
    "start_time": "2022-02-07T17:19:34.860Z"
   },
   {
    "duration": 570,
    "start_time": "2022-02-07T17:19:36.732Z"
   },
   {
    "duration": 1979,
    "start_time": "2022-02-07T17:19:37.305Z"
   },
   {
    "duration": 5674,
    "start_time": "2022-02-07T17:19:39.287Z"
   },
   {
    "duration": 23,
    "start_time": "2022-02-07T17:19:44.965Z"
   },
   {
    "duration": 764,
    "start_time": "2022-02-07T17:22:13.972Z"
   },
   {
    "duration": 154,
    "start_time": "2022-02-07T17:25:19.660Z"
   },
   {
    "duration": 574,
    "start_time": "2022-02-07T17:25:25.561Z"
   },
   {
    "duration": 6,
    "start_time": "2022-02-07T17:25:55.496Z"
   },
   {
    "duration": 6,
    "start_time": "2022-02-07T17:26:42.023Z"
   },
   {
    "duration": 515,
    "start_time": "2022-02-07T17:27:12.449Z"
   },
   {
    "duration": 4,
    "start_time": "2022-02-07T17:27:15.917Z"
   },
   {
    "duration": 5,
    "start_time": "2022-02-07T17:27:18.612Z"
   },
   {
    "duration": 1609,
    "start_time": "2022-02-07T17:27:24.492Z"
   },
   {
    "duration": 1717,
    "start_time": "2022-02-07T17:29:06.231Z"
   },
   {
    "duration": 112,
    "start_time": "2022-02-07T17:44:04.380Z"
   },
   {
    "duration": 15,
    "start_time": "2022-02-07T17:53:41.993Z"
   },
   {
    "duration": 17,
    "start_time": "2022-02-07T17:53:52.360Z"
   },
   {
    "duration": 15,
    "start_time": "2022-02-07T17:54:38.995Z"
   },
   {
    "duration": 21,
    "start_time": "2022-02-07T17:55:06.694Z"
   },
   {
    "duration": 28,
    "start_time": "2022-02-07T17:55:43.820Z"
   },
   {
    "duration": 21,
    "start_time": "2022-02-07T17:56:51.891Z"
   },
   {
    "duration": 30,
    "start_time": "2022-02-07T17:57:14.108Z"
   },
   {
    "duration": 21,
    "start_time": "2022-02-07T17:57:57.589Z"
   },
   {
    "duration": 34,
    "start_time": "2022-02-07T17:58:53.128Z"
   },
   {
    "duration": 7497,
    "start_time": "2022-02-07T18:00:20.897Z"
   },
   {
    "duration": 19,
    "start_time": "2022-02-07T18:00:56.119Z"
   },
   {
    "duration": 20,
    "start_time": "2022-02-07T18:02:36.479Z"
   },
   {
    "duration": 15,
    "start_time": "2022-02-07T18:02:49.195Z"
   },
   {
    "duration": 11535,
    "start_time": "2022-02-07T18:07:29.700Z"
   },
   {
    "duration": 169,
    "start_time": "2022-02-07T18:08:10.726Z"
   },
   {
    "duration": 5,
    "start_time": "2022-02-07T18:08:17.453Z"
   },
   {
    "duration": 22,
    "start_time": "2022-02-07T18:08:17.461Z"
   },
   {
    "duration": 483,
    "start_time": "2022-02-07T18:08:17.486Z"
   },
   {
    "duration": 12,
    "start_time": "2022-02-07T18:08:17.972Z"
   },
   {
    "duration": 1382,
    "start_time": "2022-02-07T18:08:17.986Z"
   },
   {
    "duration": 172,
    "start_time": "2022-02-07T18:08:19.371Z"
   },
   {
    "duration": 173,
    "start_time": "2022-02-07T18:08:30.808Z"
   },
   {
    "duration": 197,
    "start_time": "2022-02-07T18:09:34.686Z"
   },
   {
    "duration": 190,
    "start_time": "2022-02-07T18:13:05.047Z"
   },
   {
    "duration": 283,
    "start_time": "2022-02-07T18:13:20.451Z"
   },
   {
    "duration": 340,
    "start_time": "2022-02-08T16:48:05.112Z"
   },
   {
    "duration": 772,
    "start_time": "2022-02-08T16:48:18.783Z"
   },
   {
    "duration": 1514,
    "start_time": "2022-02-08T17:01:45.359Z"
   },
   {
    "duration": 19,
    "start_time": "2022-02-08T17:01:46.875Z"
   },
   {
    "duration": 515,
    "start_time": "2022-02-08T17:01:46.897Z"
   },
   {
    "duration": 3,
    "start_time": "2022-02-08T17:01:47.415Z"
   },
   {
    "duration": 1782,
    "start_time": "2022-02-08T17:01:47.421Z"
   },
   {
    "duration": 193,
    "start_time": "2022-02-08T17:01:49.206Z"
   },
   {
    "duration": 197,
    "start_time": "2022-02-08T17:01:49.402Z"
   },
   {
    "duration": 86,
    "start_time": "2022-02-08T17:01:49.602Z"
   },
   {
    "duration": 105,
    "start_time": "2022-02-08T17:01:49.692Z"
   },
   {
    "duration": 41,
    "start_time": "2022-02-08T17:01:49.801Z"
   },
   {
    "duration": 6,
    "start_time": "2022-02-08T17:01:49.844Z"
   },
   {
    "duration": 9,
    "start_time": "2022-02-08T17:01:49.870Z"
   },
   {
    "duration": 548,
    "start_time": "2022-02-08T17:01:49.882Z"
   },
   {
    "duration": 45,
    "start_time": "2022-02-08T17:01:50.433Z"
   },
   {
    "duration": 501,
    "start_time": "2022-02-08T17:01:50.480Z"
   },
   {
    "duration": 2057,
    "start_time": "2022-02-08T17:01:50.985Z"
   },
   {
    "duration": 578,
    "start_time": "2022-02-08T17:01:53.045Z"
   },
   {
    "duration": 2209,
    "start_time": "2022-02-08T17:01:53.626Z"
   },
   {
    "duration": 6083,
    "start_time": "2022-02-08T17:01:55.838Z"
   },
   {
    "duration": 48,
    "start_time": "2022-02-08T17:02:01.924Z"
   },
   {
    "duration": 6529,
    "start_time": "2022-02-08T17:07:20.495Z"
   },
   {
    "duration": 5,
    "start_time": "2022-02-08T17:08:23.414Z"
   },
   {
    "duration": 19,
    "start_time": "2022-02-08T17:08:23.421Z"
   },
   {
    "duration": 498,
    "start_time": "2022-02-08T17:08:23.443Z"
   },
   {
    "duration": 4,
    "start_time": "2022-02-08T17:08:23.943Z"
   },
   {
    "duration": 1778,
    "start_time": "2022-02-08T17:08:23.950Z"
   },
   {
    "duration": 563,
    "start_time": "2022-02-08T17:08:25.730Z"
   },
   {
    "duration": 4,
    "start_time": "2022-02-08T17:10:05.256Z"
   },
   {
    "duration": 18,
    "start_time": "2022-02-08T17:10:05.263Z"
   },
   {
    "duration": 502,
    "start_time": "2022-02-08T17:10:05.284Z"
   },
   {
    "duration": 14,
    "start_time": "2022-02-08T17:10:05.789Z"
   },
   {
    "duration": 1613,
    "start_time": "2022-02-08T17:10:05.807Z"
   },
   {
    "duration": 848,
    "start_time": "2022-02-08T17:10:07.422Z"
   },
   {
    "duration": 277,
    "start_time": "2022-02-08T17:56:48.584Z"
   },
   {
    "duration": 5,
    "start_time": "2022-02-08T17:57:01.248Z"
   },
   {
    "duration": 21,
    "start_time": "2022-02-08T17:57:01.257Z"
   },
   {
    "duration": 546,
    "start_time": "2022-02-08T17:57:01.282Z"
   },
   {
    "duration": 13,
    "start_time": "2022-02-08T17:57:01.831Z"
   },
   {
    "duration": 1682,
    "start_time": "2022-02-08T17:57:01.848Z"
   },
   {
    "duration": 832,
    "start_time": "2022-02-08T17:57:03.533Z"
   },
   {
    "duration": 535,
    "start_time": "2022-02-08T17:57:04.369Z"
   },
   {
    "duration": 210,
    "start_time": "2022-02-08T17:57:04.907Z"
   },
   {
    "duration": 84,
    "start_time": "2022-02-08T17:57:05.119Z"
   },
   {
    "duration": 100,
    "start_time": "2022-02-08T17:57:05.206Z"
   },
   {
    "duration": 106,
    "start_time": "2022-02-08T18:00:56.468Z"
   },
   {
    "duration": 91,
    "start_time": "2022-02-08T18:01:30.609Z"
   },
   {
    "duration": 317,
    "start_time": "2022-02-08T18:02:07.865Z"
   },
   {
    "duration": 4,
    "start_time": "2022-02-08T18:02:20.013Z"
   },
   {
    "duration": 30,
    "start_time": "2022-02-08T18:02:20.020Z"
   },
   {
    "duration": 534,
    "start_time": "2022-02-08T18:02:20.054Z"
   },
   {
    "duration": 17,
    "start_time": "2022-02-08T18:02:20.592Z"
   },
   {
    "duration": 1627,
    "start_time": "2022-02-08T18:02:20.612Z"
   },
   {
    "duration": 825,
    "start_time": "2022-02-08T18:02:22.242Z"
   },
   {
    "duration": 651,
    "start_time": "2022-02-08T18:02:23.070Z"
   },
   {
    "duration": 214,
    "start_time": "2022-02-08T18:02:23.723Z"
   },
   {
    "duration": 87,
    "start_time": "2022-02-08T18:02:23.941Z"
   },
   {
    "duration": 99,
    "start_time": "2022-02-08T18:02:24.031Z"
   },
   {
    "duration": 101,
    "start_time": "2022-02-08T18:03:46.821Z"
   },
   {
    "duration": 567,
    "start_time": "2022-02-08T18:27:58.904Z"
   },
   {
    "duration": 562,
    "start_time": "2022-02-08T18:28:13.710Z"
   },
   {
    "duration": 634,
    "start_time": "2022-02-08T18:28:31.711Z"
   },
   {
    "duration": 843,
    "start_time": "2022-02-08T18:29:09.703Z"
   },
   {
    "duration": 687,
    "start_time": "2022-02-08T18:30:02.616Z"
   },
   {
    "duration": 583,
    "start_time": "2022-02-08T18:31:38.119Z"
   },
   {
    "duration": 832,
    "start_time": "2022-02-08T18:32:37.157Z"
   },
   {
    "duration": 833,
    "start_time": "2022-02-08T18:33:04.483Z"
   },
   {
    "duration": 831,
    "start_time": "2022-02-08T18:33:46.563Z"
   },
   {
    "duration": 695,
    "start_time": "2022-02-08T18:34:12.726Z"
   },
   {
    "duration": 301,
    "start_time": "2022-02-08T18:37:39.056Z"
   },
   {
    "duration": 291,
    "start_time": "2022-02-08T18:37:50.293Z"
   },
   {
    "duration": 574,
    "start_time": "2022-02-08T18:39:50.820Z"
   },
   {
    "duration": 3599,
    "start_time": "2022-02-08T18:40:58.533Z"
   },
   {
    "duration": 3336,
    "start_time": "2022-02-08T18:41:30.809Z"
   },
   {
    "duration": 696,
    "start_time": "2022-02-08T18:41:48.308Z"
   },
   {
    "duration": 944,
    "start_time": "2022-02-08T18:42:42.819Z"
   },
   {
    "duration": 573,
    "start_time": "2022-02-08T18:44:33.453Z"
   },
   {
    "duration": 873,
    "start_time": "2022-02-08T18:45:46.251Z"
   },
   {
    "duration": 721,
    "start_time": "2022-02-08T18:47:13.780Z"
   },
   {
    "duration": 745,
    "start_time": "2022-02-08T18:47:46.528Z"
   },
   {
    "duration": 1876,
    "start_time": "2022-02-08T18:49:15.908Z"
   },
   {
    "duration": 1964,
    "start_time": "2022-02-08T18:50:57.544Z"
   },
   {
    "duration": 1854,
    "start_time": "2022-02-08T18:51:47.844Z"
   },
   {
    "duration": 884,
    "start_time": "2022-02-08T18:52:52.361Z"
   },
   {
    "duration": 4142,
    "start_time": "2022-02-08T18:54:16.891Z"
   },
   {
    "duration": 1204,
    "start_time": "2022-02-08T18:54:56.292Z"
   },
   {
    "duration": 328,
    "start_time": "2022-02-08T18:56:23.129Z"
   },
   {
    "duration": 408,
    "start_time": "2022-02-08T18:56:52.056Z"
   },
   {
    "duration": 12442,
    "start_time": "2022-02-08T18:57:13.794Z"
   },
   {
    "duration": 299,
    "start_time": "2022-02-08T18:57:33.353Z"
   },
   {
    "duration": 318,
    "start_time": "2022-02-08T18:57:49.755Z"
   },
   {
    "duration": 2066,
    "start_time": "2022-02-08T18:58:14.464Z"
   },
   {
    "duration": 461,
    "start_time": "2022-02-08T19:05:00.073Z"
   },
   {
    "duration": 458,
    "start_time": "2022-02-08T19:05:20.503Z"
   },
   {
    "duration": 1100,
    "start_time": "2022-02-08T19:08:09.523Z"
   },
   {
    "duration": 471,
    "start_time": "2022-02-08T19:15:35.131Z"
   },
   {
    "duration": 500,
    "start_time": "2022-02-08T19:15:40.844Z"
   },
   {
    "duration": 474,
    "start_time": "2022-02-08T19:15:47.706Z"
   },
   {
    "duration": 466,
    "start_time": "2022-02-08T19:16:28.309Z"
   },
   {
    "duration": 832,
    "start_time": "2022-02-08T19:16:37.966Z"
   },
   {
    "duration": 756,
    "start_time": "2022-02-08T19:16:49.033Z"
   },
   {
    "duration": 786,
    "start_time": "2022-02-08T19:17:03.173Z"
   },
   {
    "duration": 469,
    "start_time": "2022-02-08T19:23:31.062Z"
   },
   {
    "duration": 292,
    "start_time": "2022-02-08T19:25:34.322Z"
   },
   {
    "duration": 464,
    "start_time": "2022-02-08T19:27:57.675Z"
   },
   {
    "duration": 323,
    "start_time": "2022-02-08T19:29:41.607Z"
   },
   {
    "duration": 553,
    "start_time": "2022-02-08T19:30:15.754Z"
   },
   {
    "duration": 353,
    "start_time": "2022-02-08T19:43:08.618Z"
   },
   {
    "duration": 612,
    "start_time": "2022-02-08T19:43:25.289Z"
   },
   {
    "duration": 324,
    "start_time": "2022-02-08T19:43:39.104Z"
   },
   {
    "duration": 477,
    "start_time": "2022-02-08T19:44:30.172Z"
   },
   {
    "duration": 337,
    "start_time": "2022-02-08T19:44:46.777Z"
   },
   {
    "duration": 333,
    "start_time": "2022-02-08T19:45:17.667Z"
   },
   {
    "duration": 95,
    "start_time": "2022-02-08T19:45:55.677Z"
   },
   {
    "duration": 357,
    "start_time": "2022-02-08T19:46:02.312Z"
   },
   {
    "duration": 334,
    "start_time": "2022-02-08T19:47:46.062Z"
   },
   {
    "duration": 755,
    "start_time": "2022-02-08T19:48:16.431Z"
   },
   {
    "duration": 340,
    "start_time": "2022-02-08T19:48:32.979Z"
   },
   {
    "duration": 674,
    "start_time": "2022-02-08T19:49:19.379Z"
   },
   {
    "duration": 355,
    "start_time": "2022-02-08T19:53:03.059Z"
   },
   {
    "duration": 436,
    "start_time": "2022-02-08T19:54:07.510Z"
   },
   {
    "duration": 325,
    "start_time": "2022-02-08T19:54:23.423Z"
   },
   {
    "duration": 541,
    "start_time": "2022-02-08T19:54:47.192Z"
   },
   {
    "duration": 543,
    "start_time": "2022-02-08T19:55:08.218Z"
   },
   {
    "duration": 337,
    "start_time": "2022-02-08T19:58:46.293Z"
   },
   {
    "duration": 325,
    "start_time": "2022-02-08T19:59:00.478Z"
   },
   {
    "duration": 334,
    "start_time": "2022-02-08T19:59:21.157Z"
   },
   {
    "duration": 325,
    "start_time": "2022-02-08T20:01:46.507Z"
   },
   {
    "duration": 466,
    "start_time": "2022-02-08T20:04:39.720Z"
   },
   {
    "duration": 477,
    "start_time": "2022-02-08T20:06:22.016Z"
   },
   {
    "duration": 497,
    "start_time": "2022-02-08T20:06:42.061Z"
   },
   {
    "duration": 572,
    "start_time": "2022-02-08T20:09:06.374Z"
   },
   {
    "duration": 652,
    "start_time": "2022-02-08T20:09:44.570Z"
   },
   {
    "duration": 633,
    "start_time": "2022-02-08T20:11:30.658Z"
   },
   {
    "duration": 477,
    "start_time": "2022-02-08T20:12:00.170Z"
   },
   {
    "duration": 603,
    "start_time": "2022-02-08T20:12:05.769Z"
   },
   {
    "duration": 1330,
    "start_time": "2022-02-08T20:12:42.471Z"
   },
   {
    "duration": 589,
    "start_time": "2022-02-08T20:13:38.747Z"
   },
   {
    "duration": 592,
    "start_time": "2022-02-08T20:14:28.072Z"
   },
   {
    "duration": 608,
    "start_time": "2022-02-08T20:14:48.720Z"
   },
   {
    "duration": 1947,
    "start_time": "2022-02-08T20:15:33.981Z"
   },
   {
    "duration": 2144,
    "start_time": "2022-02-08T20:16:42.226Z"
   },
   {
    "duration": 1937,
    "start_time": "2022-02-08T20:17:00.782Z"
   },
   {
    "duration": 1927,
    "start_time": "2022-02-08T20:19:48.397Z"
   },
   {
    "duration": 2033,
    "start_time": "2022-02-08T20:20:31.394Z"
   },
   {
    "duration": 5695,
    "start_time": "2022-02-08T20:25:13.867Z"
   },
   {
    "duration": 7239,
    "start_time": "2022-02-08T20:27:28.723Z"
   },
   {
    "duration": 5599,
    "start_time": "2022-02-08T20:27:51.708Z"
   },
   {
    "duration": 5545,
    "start_time": "2022-02-08T20:28:01.957Z"
   },
   {
    "duration": 5475,
    "start_time": "2022-02-08T20:28:35.886Z"
   },
   {
    "duration": 110,
    "start_time": "2022-02-08T20:35:03.487Z"
   },
   {
    "duration": 1176,
    "start_time": "2022-02-08T20:35:23.043Z"
   },
   {
    "duration": 6540,
    "start_time": "2022-02-08T20:36:17.282Z"
   },
   {
    "duration": 982,
    "start_time": "2022-02-08T20:37:31.611Z"
   },
   {
    "duration": 5884,
    "start_time": "2022-02-08T20:44:27.955Z"
   },
   {
    "duration": 5896,
    "start_time": "2022-02-08T20:44:37.450Z"
   },
   {
    "duration": 6012,
    "start_time": "2022-02-08T20:44:49.994Z"
   },
   {
    "duration": 6633,
    "start_time": "2022-02-08T20:50:35.505Z"
   },
   {
    "duration": 5714,
    "start_time": "2022-02-08T20:51:56.391Z"
   },
   {
    "duration": 5756,
    "start_time": "2022-02-08T20:52:28.403Z"
   },
   {
    "duration": 5794,
    "start_time": "2022-02-08T20:53:07.978Z"
   },
   {
    "duration": 6744,
    "start_time": "2022-02-08T20:53:45.096Z"
   },
   {
    "duration": 1454,
    "start_time": "2022-02-08T20:54:56.405Z"
   },
   {
    "duration": 22,
    "start_time": "2022-02-08T20:54:57.862Z"
   },
   {
    "duration": 518,
    "start_time": "2022-02-08T20:54:57.887Z"
   },
   {
    "duration": 4,
    "start_time": "2022-02-08T20:54:58.407Z"
   },
   {
    "duration": 1902,
    "start_time": "2022-02-08T20:54:58.413Z"
   },
   {
    "duration": 850,
    "start_time": "2022-02-08T20:55:00.319Z"
   },
   {
    "duration": 558,
    "start_time": "2022-02-08T20:55:01.172Z"
   },
   {
    "duration": 209,
    "start_time": "2022-02-08T20:55:01.732Z"
   },
   {
    "duration": 84,
    "start_time": "2022-02-08T20:55:01.945Z"
   },
   {
    "duration": 120,
    "start_time": "2022-02-08T20:55:02.032Z"
   },
   {
    "duration": 45,
    "start_time": "2022-02-08T20:55:02.155Z"
   },
   {
    "duration": 6,
    "start_time": "2022-02-08T20:55:02.203Z"
   },
   {
    "duration": 9,
    "start_time": "2022-02-08T20:55:02.212Z"
   },
   {
    "duration": 533,
    "start_time": "2022-02-08T20:55:02.223Z"
   },
   {
    "duration": 33,
    "start_time": "2022-02-08T20:55:02.758Z"
   },
   {
    "duration": 505,
    "start_time": "2022-02-08T20:55:02.794Z"
   },
   {
    "duration": 2093,
    "start_time": "2022-02-08T20:55:03.301Z"
   },
   {
    "duration": 576,
    "start_time": "2022-02-08T20:55:05.396Z"
   },
   {
    "duration": 1949,
    "start_time": "2022-02-08T20:55:05.975Z"
   },
   {
    "duration": 5887,
    "start_time": "2022-02-08T20:55:07.927Z"
   },
   {
    "duration": 24,
    "start_time": "2022-02-08T20:55:13.816Z"
   },
   {
    "duration": 1572,
    "start_time": "2022-02-08T20:58:30.902Z"
   },
   {
    "duration": 19,
    "start_time": "2022-02-08T20:58:32.477Z"
   },
   {
    "duration": 533,
    "start_time": "2022-02-08T20:58:32.499Z"
   },
   {
    "duration": 4,
    "start_time": "2022-02-08T20:58:33.035Z"
   },
   {
    "duration": 1835,
    "start_time": "2022-02-08T20:58:33.042Z"
   },
   {
    "duration": 541,
    "start_time": "2022-02-08T20:58:34.879Z"
   },
   {
    "duration": 204,
    "start_time": "2022-02-08T20:58:35.422Z"
   },
   {
    "duration": 88,
    "start_time": "2022-02-08T20:58:35.630Z"
   },
   {
    "duration": 106,
    "start_time": "2022-02-08T20:58:35.720Z"
   },
   {
    "duration": 44,
    "start_time": "2022-02-08T20:58:35.829Z"
   },
   {
    "duration": 6,
    "start_time": "2022-02-08T20:58:35.875Z"
   },
   {
    "duration": 10,
    "start_time": "2022-02-08T20:58:35.883Z"
   },
   {
    "duration": 440,
    "start_time": "2022-02-08T20:58:35.896Z"
   },
   {
    "duration": 47,
    "start_time": "2022-02-08T20:58:36.339Z"
   },
   {
    "duration": 502,
    "start_time": "2022-02-08T20:58:36.388Z"
   },
   {
    "duration": 2023,
    "start_time": "2022-02-08T20:58:36.893Z"
   },
   {
    "duration": 606,
    "start_time": "2022-02-08T20:58:38.919Z"
   },
   {
    "duration": 1927,
    "start_time": "2022-02-08T20:58:39.528Z"
   },
   {
    "duration": 5902,
    "start_time": "2022-02-08T20:58:41.458Z"
   },
   {
    "duration": 26,
    "start_time": "2022-02-08T20:58:47.369Z"
   },
   {
    "duration": 1149,
    "start_time": "2022-06-08T18:27:43.399Z"
   },
   {
    "duration": 11,
    "start_time": "2022-06-08T18:27:44.549Z"
   },
   {
    "duration": 890,
    "start_time": "2022-06-08T18:27:44.561Z"
   },
   {
    "duration": 2,
    "start_time": "2022-06-08T18:27:45.453Z"
   },
   {
    "duration": 952,
    "start_time": "2022-06-08T18:27:45.457Z"
   },
   {
    "duration": 182,
    "start_time": "2022-06-08T18:27:46.411Z"
   },
   {
    "duration": 144,
    "start_time": "2022-06-08T18:27:46.595Z"
   },
   {
    "duration": 44,
    "start_time": "2022-06-08T18:27:46.741Z"
   },
   {
    "duration": 64,
    "start_time": "2022-06-08T18:27:46.786Z"
   },
   {
    "duration": 22,
    "start_time": "2022-06-08T18:27:46.852Z"
   },
   {
    "duration": 3,
    "start_time": "2022-06-08T18:27:46.875Z"
   },
   {
    "duration": 6,
    "start_time": "2022-06-08T18:27:46.880Z"
   },
   {
    "duration": 123,
    "start_time": "2022-06-08T18:27:46.887Z"
   },
   {
    "duration": 30,
    "start_time": "2022-06-08T18:27:47.012Z"
   },
   {
    "duration": 264,
    "start_time": "2022-06-08T18:27:47.043Z"
   },
   {
    "duration": 723,
    "start_time": "2022-06-08T18:27:47.309Z"
   },
   {
    "duration": 298,
    "start_time": "2022-06-08T18:27:48.033Z"
   },
   {
    "duration": 872,
    "start_time": "2022-06-08T18:27:48.333Z"
   },
   {
    "duration": 2374,
    "start_time": "2022-06-08T18:27:49.207Z"
   },
   {
    "duration": 8,
    "start_time": "2022-06-08T18:28:02.178Z"
   }
  ],
  "kernelspec": {
   "display_name": "Python 3 (ipykernel)",
   "language": "python",
   "name": "python3"
  },
  "language_info": {
   "codemirror_mode": {
    "name": "ipython",
    "version": 3
   },
   "file_extension": ".py",
   "mimetype": "text/x-python",
   "name": "python",
   "nbconvert_exporter": "python",
   "pygments_lexer": "ipython3",
   "version": "3.8.8"
  },
  "toc": {
   "base_numbering": 1,
   "nav_menu": {},
   "number_sections": true,
   "sideBar": true,
   "skip_h1_title": true,
   "title_cell": "Содержание",
   "title_sidebar": "Contents",
   "toc_cell": false,
   "toc_position": {
    "height": "calc(100% - 180px)",
    "left": "10px",
    "top": "150px",
    "width": "165.4px"
   },
   "toc_section_display": true,
   "toc_window_display": true
  }
 },
 "nbformat": 4,
 "nbformat_minor": 2
}
